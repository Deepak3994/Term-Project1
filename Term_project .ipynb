{
 "cells": [
  {
   "cell_type": "markdown",
   "metadata": {
    "collapsed": true
   },
   "source": [
    "  --------------------------------------------------------\n",
    "    Project Code :Python for Data Analysis\n",
    "    Participants : Pretik C P, Deepak Nayak\n",
    "    ME Big Data, SOIS\n",
    "  -----------------------------------------------------------\n"
   ]
  },
  {
   "cell_type": "code",
   "execution_count": 1,
   "metadata": {
    "collapsed": false
   },
   "outputs": [
    {
     "name": "stdout",
     "output_type": "stream",
     "text": [
      "loaded nvd3 IPython extension\n",
      "run nvd3.ipynb.initialize_javascript() to set up the notebook\n",
      "help(nvd3.ipynb.initialize_javascript) for options\n"
     ]
    },
    {
     "data": {
      "text/html": [
       "<link media=\"all\" href=\"files/nv.d3.css\" type=\"text/css\"\n",
       "                        rel=\"stylesheet\"/>"
      ],
      "text/plain": [
       "<IPython.core.display.HTML object>"
      ]
     },
     "metadata": {},
     "output_type": "display_data"
    },
    {
     "data": {
      "application/javascript": [
       "$.getScript(\"files/nv.d3.js\")"
      ],
      "text/plain": [
       "<IPython.core.display.Javascript object>"
      ]
     },
     "metadata": {},
     "output_type": "display_data"
    },
    {
     "data": {
      "application/javascript": [
       "$.getScript(\"files/d3.v3.js\", function() {\n",
       "                              $.getScript(\"files/nv.d3.js\", function() {})});"
      ],
      "text/plain": [
       "<IPython.core.display.Javascript object>"
      ]
     },
     "metadata": {},
     "output_type": "display_data"
    },
    {
     "data": {
      "text/html": [
       "<script src=\"files/d3.v3.js\"></script>"
      ],
      "text/plain": [
       "<IPython.core.display.HTML object>"
      ]
     },
     "metadata": {},
     "output_type": "display_data"
    },
    {
     "data": {
      "text/html": [
       "<script src=\"files/nv.d3.js\"></script>"
      ],
      "text/plain": [
       "<IPython.core.display.HTML object>"
      ]
     },
     "metadata": {},
     "output_type": "display_data"
    }
   ],
   "source": [
    "import pandas as pd\n",
    "import numpy as np\n",
    "import matplotlib.pyplot as plt\n",
    "from nvd3 import multiBarChart,multiBarHorizontalChart\n",
    "import nvd3\n",
    "nvd3.ipynb.initialize_javascript()\n",
    "from IPython.core.display import display, HTML\n",
    "get_ipython().magic('matplotlib nbagg')"
   ]
  },
  {
   "cell_type": "markdown",
   "metadata": {},
   "source": [
    "# Reading xlsx file "
   ]
  },
  {
   "cell_type": "code",
   "execution_count": 2,
   "metadata": {
    "collapsed": false,
    "scrolled": true
   },
   "outputs": [],
   "source": [
    "df = pd.read_excel('cod.xlsx')\n",
    "#df\n",
    "\n"
   ]
  },
  {
   "cell_type": "markdown",
   "metadata": {},
   "source": [
    "# Creating DataFrames"
   ]
  },
  {
   "cell_type": "code",
   "execution_count": 3,
   "metadata": {
    "collapsed": false,
    "scrolled": true
   },
   "outputs": [],
   "source": [
    "df1 = pd.DataFrame(df)\n",
    "#df1"
   ]
  },
  {
   "cell_type": "markdown",
   "metadata": {
    "collapsed": false
   },
   "source": [
    "# Converting to csv file"
   ]
  },
  {
   "cell_type": "code",
   "execution_count": 4,
   "metadata": {
    "collapsed": false,
    "scrolled": true
   },
   "outputs": [],
   "source": [
    "df1.to_csv('cod_data.csv')\n"
   ]
  },
  {
   "cell_type": "code",
   "execution_count": 5,
   "metadata": {
    "collapsed": false
   },
   "outputs": [],
   "source": [
    "csv_file = pd.read_csv('cod_data.csv')\n",
    "#list(csv_file,)"
   ]
  },
  {
   "cell_type": "markdown",
   "metadata": {},
   "source": [
    "# Deaths of children Under 5 year"
   ]
  },
  {
   "cell_type": "code",
   "execution_count": 6,
   "metadata": {
    "collapsed": false
   },
   "outputs": [],
   "source": [
    "selected_columns_under5 = csv_file[['ISO_Code',\n",
    "'CountryName',\n",
    " 'Year','Preterm',\n",
    " 'Pertussis',\n",
    " 'Intrapartum',\n",
    " 'Sepsis',\n",
    " 'Tetanus',\n",
    " 'Congenital',\n",
    " 'Pneumonia',\n",
    " 'Diarrhoea',\n",
    " 'Malaria',\n",
    " 'Aids',\n",
    " 'Measles',\n",
    " 'Injury',\n",
    " 'Meningitis']]"
   ]
  },
  {
   "cell_type": "code",
   "execution_count": 7,
   "metadata": {
    "collapsed": false,
    "scrolled": false
   },
   "outputs": [
    {
     "data": {
      "text/plain": [
       "['ISO_Code',\n",
       " 'CountryName',\n",
       " 'Year',\n",
       " 'Preterm',\n",
       " 'Pertussis',\n",
       " 'Intrapartum',\n",
       " 'Sepsis',\n",
       " 'Tetanus',\n",
       " 'Congenital',\n",
       " 'Pneumonia',\n",
       " 'Diarrhoea',\n",
       " 'Malaria',\n",
       " 'Aids',\n",
       " 'Measles',\n",
       " 'Injury',\n",
       " 'Meningitis']"
      ]
     },
     "execution_count": 7,
     "metadata": {},
     "output_type": "execute_result"
    }
   ],
   "source": [
    "list(selected_columns_under5)"
   ]
  },
  {
   "cell_type": "code",
   "execution_count": 8,
   "metadata": {
    "collapsed": false,
    "scrolled": true
   },
   "outputs": [],
   "source": [
    "under_five = pd.DataFrame(selected_columns_under5)"
   ]
  },
  {
   "cell_type": "code",
   "execution_count": 9,
   "metadata": {
    "collapsed": false,
    "scrolled": true
   },
   "outputs": [],
   "source": [
    "#under_five"
   ]
  },
  {
   "cell_type": "markdown",
   "metadata": {
    "collapsed": false
   },
   "source": [
    "# New born(first month)"
   ]
  },
  {
   "cell_type": "code",
   "execution_count": 10,
   "metadata": {
    "collapsed": true
   },
   "outputs": [],
   "source": [
    "selected_columns_2 = csv_file[['ISO_Code',\n",
    " 'CountryName',\n",
    " 'Year','Pneumonia .1',\n",
    " 'Preterm ',\n",
    " 'Intrapartum ',\n",
    " 'Sepis ',\n",
    " 'Tetanus ',\n",
    " 'Congenital ',\n",
    " 'Diarrheoea ']]"
   ]
  },
  {
   "cell_type": "code",
   "execution_count": 11,
   "metadata": {
    "collapsed": false
   },
   "outputs": [
    {
     "data": {
      "text/plain": [
       "['ISO_Code',\n",
       " 'CountryName',\n",
       " 'Year',\n",
       " 'Pneumonia .1',\n",
       " 'Preterm ',\n",
       " 'Intrapartum ',\n",
       " 'Sepis ',\n",
       " 'Tetanus ',\n",
       " 'Congenital ',\n",
       " 'Diarrheoea ']"
      ]
     },
     "execution_count": 11,
     "metadata": {},
     "output_type": "execute_result"
    }
   ],
   "source": [
    "list(selected_columns_2)"
   ]
  },
  {
   "cell_type": "code",
   "execution_count": 12,
   "metadata": {
    "collapsed": true
   },
   "outputs": [],
   "source": [
    "new_born_first_month = pd.DataFrame(selected_columns_2)"
   ]
  },
  {
   "cell_type": "code",
   "execution_count": 13,
   "metadata": {
    "collapsed": false,
    "scrolled": true
   },
   "outputs": [],
   "source": [
    "#new_born_first_month\n"
   ]
  },
  {
   "cell_type": "markdown",
   "metadata": {},
   "source": [
    "# Death of childrens in Newborn"
   ]
  },
  {
   "cell_type": "code",
   "execution_count": 14,
   "metadata": {
    "collapsed": true
   },
   "outputs": [],
   "source": [
    "selected_columns_3 = csv_file[['ISO_Code',\n",
    " 'CountryName',\n",
    " 'Year','Pneumonia (Newborn)',\n",
    " 'Preterm (Newborn)',\n",
    " 'Intrapartum (Newborn)',\n",
    " 'Sepis (Newborn)',\n",
    " 'Tetanus (Newborn)',\n",
    " 'Congenital (Newborn)',\n",
    " 'Diarrheoea (Newborn)']]"
   ]
  },
  {
   "cell_type": "code",
   "execution_count": 15,
   "metadata": {
    "collapsed": false
   },
   "outputs": [
    {
     "data": {
      "text/plain": [
       "['ISO_Code',\n",
       " 'CountryName',\n",
       " 'Year',\n",
       " 'Pneumonia (Newborn)',\n",
       " 'Preterm (Newborn)',\n",
       " 'Intrapartum (Newborn)',\n",
       " 'Sepis (Newborn)',\n",
       " 'Tetanus (Newborn)',\n",
       " 'Congenital (Newborn)',\n",
       " 'Diarrheoea (Newborn)']"
      ]
     },
     "execution_count": 15,
     "metadata": {},
     "output_type": "execute_result"
    }
   ],
   "source": [
    "list(selected_columns_3)"
   ]
  },
  {
   "cell_type": "code",
   "execution_count": 16,
   "metadata": {
    "collapsed": true
   },
   "outputs": [],
   "source": [
    "new_born = pd.DataFrame(selected_columns_3)"
   ]
  },
  {
   "cell_type": "code",
   "execution_count": 17,
   "metadata": {
    "collapsed": false,
    "scrolled": true
   },
   "outputs": [],
   "source": [
    "#new_born"
   ]
  },
  {
   "cell_type": "markdown",
   "metadata": {},
   "source": [
    "# Death in 1-59 months"
   ]
  },
  {
   "cell_type": "code",
   "execution_count": 18,
   "metadata": {
    "collapsed": false
   },
   "outputs": [],
   "source": [
    "selected_columns_4 = csv_file[['ISO_Code',\n",
    " 'CountryName',\n",
    " 'Year','Pneumonia ',\n",
    " 'Diarrhoea ',\n",
    " 'Malaria ',\n",
    " 'AIDS ',\n",
    " 'Measles ',\n",
    " 'Injuries ',\n",
    " 'Meningitis ']]"
   ]
  },
  {
   "cell_type": "code",
   "execution_count": 19,
   "metadata": {
    "collapsed": true
   },
   "outputs": [],
   "source": [
    "one_to_59 = pd.DataFrame(selected_columns_4)"
   ]
  },
  {
   "cell_type": "code",
   "execution_count": 20,
   "metadata": {
    "collapsed": false,
    "scrolled": true
   },
   "outputs": [],
   "source": [
    "#one_to_59\n"
   ]
  },
  {
   "cell_type": "markdown",
   "metadata": {},
   "source": [
    "### List of dataframes"
   ]
  },
  {
   "cell_type": "code",
   "execution_count": 21,
   "metadata": {
    "collapsed": false
   },
   "outputs": [],
   "source": [
    "#under_five\n",
    "#new_born_first_month\n",
    "#new_born\n",
    "#one_to_59"
   ]
  },
  {
   "cell_type": "markdown",
   "metadata": {},
   "source": [
    "# --------------Under_Five-------------------"
   ]
  },
  {
   "cell_type": "markdown",
   "metadata": {},
   "source": [
    "# Creating a list of Dveloping Countries"
   ]
  },
  {
   "cell_type": "code",
   "execution_count": 22,
   "metadata": {
    "collapsed": false
   },
   "outputs": [],
   "source": [
    "a = ['AFG','ALB','DZA','AGO','ARG','ARM','AZE','BGD','BLR','BLZ','BEN','BTN','BOL','BIH','BWA','BRA','BGR','BFA',\n",
    "     'BDI','KHM','CMR','CAF','TCD','CHN','COL','COM','COG','CRI','CIV','CUB','DJI','DMA','DOM','ECU','EGY','SLV','ERI',\n",
    "     'ETH','FJI','GAB','GMB','GEO','GHA','GRD','GTM','GIN','GNB','GUY','HTI','HUN','IND','IDN','IRN','IRQ','JAM','JOR',\n",
    "     'KAZ','KEN','KIR','KGZ','LAO','LBN','LSO','LBR','LBY','MDG','MYS','MDV','MLI','MHL','MRT','MUS','MEX','MNG','MNE',\n",
    "     'MAR','MOZ','MMR','NAM','NPL','NIC','NER','NGA','PAK','PLW','PAN','PNG','PRY','PER','PHL','ROU','RUS','RWA','WSM',\n",
    "     'STP','SEN','SRB','SYC','SLE','SLB','SOM','ZAF','SSD','LKA','SDN','SUR','SWZ','SYR','TJK','THA','TLS','TGO','TON',\n",
    "     'TUN','TUR','TKM','TUV','UGA','UKR','UZB','VUT','VEN','VNM','YEM','ZMB','ZWE']  "
   ]
  },
  {
   "cell_type": "markdown",
   "metadata": {},
   "source": [
    "# DataFrame for Developing countries"
   ]
  },
  {
   "cell_type": "code",
   "execution_count": 23,
   "metadata": {
    "collapsed": false,
    "scrolled": true
   },
   "outputs": [
    {
     "data": {
      "text/html": [
       "<div>\n",
       "<table border=\"1\" class=\"dataframe\">\n",
       "  <thead>\n",
       "    <tr style=\"text-align: right;\">\n",
       "      <th></th>\n",
       "      <th>ISO_Code</th>\n",
       "      <th>CountryName</th>\n",
       "      <th>Year</th>\n",
       "      <th>Preterm</th>\n",
       "      <th>Pertussis</th>\n",
       "      <th>Intrapartum</th>\n",
       "      <th>Sepsis</th>\n",
       "      <th>Tetanus</th>\n",
       "      <th>Congenital</th>\n",
       "      <th>Pneumonia</th>\n",
       "      <th>Diarrhoea</th>\n",
       "      <th>Malaria</th>\n",
       "      <th>Aids</th>\n",
       "      <th>Measles</th>\n",
       "      <th>Injury</th>\n",
       "      <th>Meningitis</th>\n",
       "    </tr>\n",
       "  </thead>\n",
       "  <tbody>\n",
       "    <tr>\n",
       "      <th>0</th>\n",
       "      <td>AFG</td>\n",
       "      <td>Afghanistan</td>\n",
       "      <td>2015</td>\n",
       "      <td>14.6</td>\n",
       "      <td>1.2</td>\n",
       "      <td>11.0</td>\n",
       "      <td>7.0</td>\n",
       "      <td>0.8</td>\n",
       "      <td>4.9</td>\n",
       "      <td>19.8</td>\n",
       "      <td>12.4</td>\n",
       "      <td>0.0</td>\n",
       "      <td>0.0</td>\n",
       "      <td>1.0</td>\n",
       "      <td>7.3</td>\n",
       "      <td>2.5</td>\n",
       "    </tr>\n",
       "    <tr>\n",
       "      <th>1</th>\n",
       "      <td>ALB</td>\n",
       "      <td>Albania</td>\n",
       "      <td>2015</td>\n",
       "      <td>20.8</td>\n",
       "      <td>0.7</td>\n",
       "      <td>7.5</td>\n",
       "      <td>2.7</td>\n",
       "      <td>0.4</td>\n",
       "      <td>27.5</td>\n",
       "      <td>11.9</td>\n",
       "      <td>1.2</td>\n",
       "      <td>0.0</td>\n",
       "      <td>0.3</td>\n",
       "      <td>0.0</td>\n",
       "      <td>8.7</td>\n",
       "      <td>1.9</td>\n",
       "    </tr>\n",
       "    <tr>\n",
       "      <th>2</th>\n",
       "      <td>DZA</td>\n",
       "      <td>Algeria</td>\n",
       "      <td>2015</td>\n",
       "      <td>21.9</td>\n",
       "      <td>0.8</td>\n",
       "      <td>13.7</td>\n",
       "      <td>8.8</td>\n",
       "      <td>0.2</td>\n",
       "      <td>16.3</td>\n",
       "      <td>12.9</td>\n",
       "      <td>5.0</td>\n",
       "      <td>0.0</td>\n",
       "      <td>0.1</td>\n",
       "      <td>0.1</td>\n",
       "      <td>6.2</td>\n",
       "      <td>0.8</td>\n",
       "    </tr>\n",
       "    <tr>\n",
       "      <th>3</th>\n",
       "      <td>AGO</td>\n",
       "      <td>Angola</td>\n",
       "      <td>2015</td>\n",
       "      <td>12.5</td>\n",
       "      <td>0.5</td>\n",
       "      <td>10.8</td>\n",
       "      <td>5.0</td>\n",
       "      <td>1.2</td>\n",
       "      <td>5.8</td>\n",
       "      <td>17.4</td>\n",
       "      <td>14.7</td>\n",
       "      <td>6.3</td>\n",
       "      <td>1.2</td>\n",
       "      <td>0.3</td>\n",
       "      <td>5.3</td>\n",
       "      <td>1.4</td>\n",
       "    </tr>\n",
       "    <tr>\n",
       "      <th>4</th>\n",
       "      <td>ARG</td>\n",
       "      <td>Argentina</td>\n",
       "      <td>2015</td>\n",
       "      <td>25.7</td>\n",
       "      <td>0.6</td>\n",
       "      <td>3.9</td>\n",
       "      <td>4.9</td>\n",
       "      <td>0.0</td>\n",
       "      <td>28.1</td>\n",
       "      <td>7.4</td>\n",
       "      <td>1.3</td>\n",
       "      <td>0.0</td>\n",
       "      <td>0.1</td>\n",
       "      <td>0.0</td>\n",
       "      <td>7.8</td>\n",
       "      <td>1.3</td>\n",
       "    </tr>\n",
       "    <tr>\n",
       "      <th>5</th>\n",
       "      <td>ARM</td>\n",
       "      <td>Armenia</td>\n",
       "      <td>2015</td>\n",
       "      <td>23.4</td>\n",
       "      <td>0.6</td>\n",
       "      <td>8.5</td>\n",
       "      <td>3.5</td>\n",
       "      <td>0.0</td>\n",
       "      <td>26.4</td>\n",
       "      <td>10.7</td>\n",
       "      <td>1.3</td>\n",
       "      <td>0.0</td>\n",
       "      <td>0.2</td>\n",
       "      <td>0.0</td>\n",
       "      <td>8.5</td>\n",
       "      <td>1.7</td>\n",
       "    </tr>\n",
       "    <tr>\n",
       "      <th>6</th>\n",
       "      <td>AZE</td>\n",
       "      <td>Azerbaijan</td>\n",
       "      <td>2015</td>\n",
       "      <td>24.3</td>\n",
       "      <td>0.5</td>\n",
       "      <td>13.6</td>\n",
       "      <td>6.9</td>\n",
       "      <td>0.2</td>\n",
       "      <td>14.1</td>\n",
       "      <td>12.2</td>\n",
       "      <td>5.9</td>\n",
       "      <td>0.0</td>\n",
       "      <td>0.1</td>\n",
       "      <td>0.0</td>\n",
       "      <td>6.2</td>\n",
       "      <td>0.6</td>\n",
       "    </tr>\n",
       "    <tr>\n",
       "      <th>7</th>\n",
       "      <td>BGD</td>\n",
       "      <td>Bangladesh</td>\n",
       "      <td>2015</td>\n",
       "      <td>19.8</td>\n",
       "      <td>0.4</td>\n",
       "      <td>14.9</td>\n",
       "      <td>12.4</td>\n",
       "      <td>0.3</td>\n",
       "      <td>9.3</td>\n",
       "      <td>14.5</td>\n",
       "      <td>6.0</td>\n",
       "      <td>0.2</td>\n",
       "      <td>0.0</td>\n",
       "      <td>1.9</td>\n",
       "      <td>6.0</td>\n",
       "      <td>1.5</td>\n",
       "    </tr>\n",
       "    <tr>\n",
       "      <th>8</th>\n",
       "      <td>BLR</td>\n",
       "      <td>Belarus</td>\n",
       "      <td>2015</td>\n",
       "      <td>20.7</td>\n",
       "      <td>1.4</td>\n",
       "      <td>7.1</td>\n",
       "      <td>2.4</td>\n",
       "      <td>0.0</td>\n",
       "      <td>35.4</td>\n",
       "      <td>6.1</td>\n",
       "      <td>0.6</td>\n",
       "      <td>0.0</td>\n",
       "      <td>0.1</td>\n",
       "      <td>0.0</td>\n",
       "      <td>8.1</td>\n",
       "      <td>1.3</td>\n",
       "    </tr>\n",
       "    <tr>\n",
       "      <th>9</th>\n",
       "      <td>BLZ</td>\n",
       "      <td>Belize</td>\n",
       "      <td>2015</td>\n",
       "      <td>17.3</td>\n",
       "      <td>0.0</td>\n",
       "      <td>8.0</td>\n",
       "      <td>7.6</td>\n",
       "      <td>0.0</td>\n",
       "      <td>23.9</td>\n",
       "      <td>8.3</td>\n",
       "      <td>3.1</td>\n",
       "      <td>0.0</td>\n",
       "      <td>1.2</td>\n",
       "      <td>0.0</td>\n",
       "      <td>7.0</td>\n",
       "      <td>1.5</td>\n",
       "    </tr>\n",
       "    <tr>\n",
       "      <th>10</th>\n",
       "      <td>BEN</td>\n",
       "      <td>Benin</td>\n",
       "      <td>2015</td>\n",
       "      <td>12.9</td>\n",
       "      <td>1.0</td>\n",
       "      <td>9.4</td>\n",
       "      <td>7.0</td>\n",
       "      <td>0.2</td>\n",
       "      <td>5.1</td>\n",
       "      <td>15.4</td>\n",
       "      <td>10.8</td>\n",
       "      <td>11.6</td>\n",
       "      <td>1.1</td>\n",
       "      <td>0.7</td>\n",
       "      <td>5.7</td>\n",
       "      <td>2.4</td>\n",
       "    </tr>\n",
       "    <tr>\n",
       "      <th>11</th>\n",
       "      <td>BTN</td>\n",
       "      <td>Bhutan</td>\n",
       "      <td>2015</td>\n",
       "      <td>21.9</td>\n",
       "      <td>0.4</td>\n",
       "      <td>12.0</td>\n",
       "      <td>9.0</td>\n",
       "      <td>0.2</td>\n",
       "      <td>11.1</td>\n",
       "      <td>14.6</td>\n",
       "      <td>6.2</td>\n",
       "      <td>0.0</td>\n",
       "      <td>1.6</td>\n",
       "      <td>0.0</td>\n",
       "      <td>7.5</td>\n",
       "      <td>1.2</td>\n",
       "    </tr>\n",
       "    <tr>\n",
       "      <th>12</th>\n",
       "      <td>BOL</td>\n",
       "      <td>Bolivia</td>\n",
       "      <td>2015</td>\n",
       "      <td>18.7</td>\n",
       "      <td>2.9</td>\n",
       "      <td>14.5</td>\n",
       "      <td>6.5</td>\n",
       "      <td>0.3</td>\n",
       "      <td>14.6</td>\n",
       "      <td>13.9</td>\n",
       "      <td>6.1</td>\n",
       "      <td>0.0</td>\n",
       "      <td>0.3</td>\n",
       "      <td>0.0</td>\n",
       "      <td>7.5</td>\n",
       "      <td>1.0</td>\n",
       "    </tr>\n",
       "    <tr>\n",
       "      <th>13</th>\n",
       "      <td>BIH</td>\n",
       "      <td>Bosnia &amp; Herzegovina</td>\n",
       "      <td>2015</td>\n",
       "      <td>31.4</td>\n",
       "      <td>0.6</td>\n",
       "      <td>9.8</td>\n",
       "      <td>4.9</td>\n",
       "      <td>0.0</td>\n",
       "      <td>32.5</td>\n",
       "      <td>5.1</td>\n",
       "      <td>0.4</td>\n",
       "      <td>0.0</td>\n",
       "      <td>0.1</td>\n",
       "      <td>0.8</td>\n",
       "      <td>2.9</td>\n",
       "      <td>0.5</td>\n",
       "    </tr>\n",
       "    <tr>\n",
       "      <th>14</th>\n",
       "      <td>BWA</td>\n",
       "      <td>Botswana</td>\n",
       "      <td>2015</td>\n",
       "      <td>21.6</td>\n",
       "      <td>0.3</td>\n",
       "      <td>12.2</td>\n",
       "      <td>7.0</td>\n",
       "      <td>0.2</td>\n",
       "      <td>11.1</td>\n",
       "      <td>12.4</td>\n",
       "      <td>6.3</td>\n",
       "      <td>0.0</td>\n",
       "      <td>5.1</td>\n",
       "      <td>0.7</td>\n",
       "      <td>6.4</td>\n",
       "      <td>0.6</td>\n",
       "    </tr>\n",
       "    <tr>\n",
       "      <th>15</th>\n",
       "      <td>BRA</td>\n",
       "      <td>Brazil</td>\n",
       "      <td>2015</td>\n",
       "      <td>18.9</td>\n",
       "      <td>0.2</td>\n",
       "      <td>9.3</td>\n",
       "      <td>7.8</td>\n",
       "      <td>0.0</td>\n",
       "      <td>22.1</td>\n",
       "      <td>9.1</td>\n",
       "      <td>2.5</td>\n",
       "      <td>0.0</td>\n",
       "      <td>0.2</td>\n",
       "      <td>0.0</td>\n",
       "      <td>6.1</td>\n",
       "      <td>1.2</td>\n",
       "    </tr>\n",
       "    <tr>\n",
       "      <th>16</th>\n",
       "      <td>BGR</td>\n",
       "      <td>Bulgaria</td>\n",
       "      <td>2015</td>\n",
       "      <td>25.5</td>\n",
       "      <td>0.0</td>\n",
       "      <td>9.8</td>\n",
       "      <td>2.5</td>\n",
       "      <td>0.0</td>\n",
       "      <td>25.0</td>\n",
       "      <td>17.0</td>\n",
       "      <td>1.1</td>\n",
       "      <td>0.0</td>\n",
       "      <td>0.0</td>\n",
       "      <td>0.4</td>\n",
       "      <td>5.2</td>\n",
       "      <td>1.8</td>\n",
       "    </tr>\n",
       "    <tr>\n",
       "      <th>17</th>\n",
       "      <td>BFA</td>\n",
       "      <td>Burkina Faso</td>\n",
       "      <td>2015</td>\n",
       "      <td>11.2</td>\n",
       "      <td>1.0</td>\n",
       "      <td>9.0</td>\n",
       "      <td>6.8</td>\n",
       "      <td>0.2</td>\n",
       "      <td>4.3</td>\n",
       "      <td>12.8</td>\n",
       "      <td>8.2</td>\n",
       "      <td>21.4</td>\n",
       "      <td>0.6</td>\n",
       "      <td>2.3</td>\n",
       "      <td>5.8</td>\n",
       "      <td>2.0</td>\n",
       "    </tr>\n",
       "    <tr>\n",
       "      <th>18</th>\n",
       "      <td>BDI</td>\n",
       "      <td>Burundi</td>\n",
       "      <td>2015</td>\n",
       "      <td>12.9</td>\n",
       "      <td>1.1</td>\n",
       "      <td>12.0</td>\n",
       "      <td>6.0</td>\n",
       "      <td>0.3</td>\n",
       "      <td>5.6</td>\n",
       "      <td>16.0</td>\n",
       "      <td>10.1</td>\n",
       "      <td>6.5</td>\n",
       "      <td>0.9</td>\n",
       "      <td>0.1</td>\n",
       "      <td>7.9</td>\n",
       "      <td>1.8</td>\n",
       "    </tr>\n",
       "    <tr>\n",
       "      <th>19</th>\n",
       "      <td>KHM</td>\n",
       "      <td>Cambodia</td>\n",
       "      <td>2015</td>\n",
       "      <td>16.4</td>\n",
       "      <td>2.9</td>\n",
       "      <td>13.0</td>\n",
       "      <td>8.7</td>\n",
       "      <td>0.2</td>\n",
       "      <td>10.7</td>\n",
       "      <td>16.5</td>\n",
       "      <td>6.7</td>\n",
       "      <td>0.3</td>\n",
       "      <td>0.5</td>\n",
       "      <td>0.0</td>\n",
       "      <td>8.1</td>\n",
       "      <td>1.8</td>\n",
       "    </tr>\n",
       "    <tr>\n",
       "      <th>20</th>\n",
       "      <td>CMR</td>\n",
       "      <td>Cameroon</td>\n",
       "      <td>2015</td>\n",
       "      <td>10.4</td>\n",
       "      <td>1.1</td>\n",
       "      <td>10.8</td>\n",
       "      <td>5.3</td>\n",
       "      <td>0.3</td>\n",
       "      <td>6.2</td>\n",
       "      <td>15.5</td>\n",
       "      <td>11.3</td>\n",
       "      <td>9.9</td>\n",
       "      <td>4.0</td>\n",
       "      <td>0.2</td>\n",
       "      <td>6.9</td>\n",
       "      <td>1.8</td>\n",
       "    </tr>\n",
       "    <tr>\n",
       "      <th>21</th>\n",
       "      <td>CAF</td>\n",
       "      <td>Central African Republic</td>\n",
       "      <td>2015</td>\n",
       "      <td>10.8</td>\n",
       "      <td>0.9</td>\n",
       "      <td>11.9</td>\n",
       "      <td>5.1</td>\n",
       "      <td>1.3</td>\n",
       "      <td>4.0</td>\n",
       "      <td>16.0</td>\n",
       "      <td>10.4</td>\n",
       "      <td>15.3</td>\n",
       "      <td>3.4</td>\n",
       "      <td>0.9</td>\n",
       "      <td>4.4</td>\n",
       "      <td>3.5</td>\n",
       "    </tr>\n",
       "    <tr>\n",
       "      <th>22</th>\n",
       "      <td>TCD</td>\n",
       "      <td>Chad</td>\n",
       "      <td>2015</td>\n",
       "      <td>10.1</td>\n",
       "      <td>0.9</td>\n",
       "      <td>10.4</td>\n",
       "      <td>4.6</td>\n",
       "      <td>1.2</td>\n",
       "      <td>4.2</td>\n",
       "      <td>23.3</td>\n",
       "      <td>13.7</td>\n",
       "      <td>6.0</td>\n",
       "      <td>2.1</td>\n",
       "      <td>0.2</td>\n",
       "      <td>5.6</td>\n",
       "      <td>5.0</td>\n",
       "    </tr>\n",
       "    <tr>\n",
       "      <th>23</th>\n",
       "      <td>CHN</td>\n",
       "      <td>China</td>\n",
       "      <td>2015</td>\n",
       "      <td>18.3</td>\n",
       "      <td>0.8</td>\n",
       "      <td>14.3</td>\n",
       "      <td>2.9</td>\n",
       "      <td>0.1</td>\n",
       "      <td>17.9</td>\n",
       "      <td>12.1</td>\n",
       "      <td>2.8</td>\n",
       "      <td>0.0</td>\n",
       "      <td>0.2</td>\n",
       "      <td>0.3</td>\n",
       "      <td>16.6</td>\n",
       "      <td>1.4</td>\n",
       "    </tr>\n",
       "    <tr>\n",
       "      <th>24</th>\n",
       "      <td>COL</td>\n",
       "      <td>Colombia</td>\n",
       "      <td>2015</td>\n",
       "      <td>21.0</td>\n",
       "      <td>0.3</td>\n",
       "      <td>5.7</td>\n",
       "      <td>7.2</td>\n",
       "      <td>0.0</td>\n",
       "      <td>24.8</td>\n",
       "      <td>10.2</td>\n",
       "      <td>2.1</td>\n",
       "      <td>0.1</td>\n",
       "      <td>0.2</td>\n",
       "      <td>0.0</td>\n",
       "      <td>6.7</td>\n",
       "      <td>1.2</td>\n",
       "    </tr>\n",
       "    <tr>\n",
       "      <th>25</th>\n",
       "      <td>COM</td>\n",
       "      <td>Comoros</td>\n",
       "      <td>2015</td>\n",
       "      <td>19.3</td>\n",
       "      <td>1.5</td>\n",
       "      <td>12.2</td>\n",
       "      <td>7.1</td>\n",
       "      <td>0.5</td>\n",
       "      <td>6.3</td>\n",
       "      <td>15.8</td>\n",
       "      <td>7.5</td>\n",
       "      <td>7.9</td>\n",
       "      <td>1.1</td>\n",
       "      <td>0.0</td>\n",
       "      <td>5.1</td>\n",
       "      <td>2.1</td>\n",
       "    </tr>\n",
       "    <tr>\n",
       "      <th>26</th>\n",
       "      <td>COG</td>\n",
       "      <td>Congo</td>\n",
       "      <td>2015</td>\n",
       "      <td>15.6</td>\n",
       "      <td>2.0</td>\n",
       "      <td>11.2</td>\n",
       "      <td>5.9</td>\n",
       "      <td>0.2</td>\n",
       "      <td>9.6</td>\n",
       "      <td>13.4</td>\n",
       "      <td>7.1</td>\n",
       "      <td>5.6</td>\n",
       "      <td>6.3</td>\n",
       "      <td>0.7</td>\n",
       "      <td>6.8</td>\n",
       "      <td>1.0</td>\n",
       "    </tr>\n",
       "    <tr>\n",
       "      <th>27</th>\n",
       "      <td>CRI</td>\n",
       "      <td>Costa Rica</td>\n",
       "      <td>2015</td>\n",
       "      <td>27.7</td>\n",
       "      <td>0.1</td>\n",
       "      <td>7.6</td>\n",
       "      <td>1.4</td>\n",
       "      <td>0.0</td>\n",
       "      <td>38.8</td>\n",
       "      <td>5.0</td>\n",
       "      <td>1.0</td>\n",
       "      <td>0.0</td>\n",
       "      <td>0.0</td>\n",
       "      <td>0.0</td>\n",
       "      <td>3.8</td>\n",
       "      <td>1.0</td>\n",
       "    </tr>\n",
       "    <tr>\n",
       "      <th>28</th>\n",
       "      <td>CIV</td>\n",
       "      <td>Cote d Ivoire</td>\n",
       "      <td>2015</td>\n",
       "      <td>14.5</td>\n",
       "      <td>0.9</td>\n",
       "      <td>12.2</td>\n",
       "      <td>8.4</td>\n",
       "      <td>0.6</td>\n",
       "      <td>4.7</td>\n",
       "      <td>14.5</td>\n",
       "      <td>7.6</td>\n",
       "      <td>16.7</td>\n",
       "      <td>2.1</td>\n",
       "      <td>0.2</td>\n",
       "      <td>4.3</td>\n",
       "      <td>2.1</td>\n",
       "    </tr>\n",
       "    <tr>\n",
       "      <th>29</th>\n",
       "      <td>CUB</td>\n",
       "      <td>Cuba</td>\n",
       "      <td>2015</td>\n",
       "      <td>16.8</td>\n",
       "      <td>0.0</td>\n",
       "      <td>7.7</td>\n",
       "      <td>4.6</td>\n",
       "      <td>0.0</td>\n",
       "      <td>23.5</td>\n",
       "      <td>11.2</td>\n",
       "      <td>1.3</td>\n",
       "      <td>0.0</td>\n",
       "      <td>0.1</td>\n",
       "      <td>0.0</td>\n",
       "      <td>8.5</td>\n",
       "      <td>2.9</td>\n",
       "    </tr>\n",
       "    <tr>\n",
       "      <th>...</th>\n",
       "      <td>...</td>\n",
       "      <td>...</td>\n",
       "      <td>...</td>\n",
       "      <td>...</td>\n",
       "      <td>...</td>\n",
       "      <td>...</td>\n",
       "      <td>...</td>\n",
       "      <td>...</td>\n",
       "      <td>...</td>\n",
       "      <td>...</td>\n",
       "      <td>...</td>\n",
       "      <td>...</td>\n",
       "      <td>...</td>\n",
       "      <td>...</td>\n",
       "      <td>...</td>\n",
       "      <td>...</td>\n",
       "    </tr>\n",
       "    <tr>\n",
       "      <th>222</th>\n",
       "      <td>SRB</td>\n",
       "      <td>Serbia</td>\n",
       "      <td>2000</td>\n",
       "      <td>31.2</td>\n",
       "      <td>0.0</td>\n",
       "      <td>16.4</td>\n",
       "      <td>4.7</td>\n",
       "      <td>0.0</td>\n",
       "      <td>26.4</td>\n",
       "      <td>5.4</td>\n",
       "      <td>0.9</td>\n",
       "      <td>0.0</td>\n",
       "      <td>0.3</td>\n",
       "      <td>0.0</td>\n",
       "      <td>4.8</td>\n",
       "      <td>1.4</td>\n",
       "    </tr>\n",
       "    <tr>\n",
       "      <th>223</th>\n",
       "      <td>SYC</td>\n",
       "      <td>Seychelles</td>\n",
       "      <td>2000</td>\n",
       "      <td>27.3</td>\n",
       "      <td>0.0</td>\n",
       "      <td>9.4</td>\n",
       "      <td>6.3</td>\n",
       "      <td>0.0</td>\n",
       "      <td>25.3</td>\n",
       "      <td>6.6</td>\n",
       "      <td>1.2</td>\n",
       "      <td>0.0</td>\n",
       "      <td>0.0</td>\n",
       "      <td>0.0</td>\n",
       "      <td>8.3</td>\n",
       "      <td>1.0</td>\n",
       "    </tr>\n",
       "    <tr>\n",
       "      <th>224</th>\n",
       "      <td>SLE</td>\n",
       "      <td>Sierra Leone</td>\n",
       "      <td>2000</td>\n",
       "      <td>7.0</td>\n",
       "      <td>0.5</td>\n",
       "      <td>5.6</td>\n",
       "      <td>3.0</td>\n",
       "      <td>1.0</td>\n",
       "      <td>2.5</td>\n",
       "      <td>12.8</td>\n",
       "      <td>13.6</td>\n",
       "      <td>26.0</td>\n",
       "      <td>0.5</td>\n",
       "      <td>15.8</td>\n",
       "      <td>2.0</td>\n",
       "      <td>2.6</td>\n",
       "    </tr>\n",
       "    <tr>\n",
       "      <th>225</th>\n",
       "      <td>SLB</td>\n",
       "      <td>Solomon Islands</td>\n",
       "      <td>2000</td>\n",
       "      <td>13.5</td>\n",
       "      <td>2.9</td>\n",
       "      <td>12.3</td>\n",
       "      <td>6.5</td>\n",
       "      <td>0.2</td>\n",
       "      <td>9.7</td>\n",
       "      <td>16.4</td>\n",
       "      <td>7.7</td>\n",
       "      <td>12.1</td>\n",
       "      <td>0.0</td>\n",
       "      <td>0.0</td>\n",
       "      <td>5.6</td>\n",
       "      <td>2.9</td>\n",
       "    </tr>\n",
       "    <tr>\n",
       "      <th>226</th>\n",
       "      <td>SOM</td>\n",
       "      <td>Somalia</td>\n",
       "      <td>2000</td>\n",
       "      <td>7.4</td>\n",
       "      <td>0.7</td>\n",
       "      <td>8.2</td>\n",
       "      <td>2.9</td>\n",
       "      <td>1.7</td>\n",
       "      <td>2.8</td>\n",
       "      <td>17.7</td>\n",
       "      <td>15.7</td>\n",
       "      <td>1.1</td>\n",
       "      <td>0.4</td>\n",
       "      <td>26.2</td>\n",
       "      <td>3.3</td>\n",
       "      <td>3.9</td>\n",
       "    </tr>\n",
       "    <tr>\n",
       "      <th>227</th>\n",
       "      <td>ZAF</td>\n",
       "      <td>South Africa</td>\n",
       "      <td>2000</td>\n",
       "      <td>9.5</td>\n",
       "      <td>0.2</td>\n",
       "      <td>5.7</td>\n",
       "      <td>2.7</td>\n",
       "      <td>0.0</td>\n",
       "      <td>4.8</td>\n",
       "      <td>14.6</td>\n",
       "      <td>11.7</td>\n",
       "      <td>0.2</td>\n",
       "      <td>28.5</td>\n",
       "      <td>0.6</td>\n",
       "      <td>5.0</td>\n",
       "      <td>1.3</td>\n",
       "    </tr>\n",
       "    <tr>\n",
       "      <th>228</th>\n",
       "      <td>SSD</td>\n",
       "      <td>South Sudan</td>\n",
       "      <td>2000</td>\n",
       "      <td>8.5</td>\n",
       "      <td>1.1</td>\n",
       "      <td>10.9</td>\n",
       "      <td>3.2</td>\n",
       "      <td>4.8</td>\n",
       "      <td>3.3</td>\n",
       "      <td>18.8</td>\n",
       "      <td>15.9</td>\n",
       "      <td>12.8</td>\n",
       "      <td>1.5</td>\n",
       "      <td>3.4</td>\n",
       "      <td>3.3</td>\n",
       "      <td>4.4</td>\n",
       "    </tr>\n",
       "    <tr>\n",
       "      <th>229</th>\n",
       "      <td>LKA</td>\n",
       "      <td>Sri Lanka</td>\n",
       "      <td>2000</td>\n",
       "      <td>22.8</td>\n",
       "      <td>0.6</td>\n",
       "      <td>8.4</td>\n",
       "      <td>4.0</td>\n",
       "      <td>0.5</td>\n",
       "      <td>23.6</td>\n",
       "      <td>10.1</td>\n",
       "      <td>4.1</td>\n",
       "      <td>0.3</td>\n",
       "      <td>0.0</td>\n",
       "      <td>0.0</td>\n",
       "      <td>6.1</td>\n",
       "      <td>0.9</td>\n",
       "    </tr>\n",
       "    <tr>\n",
       "      <th>230</th>\n",
       "      <td>SDN</td>\n",
       "      <td>Sudan</td>\n",
       "      <td>2000</td>\n",
       "      <td>13.3</td>\n",
       "      <td>1.2</td>\n",
       "      <td>9.8</td>\n",
       "      <td>5.1</td>\n",
       "      <td>0.8</td>\n",
       "      <td>3.6</td>\n",
       "      <td>21.1</td>\n",
       "      <td>15.0</td>\n",
       "      <td>2.2</td>\n",
       "      <td>0.1</td>\n",
       "      <td>5.6</td>\n",
       "      <td>5.1</td>\n",
       "      <td>5.0</td>\n",
       "    </tr>\n",
       "    <tr>\n",
       "      <th>231</th>\n",
       "      <td>SUR</td>\n",
       "      <td>Suriname</td>\n",
       "      <td>2000</td>\n",
       "      <td>20.9</td>\n",
       "      <td>0.0</td>\n",
       "      <td>7.9</td>\n",
       "      <td>14.7</td>\n",
       "      <td>0.0</td>\n",
       "      <td>12.2</td>\n",
       "      <td>8.2</td>\n",
       "      <td>6.6</td>\n",
       "      <td>3.0</td>\n",
       "      <td>1.2</td>\n",
       "      <td>0.0</td>\n",
       "      <td>8.2</td>\n",
       "      <td>2.1</td>\n",
       "    </tr>\n",
       "    <tr>\n",
       "      <th>232</th>\n",
       "      <td>SWZ</td>\n",
       "      <td>Swaziland</td>\n",
       "      <td>2000</td>\n",
       "      <td>6.8</td>\n",
       "      <td>0.8</td>\n",
       "      <td>6.0</td>\n",
       "      <td>2.3</td>\n",
       "      <td>0.1</td>\n",
       "      <td>4.3</td>\n",
       "      <td>15.9</td>\n",
       "      <td>12.3</td>\n",
       "      <td>0.0</td>\n",
       "      <td>35.2</td>\n",
       "      <td>0.0</td>\n",
       "      <td>3.6</td>\n",
       "      <td>2.0</td>\n",
       "    </tr>\n",
       "    <tr>\n",
       "      <th>233</th>\n",
       "      <td>SYR</td>\n",
       "      <td>Syria</td>\n",
       "      <td>2000</td>\n",
       "      <td>22.6</td>\n",
       "      <td>0.9</td>\n",
       "      <td>10.9</td>\n",
       "      <td>3.6</td>\n",
       "      <td>0.6</td>\n",
       "      <td>20.7</td>\n",
       "      <td>14.4</td>\n",
       "      <td>9.5</td>\n",
       "      <td>0.0</td>\n",
       "      <td>0.0</td>\n",
       "      <td>0.1</td>\n",
       "      <td>4.2</td>\n",
       "      <td>0.6</td>\n",
       "    </tr>\n",
       "    <tr>\n",
       "      <th>234</th>\n",
       "      <td>TJK</td>\n",
       "      <td>Tajikistan</td>\n",
       "      <td>2000</td>\n",
       "      <td>13.8</td>\n",
       "      <td>0.2</td>\n",
       "      <td>10.1</td>\n",
       "      <td>3.9</td>\n",
       "      <td>0.5</td>\n",
       "      <td>5.5</td>\n",
       "      <td>22.6</td>\n",
       "      <td>15.5</td>\n",
       "      <td>0.0</td>\n",
       "      <td>0.3</td>\n",
       "      <td>0.0</td>\n",
       "      <td>6.0</td>\n",
       "      <td>4.5</td>\n",
       "    </tr>\n",
       "    <tr>\n",
       "      <th>235</th>\n",
       "      <td>THA</td>\n",
       "      <td>Thailand</td>\n",
       "      <td>2000</td>\n",
       "      <td>23.3</td>\n",
       "      <td>0.4</td>\n",
       "      <td>8.1</td>\n",
       "      <td>5.6</td>\n",
       "      <td>0.4</td>\n",
       "      <td>20.4</td>\n",
       "      <td>13.0</td>\n",
       "      <td>4.8</td>\n",
       "      <td>1.0</td>\n",
       "      <td>3.5</td>\n",
       "      <td>0.2</td>\n",
       "      <td>4.6</td>\n",
       "      <td>1.1</td>\n",
       "    </tr>\n",
       "    <tr>\n",
       "      <th>236</th>\n",
       "      <td>TLS</td>\n",
       "      <td>Timor Leste</td>\n",
       "      <td>2000</td>\n",
       "      <td>12.3</td>\n",
       "      <td>0.9</td>\n",
       "      <td>11.1</td>\n",
       "      <td>4.3</td>\n",
       "      <td>1.5</td>\n",
       "      <td>3.6</td>\n",
       "      <td>22.5</td>\n",
       "      <td>16.1</td>\n",
       "      <td>7.2</td>\n",
       "      <td>0.0</td>\n",
       "      <td>0.0</td>\n",
       "      <td>5.5</td>\n",
       "      <td>3.3</td>\n",
       "    </tr>\n",
       "    <tr>\n",
       "      <th>237</th>\n",
       "      <td>TGO</td>\n",
       "      <td>Togo</td>\n",
       "      <td>2000</td>\n",
       "      <td>9.3</td>\n",
       "      <td>0.9</td>\n",
       "      <td>9.1</td>\n",
       "      <td>4.9</td>\n",
       "      <td>0.7</td>\n",
       "      <td>2.8</td>\n",
       "      <td>11.8</td>\n",
       "      <td>8.4</td>\n",
       "      <td>26.9</td>\n",
       "      <td>4.0</td>\n",
       "      <td>10.2</td>\n",
       "      <td>2.5</td>\n",
       "      <td>2.1</td>\n",
       "    </tr>\n",
       "    <tr>\n",
       "      <th>238</th>\n",
       "      <td>TON</td>\n",
       "      <td>Tonga</td>\n",
       "      <td>2000</td>\n",
       "      <td>19.5</td>\n",
       "      <td>0.0</td>\n",
       "      <td>6.0</td>\n",
       "      <td>4.6</td>\n",
       "      <td>0.0</td>\n",
       "      <td>23.6</td>\n",
       "      <td>12.8</td>\n",
       "      <td>4.9</td>\n",
       "      <td>0.0</td>\n",
       "      <td>0.0</td>\n",
       "      <td>0.0</td>\n",
       "      <td>8.9</td>\n",
       "      <td>1.7</td>\n",
       "    </tr>\n",
       "    <tr>\n",
       "      <th>239</th>\n",
       "      <td>TUN</td>\n",
       "      <td>Tunisia</td>\n",
       "      <td>2000</td>\n",
       "      <td>24.6</td>\n",
       "      <td>0.3</td>\n",
       "      <td>11.5</td>\n",
       "      <td>3.4</td>\n",
       "      <td>1.3</td>\n",
       "      <td>17.7</td>\n",
       "      <td>15.2</td>\n",
       "      <td>5.5</td>\n",
       "      <td>0.0</td>\n",
       "      <td>0.0</td>\n",
       "      <td>0.0</td>\n",
       "      <td>4.9</td>\n",
       "      <td>0.7</td>\n",
       "    </tr>\n",
       "    <tr>\n",
       "      <th>240</th>\n",
       "      <td>TUR</td>\n",
       "      <td>Turkey</td>\n",
       "      <td>2000</td>\n",
       "      <td>24.0</td>\n",
       "      <td>0.0</td>\n",
       "      <td>7.2</td>\n",
       "      <td>3.9</td>\n",
       "      <td>0.0</td>\n",
       "      <td>24.7</td>\n",
       "      <td>8.1</td>\n",
       "      <td>1.0</td>\n",
       "      <td>0.0</td>\n",
       "      <td>0.0</td>\n",
       "      <td>0.0</td>\n",
       "      <td>3.3</td>\n",
       "      <td>0.7</td>\n",
       "    </tr>\n",
       "    <tr>\n",
       "      <th>241</th>\n",
       "      <td>TKM</td>\n",
       "      <td>Turkmenistan</td>\n",
       "      <td>2000</td>\n",
       "      <td>16.3</td>\n",
       "      <td>0.2</td>\n",
       "      <td>10.4</td>\n",
       "      <td>3.7</td>\n",
       "      <td>0.4</td>\n",
       "      <td>7.6</td>\n",
       "      <td>21.1</td>\n",
       "      <td>14.3</td>\n",
       "      <td>0.0</td>\n",
       "      <td>0.0</td>\n",
       "      <td>0.0</td>\n",
       "      <td>6.0</td>\n",
       "      <td>2.8</td>\n",
       "    </tr>\n",
       "    <tr>\n",
       "      <th>242</th>\n",
       "      <td>TUV</td>\n",
       "      <td>Tuvalu</td>\n",
       "      <td>2000</td>\n",
       "      <td>26.5</td>\n",
       "      <td>0.0</td>\n",
       "      <td>11.3</td>\n",
       "      <td>4.7</td>\n",
       "      <td>0.0</td>\n",
       "      <td>13.0</td>\n",
       "      <td>17.9</td>\n",
       "      <td>6.0</td>\n",
       "      <td>0.0</td>\n",
       "      <td>0.0</td>\n",
       "      <td>0.0</td>\n",
       "      <td>6.3</td>\n",
       "      <td>1.5</td>\n",
       "    </tr>\n",
       "    <tr>\n",
       "      <th>243</th>\n",
       "      <td>UGA</td>\n",
       "      <td>Uganda</td>\n",
       "      <td>2000</td>\n",
       "      <td>7.5</td>\n",
       "      <td>0.8</td>\n",
       "      <td>7.4</td>\n",
       "      <td>3.5</td>\n",
       "      <td>0.3</td>\n",
       "      <td>2.6</td>\n",
       "      <td>13.2</td>\n",
       "      <td>10.1</td>\n",
       "      <td>27.2</td>\n",
       "      <td>7.5</td>\n",
       "      <td>7.0</td>\n",
       "      <td>2.8</td>\n",
       "      <td>2.7</td>\n",
       "    </tr>\n",
       "    <tr>\n",
       "      <th>244</th>\n",
       "      <td>UKR</td>\n",
       "      <td>Ukraine</td>\n",
       "      <td>2000</td>\n",
       "      <td>25.8</td>\n",
       "      <td>0.5</td>\n",
       "      <td>7.9</td>\n",
       "      <td>4.0</td>\n",
       "      <td>0.0</td>\n",
       "      <td>22.8</td>\n",
       "      <td>14.7</td>\n",
       "      <td>2.0</td>\n",
       "      <td>0.0</td>\n",
       "      <td>3.7</td>\n",
       "      <td>0.2</td>\n",
       "      <td>6.5</td>\n",
       "      <td>1.6</td>\n",
       "    </tr>\n",
       "    <tr>\n",
       "      <th>245</th>\n",
       "      <td>UZB</td>\n",
       "      <td>Uzbekistan</td>\n",
       "      <td>2000</td>\n",
       "      <td>19.6</td>\n",
       "      <td>0.3</td>\n",
       "      <td>12.2</td>\n",
       "      <td>4.5</td>\n",
       "      <td>0.5</td>\n",
       "      <td>9.2</td>\n",
       "      <td>18.7</td>\n",
       "      <td>11.0</td>\n",
       "      <td>0.0</td>\n",
       "      <td>0.2</td>\n",
       "      <td>0.0</td>\n",
       "      <td>5.3</td>\n",
       "      <td>2.9</td>\n",
       "    </tr>\n",
       "    <tr>\n",
       "      <th>246</th>\n",
       "      <td>VUT</td>\n",
       "      <td>Vanuatu</td>\n",
       "      <td>2000</td>\n",
       "      <td>17.4</td>\n",
       "      <td>1.8</td>\n",
       "      <td>8.3</td>\n",
       "      <td>2.9</td>\n",
       "      <td>0.7</td>\n",
       "      <td>15.7</td>\n",
       "      <td>15.6</td>\n",
       "      <td>15.6</td>\n",
       "      <td>7.9</td>\n",
       "      <td>0.0</td>\n",
       "      <td>0.0</td>\n",
       "      <td>5.2</td>\n",
       "      <td>1.4</td>\n",
       "    </tr>\n",
       "    <tr>\n",
       "      <th>247</th>\n",
       "      <td>VEN</td>\n",
       "      <td>Venezuela</td>\n",
       "      <td>2000</td>\n",
       "      <td>25.2</td>\n",
       "      <td>0.5</td>\n",
       "      <td>9.0</td>\n",
       "      <td>9.7</td>\n",
       "      <td>0.0</td>\n",
       "      <td>14.9</td>\n",
       "      <td>8.1</td>\n",
       "      <td>10.4</td>\n",
       "      <td>0.1</td>\n",
       "      <td>0.2</td>\n",
       "      <td>0.0</td>\n",
       "      <td>6.5</td>\n",
       "      <td>1.9</td>\n",
       "    </tr>\n",
       "    <tr>\n",
       "      <th>248</th>\n",
       "      <td>VNM</td>\n",
       "      <td>Vietnam</td>\n",
       "      <td>2000</td>\n",
       "      <td>18.0</td>\n",
       "      <td>0.2</td>\n",
       "      <td>6.7</td>\n",
       "      <td>3.4</td>\n",
       "      <td>0.4</td>\n",
       "      <td>15.1</td>\n",
       "      <td>19.2</td>\n",
       "      <td>13.9</td>\n",
       "      <td>0.2</td>\n",
       "      <td>0.2</td>\n",
       "      <td>6.7</td>\n",
       "      <td>3.4</td>\n",
       "      <td>1.5</td>\n",
       "    </tr>\n",
       "    <tr>\n",
       "      <th>249</th>\n",
       "      <td>YEM</td>\n",
       "      <td>Yemen</td>\n",
       "      <td>2000</td>\n",
       "      <td>14.2</td>\n",
       "      <td>1.2</td>\n",
       "      <td>9.8</td>\n",
       "      <td>6.2</td>\n",
       "      <td>1.3</td>\n",
       "      <td>3.7</td>\n",
       "      <td>21.9</td>\n",
       "      <td>14.8</td>\n",
       "      <td>1.2</td>\n",
       "      <td>0.0</td>\n",
       "      <td>5.2</td>\n",
       "      <td>5.6</td>\n",
       "      <td>3.0</td>\n",
       "    </tr>\n",
       "    <tr>\n",
       "      <th>250</th>\n",
       "      <td>ZMB</td>\n",
       "      <td>Zambia</td>\n",
       "      <td>2000</td>\n",
       "      <td>6.8</td>\n",
       "      <td>0.6</td>\n",
       "      <td>7.7</td>\n",
       "      <td>3.8</td>\n",
       "      <td>0.3</td>\n",
       "      <td>3.0</td>\n",
       "      <td>16.5</td>\n",
       "      <td>14.4</td>\n",
       "      <td>15.0</td>\n",
       "      <td>11.2</td>\n",
       "      <td>4.8</td>\n",
       "      <td>3.3</td>\n",
       "      <td>2.8</td>\n",
       "    </tr>\n",
       "    <tr>\n",
       "      <th>251</th>\n",
       "      <td>ZWE</td>\n",
       "      <td>Zimbabwe</td>\n",
       "      <td>2000</td>\n",
       "      <td>7.7</td>\n",
       "      <td>0.2</td>\n",
       "      <td>6.7</td>\n",
       "      <td>2.7</td>\n",
       "      <td>0.2</td>\n",
       "      <td>3.3</td>\n",
       "      <td>12.3</td>\n",
       "      <td>8.7</td>\n",
       "      <td>3.4</td>\n",
       "      <td>41.2</td>\n",
       "      <td>0.3</td>\n",
       "      <td>2.9</td>\n",
       "      <td>1.9</td>\n",
       "    </tr>\n",
       "  </tbody>\n",
       "</table>\n",
       "<p>252 rows × 16 columns</p>\n",
       "</div>"
      ],
      "text/plain": [
       "    ISO_Code               CountryName  Year  Preterm  Pertussis  Intrapartum  \\\n",
       "0        AFG               Afghanistan  2015     14.6        1.2         11.0   \n",
       "1        ALB                   Albania  2015     20.8        0.7          7.5   \n",
       "2        DZA                   Algeria  2015     21.9        0.8         13.7   \n",
       "3        AGO                    Angola  2015     12.5        0.5         10.8   \n",
       "4        ARG                 Argentina  2015     25.7        0.6          3.9   \n",
       "5        ARM                   Armenia  2015     23.4        0.6          8.5   \n",
       "6        AZE                Azerbaijan  2015     24.3        0.5         13.6   \n",
       "7        BGD                Bangladesh  2015     19.8        0.4         14.9   \n",
       "8        BLR                   Belarus  2015     20.7        1.4          7.1   \n",
       "9        BLZ                    Belize  2015     17.3        0.0          8.0   \n",
       "10       BEN                     Benin  2015     12.9        1.0          9.4   \n",
       "11       BTN                    Bhutan  2015     21.9        0.4         12.0   \n",
       "12       BOL                   Bolivia  2015     18.7        2.9         14.5   \n",
       "13       BIH      Bosnia & Herzegovina  2015     31.4        0.6          9.8   \n",
       "14       BWA                  Botswana  2015     21.6        0.3         12.2   \n",
       "15       BRA                    Brazil  2015     18.9        0.2          9.3   \n",
       "16       BGR                  Bulgaria  2015     25.5        0.0          9.8   \n",
       "17       BFA              Burkina Faso  2015     11.2        1.0          9.0   \n",
       "18       BDI                   Burundi  2015     12.9        1.1         12.0   \n",
       "19       KHM                  Cambodia  2015     16.4        2.9         13.0   \n",
       "20       CMR                  Cameroon  2015     10.4        1.1         10.8   \n",
       "21       CAF  Central African Republic  2015     10.8        0.9         11.9   \n",
       "22       TCD                      Chad  2015     10.1        0.9         10.4   \n",
       "23       CHN                     China  2015     18.3        0.8         14.3   \n",
       "24       COL                  Colombia  2015     21.0        0.3          5.7   \n",
       "25       COM                   Comoros  2015     19.3        1.5         12.2   \n",
       "26       COG                     Congo  2015     15.6        2.0         11.2   \n",
       "27       CRI                Costa Rica  2015     27.7        0.1          7.6   \n",
       "28       CIV             Cote d Ivoire  2015     14.5        0.9         12.2   \n",
       "29       CUB                      Cuba  2015     16.8        0.0          7.7   \n",
       "..       ...                       ...   ...      ...        ...          ...   \n",
       "222      SRB                    Serbia  2000     31.2        0.0         16.4   \n",
       "223      SYC                Seychelles  2000     27.3        0.0          9.4   \n",
       "224      SLE              Sierra Leone  2000      7.0        0.5          5.6   \n",
       "225      SLB           Solomon Islands  2000     13.5        2.9         12.3   \n",
       "226      SOM                   Somalia  2000      7.4        0.7          8.2   \n",
       "227      ZAF              South Africa  2000      9.5        0.2          5.7   \n",
       "228      SSD               South Sudan  2000      8.5        1.1         10.9   \n",
       "229      LKA                 Sri Lanka  2000     22.8        0.6          8.4   \n",
       "230      SDN                     Sudan  2000     13.3        1.2          9.8   \n",
       "231      SUR                  Suriname  2000     20.9        0.0          7.9   \n",
       "232      SWZ                 Swaziland  2000      6.8        0.8          6.0   \n",
       "233      SYR                     Syria  2000     22.6        0.9         10.9   \n",
       "234      TJK                Tajikistan  2000     13.8        0.2         10.1   \n",
       "235      THA                  Thailand  2000     23.3        0.4          8.1   \n",
       "236      TLS               Timor Leste  2000     12.3        0.9         11.1   \n",
       "237      TGO                      Togo  2000      9.3        0.9          9.1   \n",
       "238      TON                     Tonga  2000     19.5        0.0          6.0   \n",
       "239      TUN                   Tunisia  2000     24.6        0.3         11.5   \n",
       "240      TUR                    Turkey  2000     24.0        0.0          7.2   \n",
       "241      TKM              Turkmenistan  2000     16.3        0.2         10.4   \n",
       "242      TUV                    Tuvalu  2000     26.5        0.0         11.3   \n",
       "243      UGA                    Uganda  2000      7.5        0.8          7.4   \n",
       "244      UKR                   Ukraine  2000     25.8        0.5          7.9   \n",
       "245      UZB                Uzbekistan  2000     19.6        0.3         12.2   \n",
       "246      VUT                   Vanuatu  2000     17.4        1.8          8.3   \n",
       "247      VEN                 Venezuela  2000     25.2        0.5          9.0   \n",
       "248      VNM                   Vietnam  2000     18.0        0.2          6.7   \n",
       "249      YEM                     Yemen  2000     14.2        1.2          9.8   \n",
       "250      ZMB                    Zambia  2000      6.8        0.6          7.7   \n",
       "251      ZWE                  Zimbabwe  2000      7.7        0.2          6.7   \n",
       "\n",
       "     Sepsis  Tetanus  Congenital  Pneumonia  Diarrhoea  Malaria  Aids  \\\n",
       "0       7.0      0.8         4.9       19.8       12.4      0.0   0.0   \n",
       "1       2.7      0.4        27.5       11.9        1.2      0.0   0.3   \n",
       "2       8.8      0.2        16.3       12.9        5.0      0.0   0.1   \n",
       "3       5.0      1.2         5.8       17.4       14.7      6.3   1.2   \n",
       "4       4.9      0.0        28.1        7.4        1.3      0.0   0.1   \n",
       "5       3.5      0.0        26.4       10.7        1.3      0.0   0.2   \n",
       "6       6.9      0.2        14.1       12.2        5.9      0.0   0.1   \n",
       "7      12.4      0.3         9.3       14.5        6.0      0.2   0.0   \n",
       "8       2.4      0.0        35.4        6.1        0.6      0.0   0.1   \n",
       "9       7.6      0.0        23.9        8.3        3.1      0.0   1.2   \n",
       "10      7.0      0.2         5.1       15.4       10.8     11.6   1.1   \n",
       "11      9.0      0.2        11.1       14.6        6.2      0.0   1.6   \n",
       "12      6.5      0.3        14.6       13.9        6.1      0.0   0.3   \n",
       "13      4.9      0.0        32.5        5.1        0.4      0.0   0.1   \n",
       "14      7.0      0.2        11.1       12.4        6.3      0.0   5.1   \n",
       "15      7.8      0.0        22.1        9.1        2.5      0.0   0.2   \n",
       "16      2.5      0.0        25.0       17.0        1.1      0.0   0.0   \n",
       "17      6.8      0.2         4.3       12.8        8.2     21.4   0.6   \n",
       "18      6.0      0.3         5.6       16.0       10.1      6.5   0.9   \n",
       "19      8.7      0.2        10.7       16.5        6.7      0.3   0.5   \n",
       "20      5.3      0.3         6.2       15.5       11.3      9.9   4.0   \n",
       "21      5.1      1.3         4.0       16.0       10.4     15.3   3.4   \n",
       "22      4.6      1.2         4.2       23.3       13.7      6.0   2.1   \n",
       "23      2.9      0.1        17.9       12.1        2.8      0.0   0.2   \n",
       "24      7.2      0.0        24.8       10.2        2.1      0.1   0.2   \n",
       "25      7.1      0.5         6.3       15.8        7.5      7.9   1.1   \n",
       "26      5.9      0.2         9.6       13.4        7.1      5.6   6.3   \n",
       "27      1.4      0.0        38.8        5.0        1.0      0.0   0.0   \n",
       "28      8.4      0.6         4.7       14.5        7.6     16.7   2.1   \n",
       "29      4.6      0.0        23.5       11.2        1.3      0.0   0.1   \n",
       "..      ...      ...         ...        ...        ...      ...   ...   \n",
       "222     4.7      0.0        26.4        5.4        0.9      0.0   0.3   \n",
       "223     6.3      0.0        25.3        6.6        1.2      0.0   0.0   \n",
       "224     3.0      1.0         2.5       12.8       13.6     26.0   0.5   \n",
       "225     6.5      0.2         9.7       16.4        7.7     12.1   0.0   \n",
       "226     2.9      1.7         2.8       17.7       15.7      1.1   0.4   \n",
       "227     2.7      0.0         4.8       14.6       11.7      0.2  28.5   \n",
       "228     3.2      4.8         3.3       18.8       15.9     12.8   1.5   \n",
       "229     4.0      0.5        23.6       10.1        4.1      0.3   0.0   \n",
       "230     5.1      0.8         3.6       21.1       15.0      2.2   0.1   \n",
       "231    14.7      0.0        12.2        8.2        6.6      3.0   1.2   \n",
       "232     2.3      0.1         4.3       15.9       12.3      0.0  35.2   \n",
       "233     3.6      0.6        20.7       14.4        9.5      0.0   0.0   \n",
       "234     3.9      0.5         5.5       22.6       15.5      0.0   0.3   \n",
       "235     5.6      0.4        20.4       13.0        4.8      1.0   3.5   \n",
       "236     4.3      1.5         3.6       22.5       16.1      7.2   0.0   \n",
       "237     4.9      0.7         2.8       11.8        8.4     26.9   4.0   \n",
       "238     4.6      0.0        23.6       12.8        4.9      0.0   0.0   \n",
       "239     3.4      1.3        17.7       15.2        5.5      0.0   0.0   \n",
       "240     3.9      0.0        24.7        8.1        1.0      0.0   0.0   \n",
       "241     3.7      0.4         7.6       21.1       14.3      0.0   0.0   \n",
       "242     4.7      0.0        13.0       17.9        6.0      0.0   0.0   \n",
       "243     3.5      0.3         2.6       13.2       10.1     27.2   7.5   \n",
       "244     4.0      0.0        22.8       14.7        2.0      0.0   3.7   \n",
       "245     4.5      0.5         9.2       18.7       11.0      0.0   0.2   \n",
       "246     2.9      0.7        15.7       15.6       15.6      7.9   0.0   \n",
       "247     9.7      0.0        14.9        8.1       10.4      0.1   0.2   \n",
       "248     3.4      0.4        15.1       19.2       13.9      0.2   0.2   \n",
       "249     6.2      1.3         3.7       21.9       14.8      1.2   0.0   \n",
       "250     3.8      0.3         3.0       16.5       14.4     15.0  11.2   \n",
       "251     2.7      0.2         3.3       12.3        8.7      3.4  41.2   \n",
       "\n",
       "     Measles  Injury  Meningitis  \n",
       "0        1.0     7.3         2.5  \n",
       "1        0.0     8.7         1.9  \n",
       "2        0.1     6.2         0.8  \n",
       "3        0.3     5.3         1.4  \n",
       "4        0.0     7.8         1.3  \n",
       "5        0.0     8.5         1.7  \n",
       "6        0.0     6.2         0.6  \n",
       "7        1.9     6.0         1.5  \n",
       "8        0.0     8.1         1.3  \n",
       "9        0.0     7.0         1.5  \n",
       "10       0.7     5.7         2.4  \n",
       "11       0.0     7.5         1.2  \n",
       "12       0.0     7.5         1.0  \n",
       "13       0.8     2.9         0.5  \n",
       "14       0.7     6.4         0.6  \n",
       "15       0.0     6.1         1.2  \n",
       "16       0.4     5.2         1.8  \n",
       "17       2.3     5.8         2.0  \n",
       "18       0.1     7.9         1.8  \n",
       "19       0.0     8.1         1.8  \n",
       "20       0.2     6.9         1.8  \n",
       "21       0.9     4.4         3.5  \n",
       "22       0.2     5.6         5.0  \n",
       "23       0.3    16.6         1.4  \n",
       "24       0.0     6.7         1.2  \n",
       "25       0.0     5.1         2.1  \n",
       "26       0.7     6.8         1.0  \n",
       "27       0.0     3.8         1.0  \n",
       "28       0.2     4.3         2.1  \n",
       "29       0.0     8.5         2.9  \n",
       "..       ...     ...         ...  \n",
       "222      0.0     4.8         1.4  \n",
       "223      0.0     8.3         1.0  \n",
       "224     15.8     2.0         2.6  \n",
       "225      0.0     5.6         2.9  \n",
       "226     26.2     3.3         3.9  \n",
       "227      0.6     5.0         1.3  \n",
       "228      3.4     3.3         4.4  \n",
       "229      0.0     6.1         0.9  \n",
       "230      5.6     5.1         5.0  \n",
       "231      0.0     8.2         2.1  \n",
       "232      0.0     3.6         2.0  \n",
       "233      0.1     4.2         0.6  \n",
       "234      0.0     6.0         4.5  \n",
       "235      0.2     4.6         1.1  \n",
       "236      0.0     5.5         3.3  \n",
       "237     10.2     2.5         2.1  \n",
       "238      0.0     8.9         1.7  \n",
       "239      0.0     4.9         0.7  \n",
       "240      0.0     3.3         0.7  \n",
       "241      0.0     6.0         2.8  \n",
       "242      0.0     6.3         1.5  \n",
       "243      7.0     2.8         2.7  \n",
       "244      0.2     6.5         1.6  \n",
       "245      0.0     5.3         2.9  \n",
       "246      0.0     5.2         1.4  \n",
       "247      0.0     6.5         1.9  \n",
       "248      6.7     3.4         1.5  \n",
       "249      5.2     5.6         3.0  \n",
       "250      4.8     3.3         2.8  \n",
       "251      0.3     2.9         1.9  \n",
       "\n",
       "[252 rows x 16 columns]"
      ]
     },
     "execution_count": 23,
     "metadata": {},
     "output_type": "execute_result"
    }
   ],
   "source": [
    "developing_countries = under_five.loc[under_five['ISO_Code'].isin(a)]\n",
    "developing_countries.reset_index(drop=True)\n",
    "\n",
    "            \n",
    "      "
   ]
  },
  {
   "cell_type": "markdown",
   "metadata": {},
   "source": [
    "# DataFrame for Developed Countries"
   ]
  },
  {
   "cell_type": "code",
   "execution_count": 24,
   "metadata": {
    "collapsed": false,
    "scrolled": true
   },
   "outputs": [
    {
     "data": {
      "text/html": [
       "<div>\n",
       "<table border=\"1\" class=\"dataframe\">\n",
       "  <thead>\n",
       "    <tr style=\"text-align: right;\">\n",
       "      <th></th>\n",
       "      <th>ISO_Code</th>\n",
       "      <th>CountryName</th>\n",
       "      <th>Year</th>\n",
       "      <th>Preterm</th>\n",
       "      <th>Pertussis</th>\n",
       "      <th>Intrapartum</th>\n",
       "      <th>Sepsis</th>\n",
       "      <th>Tetanus</th>\n",
       "      <th>Congenital</th>\n",
       "      <th>Pneumonia</th>\n",
       "      <th>Diarrhoea</th>\n",
       "      <th>Malaria</th>\n",
       "      <th>Aids</th>\n",
       "      <th>Measles</th>\n",
       "      <th>Injury</th>\n",
       "      <th>Meningitis</th>\n",
       "    </tr>\n",
       "  </thead>\n",
       "  <tbody>\n",
       "    <tr>\n",
       "      <th>0</th>\n",
       "      <td>AND</td>\n",
       "      <td>Andorra</td>\n",
       "      <td>2015</td>\n",
       "      <td>24.3</td>\n",
       "      <td>0.0</td>\n",
       "      <td>7.4</td>\n",
       "      <td>2.9</td>\n",
       "      <td>0.0</td>\n",
       "      <td>36.0</td>\n",
       "      <td>2.7</td>\n",
       "      <td>0.1</td>\n",
       "      <td>0.0</td>\n",
       "      <td>0.0</td>\n",
       "      <td>0.0</td>\n",
       "      <td>6.1</td>\n",
       "      <td>0.8</td>\n",
       "    </tr>\n",
       "    <tr>\n",
       "      <th>1</th>\n",
       "      <td>ATG</td>\n",
       "      <td>Antigua &amp; Barbuda</td>\n",
       "      <td>2015</td>\n",
       "      <td>26.5</td>\n",
       "      <td>0.0</td>\n",
       "      <td>14.2</td>\n",
       "      <td>0.0</td>\n",
       "      <td>0.0</td>\n",
       "      <td>21.6</td>\n",
       "      <td>3.2</td>\n",
       "      <td>0.0</td>\n",
       "      <td>0.0</td>\n",
       "      <td>2.6</td>\n",
       "      <td>0.0</td>\n",
       "      <td>4.5</td>\n",
       "      <td>0.0</td>\n",
       "    </tr>\n",
       "    <tr>\n",
       "      <th>2</th>\n",
       "      <td>AUS</td>\n",
       "      <td>Australia</td>\n",
       "      <td>2015</td>\n",
       "      <td>19.7</td>\n",
       "      <td>0.1</td>\n",
       "      <td>10.4</td>\n",
       "      <td>1.2</td>\n",
       "      <td>0.0</td>\n",
       "      <td>28.0</td>\n",
       "      <td>2.7</td>\n",
       "      <td>0.3</td>\n",
       "      <td>0.1</td>\n",
       "      <td>0.0</td>\n",
       "      <td>0.0</td>\n",
       "      <td>7.7</td>\n",
       "      <td>0.9</td>\n",
       "    </tr>\n",
       "    <tr>\n",
       "      <th>3</th>\n",
       "      <td>AUT</td>\n",
       "      <td>Austria</td>\n",
       "      <td>2015</td>\n",
       "      <td>23.5</td>\n",
       "      <td>0.0</td>\n",
       "      <td>6.5</td>\n",
       "      <td>1.6</td>\n",
       "      <td>0.0</td>\n",
       "      <td>33.6</td>\n",
       "      <td>1.5</td>\n",
       "      <td>0.4</td>\n",
       "      <td>0.0</td>\n",
       "      <td>0.1</td>\n",
       "      <td>0.0</td>\n",
       "      <td>4.9</td>\n",
       "      <td>1.8</td>\n",
       "    </tr>\n",
       "    <tr>\n",
       "      <th>4</th>\n",
       "      <td>BHS</td>\n",
       "      <td>Bahamas</td>\n",
       "      <td>2015</td>\n",
       "      <td>28.2</td>\n",
       "      <td>0.0</td>\n",
       "      <td>8.3</td>\n",
       "      <td>3.9</td>\n",
       "      <td>0.0</td>\n",
       "      <td>11.7</td>\n",
       "      <td>13.0</td>\n",
       "      <td>0.6</td>\n",
       "      <td>0.0</td>\n",
       "      <td>0.9</td>\n",
       "      <td>0.0</td>\n",
       "      <td>9.9</td>\n",
       "      <td>0.6</td>\n",
       "    </tr>\n",
       "    <tr>\n",
       "      <th>5</th>\n",
       "      <td>BHR</td>\n",
       "      <td>Bahrain</td>\n",
       "      <td>2015</td>\n",
       "      <td>21.9</td>\n",
       "      <td>0.0</td>\n",
       "      <td>2.9</td>\n",
       "      <td>0.6</td>\n",
       "      <td>0.0</td>\n",
       "      <td>36.1</td>\n",
       "      <td>2.3</td>\n",
       "      <td>0.4</td>\n",
       "      <td>0.0</td>\n",
       "      <td>0.4</td>\n",
       "      <td>0.0</td>\n",
       "      <td>5.6</td>\n",
       "      <td>1.2</td>\n",
       "    </tr>\n",
       "    <tr>\n",
       "      <th>6</th>\n",
       "      <td>BRB</td>\n",
       "      <td>Barbados</td>\n",
       "      <td>2015</td>\n",
       "      <td>19.1</td>\n",
       "      <td>0.0</td>\n",
       "      <td>12.7</td>\n",
       "      <td>13.1</td>\n",
       "      <td>0.0</td>\n",
       "      <td>18.8</td>\n",
       "      <td>2.6</td>\n",
       "      <td>0.0</td>\n",
       "      <td>0.0</td>\n",
       "      <td>0.0</td>\n",
       "      <td>0.0</td>\n",
       "      <td>6.6</td>\n",
       "      <td>0.0</td>\n",
       "    </tr>\n",
       "    <tr>\n",
       "      <th>7</th>\n",
       "      <td>BEL</td>\n",
       "      <td>Belgium</td>\n",
       "      <td>2015</td>\n",
       "      <td>16.3</td>\n",
       "      <td>0.3</td>\n",
       "      <td>9.1</td>\n",
       "      <td>2.0</td>\n",
       "      <td>0.0</td>\n",
       "      <td>29.4</td>\n",
       "      <td>1.6</td>\n",
       "      <td>0.1</td>\n",
       "      <td>0.0</td>\n",
       "      <td>0.0</td>\n",
       "      <td>0.0</td>\n",
       "      <td>9.7</td>\n",
       "      <td>1.6</td>\n",
       "    </tr>\n",
       "    <tr>\n",
       "      <th>8</th>\n",
       "      <td>BRN</td>\n",
       "      <td>Brunei</td>\n",
       "      <td>2015</td>\n",
       "      <td>18.1</td>\n",
       "      <td>0.0</td>\n",
       "      <td>8.7</td>\n",
       "      <td>8.0</td>\n",
       "      <td>0.0</td>\n",
       "      <td>25.2</td>\n",
       "      <td>3.7</td>\n",
       "      <td>2.3</td>\n",
       "      <td>0.0</td>\n",
       "      <td>0.0</td>\n",
       "      <td>0.0</td>\n",
       "      <td>2.8</td>\n",
       "      <td>0.3</td>\n",
       "    </tr>\n",
       "    <tr>\n",
       "      <th>9</th>\n",
       "      <td>CAN</td>\n",
       "      <td>Canada</td>\n",
       "      <td>2015</td>\n",
       "      <td>27.1</td>\n",
       "      <td>0.2</td>\n",
       "      <td>9.2</td>\n",
       "      <td>3.2</td>\n",
       "      <td>0.0</td>\n",
       "      <td>31.4</td>\n",
       "      <td>2.1</td>\n",
       "      <td>0.3</td>\n",
       "      <td>0.0</td>\n",
       "      <td>0.0</td>\n",
       "      <td>0.0</td>\n",
       "      <td>6.7</td>\n",
       "      <td>1.0</td>\n",
       "    </tr>\n",
       "    <tr>\n",
       "      <th>10</th>\n",
       "      <td>CPV</td>\n",
       "      <td>Cape Verde</td>\n",
       "      <td>2015</td>\n",
       "      <td>20.9</td>\n",
       "      <td>0.7</td>\n",
       "      <td>8.5</td>\n",
       "      <td>4.5</td>\n",
       "      <td>0.4</td>\n",
       "      <td>20.9</td>\n",
       "      <td>13.7</td>\n",
       "      <td>5.3</td>\n",
       "      <td>0.0</td>\n",
       "      <td>0.7</td>\n",
       "      <td>0.0</td>\n",
       "      <td>4.8</td>\n",
       "      <td>1.3</td>\n",
       "    </tr>\n",
       "    <tr>\n",
       "      <th>11</th>\n",
       "      <td>CHL</td>\n",
       "      <td>Chile</td>\n",
       "      <td>2015</td>\n",
       "      <td>26.5</td>\n",
       "      <td>0.5</td>\n",
       "      <td>4.2</td>\n",
       "      <td>2.7</td>\n",
       "      <td>0.0</td>\n",
       "      <td>39.9</td>\n",
       "      <td>3.5</td>\n",
       "      <td>0.1</td>\n",
       "      <td>0.0</td>\n",
       "      <td>0.1</td>\n",
       "      <td>0.0</td>\n",
       "      <td>6.5</td>\n",
       "      <td>0.9</td>\n",
       "    </tr>\n",
       "    <tr>\n",
       "      <th>12</th>\n",
       "      <td>COD</td>\n",
       "      <td>Congo DR</td>\n",
       "      <td>2015</td>\n",
       "      <td>12.6</td>\n",
       "      <td>1.0</td>\n",
       "      <td>9.9</td>\n",
       "      <td>5.0</td>\n",
       "      <td>0.4</td>\n",
       "      <td>4.8</td>\n",
       "      <td>15.2</td>\n",
       "      <td>10.5</td>\n",
       "      <td>11.9</td>\n",
       "      <td>1.1</td>\n",
       "      <td>3.1</td>\n",
       "      <td>5.7</td>\n",
       "      <td>2.6</td>\n",
       "    </tr>\n",
       "    <tr>\n",
       "      <th>13</th>\n",
       "      <td>COK</td>\n",
       "      <td>Cook Islands</td>\n",
       "      <td>2015</td>\n",
       "      <td>28.2</td>\n",
       "      <td>0.0</td>\n",
       "      <td>11.2</td>\n",
       "      <td>3.8</td>\n",
       "      <td>0.0</td>\n",
       "      <td>29.0</td>\n",
       "      <td>4.8</td>\n",
       "      <td>0.7</td>\n",
       "      <td>0.0</td>\n",
       "      <td>0.0</td>\n",
       "      <td>0.0</td>\n",
       "      <td>5.5</td>\n",
       "      <td>0.8</td>\n",
       "    </tr>\n",
       "    <tr>\n",
       "      <th>14</th>\n",
       "      <td>HRV</td>\n",
       "      <td>Croatia</td>\n",
       "      <td>2015</td>\n",
       "      <td>15.6</td>\n",
       "      <td>0.0</td>\n",
       "      <td>7.2</td>\n",
       "      <td>3.4</td>\n",
       "      <td>0.0</td>\n",
       "      <td>27.3</td>\n",
       "      <td>2.7</td>\n",
       "      <td>0.0</td>\n",
       "      <td>0.0</td>\n",
       "      <td>0.0</td>\n",
       "      <td>0.0</td>\n",
       "      <td>4.5</td>\n",
       "      <td>2.5</td>\n",
       "    </tr>\n",
       "    <tr>\n",
       "      <th>15</th>\n",
       "      <td>CYP</td>\n",
       "      <td>Cyprus</td>\n",
       "      <td>2015</td>\n",
       "      <td>24.8</td>\n",
       "      <td>1.2</td>\n",
       "      <td>8.4</td>\n",
       "      <td>3.3</td>\n",
       "      <td>0.0</td>\n",
       "      <td>35.8</td>\n",
       "      <td>2.6</td>\n",
       "      <td>0.2</td>\n",
       "      <td>0.0</td>\n",
       "      <td>0.1</td>\n",
       "      <td>0.0</td>\n",
       "      <td>5.0</td>\n",
       "      <td>0.7</td>\n",
       "    </tr>\n",
       "    <tr>\n",
       "      <th>16</th>\n",
       "      <td>CZE</td>\n",
       "      <td>Czech Republic</td>\n",
       "      <td>2015</td>\n",
       "      <td>25.9</td>\n",
       "      <td>0.0</td>\n",
       "      <td>10.1</td>\n",
       "      <td>4.6</td>\n",
       "      <td>0.0</td>\n",
       "      <td>22.6</td>\n",
       "      <td>6.0</td>\n",
       "      <td>1.0</td>\n",
       "      <td>0.0</td>\n",
       "      <td>0.0</td>\n",
       "      <td>0.0</td>\n",
       "      <td>8.3</td>\n",
       "      <td>1.5</td>\n",
       "    </tr>\n",
       "    <tr>\n",
       "      <th>17</th>\n",
       "      <td>DNK</td>\n",
       "      <td>Denmark</td>\n",
       "      <td>2015</td>\n",
       "      <td>38.4</td>\n",
       "      <td>0.0</td>\n",
       "      <td>8.3</td>\n",
       "      <td>1.4</td>\n",
       "      <td>0.0</td>\n",
       "      <td>24.7</td>\n",
       "      <td>1.2</td>\n",
       "      <td>0.6</td>\n",
       "      <td>0.0</td>\n",
       "      <td>0.0</td>\n",
       "      <td>0.0</td>\n",
       "      <td>4.1</td>\n",
       "      <td>0.9</td>\n",
       "    </tr>\n",
       "    <tr>\n",
       "      <th>18</th>\n",
       "      <td>GNQ</td>\n",
       "      <td>Equatorial Guinea</td>\n",
       "      <td>2015</td>\n",
       "      <td>13.1</td>\n",
       "      <td>1.3</td>\n",
       "      <td>11.3</td>\n",
       "      <td>4.4</td>\n",
       "      <td>0.5</td>\n",
       "      <td>6.1</td>\n",
       "      <td>15.8</td>\n",
       "      <td>7.5</td>\n",
       "      <td>8.6</td>\n",
       "      <td>4.5</td>\n",
       "      <td>9.2</td>\n",
       "      <td>4.5</td>\n",
       "      <td>1.1</td>\n",
       "    </tr>\n",
       "    <tr>\n",
       "      <th>19</th>\n",
       "      <td>EST</td>\n",
       "      <td>Estonia</td>\n",
       "      <td>2015</td>\n",
       "      <td>10.8</td>\n",
       "      <td>0.0</td>\n",
       "      <td>12.4</td>\n",
       "      <td>8.3</td>\n",
       "      <td>0.0</td>\n",
       "      <td>28.0</td>\n",
       "      <td>5.6</td>\n",
       "      <td>0.5</td>\n",
       "      <td>0.0</td>\n",
       "      <td>0.0</td>\n",
       "      <td>0.0</td>\n",
       "      <td>16.4</td>\n",
       "      <td>2.1</td>\n",
       "    </tr>\n",
       "    <tr>\n",
       "      <th>20</th>\n",
       "      <td>FSM</td>\n",
       "      <td>Federated States of Micronesia</td>\n",
       "      <td>2015</td>\n",
       "      <td>19.5</td>\n",
       "      <td>0.0</td>\n",
       "      <td>13.8</td>\n",
       "      <td>7.0</td>\n",
       "      <td>0.2</td>\n",
       "      <td>12.4</td>\n",
       "      <td>14.6</td>\n",
       "      <td>6.2</td>\n",
       "      <td>0.0</td>\n",
       "      <td>0.0</td>\n",
       "      <td>0.0</td>\n",
       "      <td>7.0</td>\n",
       "      <td>1.4</td>\n",
       "    </tr>\n",
       "    <tr>\n",
       "      <th>21</th>\n",
       "      <td>FIN</td>\n",
       "      <td>Finland</td>\n",
       "      <td>2015</td>\n",
       "      <td>20.0</td>\n",
       "      <td>0.0</td>\n",
       "      <td>9.0</td>\n",
       "      <td>2.8</td>\n",
       "      <td>0.0</td>\n",
       "      <td>31.9</td>\n",
       "      <td>2.6</td>\n",
       "      <td>0.0</td>\n",
       "      <td>0.0</td>\n",
       "      <td>0.0</td>\n",
       "      <td>0.0</td>\n",
       "      <td>7.6</td>\n",
       "      <td>0.7</td>\n",
       "    </tr>\n",
       "    <tr>\n",
       "      <th>22</th>\n",
       "      <td>FRA</td>\n",
       "      <td>France</td>\n",
       "      <td>2015</td>\n",
       "      <td>17.6</td>\n",
       "      <td>0.0</td>\n",
       "      <td>10.1</td>\n",
       "      <td>3.0</td>\n",
       "      <td>0.0</td>\n",
       "      <td>26.8</td>\n",
       "      <td>1.8</td>\n",
       "      <td>1.2</td>\n",
       "      <td>0.0</td>\n",
       "      <td>0.1</td>\n",
       "      <td>0.0</td>\n",
       "      <td>7.3</td>\n",
       "      <td>1.6</td>\n",
       "    </tr>\n",
       "    <tr>\n",
       "      <th>23</th>\n",
       "      <td>DEU</td>\n",
       "      <td>Germany</td>\n",
       "      <td>2015</td>\n",
       "      <td>28.0</td>\n",
       "      <td>0.0</td>\n",
       "      <td>6.8</td>\n",
       "      <td>2.1</td>\n",
       "      <td>0.0</td>\n",
       "      <td>31.2</td>\n",
       "      <td>1.9</td>\n",
       "      <td>0.4</td>\n",
       "      <td>0.0</td>\n",
       "      <td>0.0</td>\n",
       "      <td>0.0</td>\n",
       "      <td>5.2</td>\n",
       "      <td>0.8</td>\n",
       "    </tr>\n",
       "    <tr>\n",
       "      <th>24</th>\n",
       "      <td>GRC</td>\n",
       "      <td>Greece</td>\n",
       "      <td>2015</td>\n",
       "      <td>34.0</td>\n",
       "      <td>0.0</td>\n",
       "      <td>5.4</td>\n",
       "      <td>0.5</td>\n",
       "      <td>0.0</td>\n",
       "      <td>43.6</td>\n",
       "      <td>3.3</td>\n",
       "      <td>0.0</td>\n",
       "      <td>0.0</td>\n",
       "      <td>0.0</td>\n",
       "      <td>0.0</td>\n",
       "      <td>4.0</td>\n",
       "      <td>0.4</td>\n",
       "    </tr>\n",
       "    <tr>\n",
       "      <th>25</th>\n",
       "      <td>HND</td>\n",
       "      <td>Honduras</td>\n",
       "      <td>2015</td>\n",
       "      <td>19.5</td>\n",
       "      <td>1.1</td>\n",
       "      <td>7.7</td>\n",
       "      <td>7.8</td>\n",
       "      <td>0.6</td>\n",
       "      <td>18.9</td>\n",
       "      <td>11.2</td>\n",
       "      <td>7.8</td>\n",
       "      <td>0.0</td>\n",
       "      <td>1.6</td>\n",
       "      <td>0.0</td>\n",
       "      <td>3.6</td>\n",
       "      <td>1.0</td>\n",
       "    </tr>\n",
       "    <tr>\n",
       "      <th>26</th>\n",
       "      <td>ISL</td>\n",
       "      <td>Iceland</td>\n",
       "      <td>2015</td>\n",
       "      <td>28.8</td>\n",
       "      <td>0.0</td>\n",
       "      <td>4.5</td>\n",
       "      <td>7.3</td>\n",
       "      <td>0.0</td>\n",
       "      <td>14.5</td>\n",
       "      <td>0.0</td>\n",
       "      <td>0.0</td>\n",
       "      <td>0.0</td>\n",
       "      <td>0.0</td>\n",
       "      <td>0.0</td>\n",
       "      <td>2.1</td>\n",
       "      <td>0.0</td>\n",
       "    </tr>\n",
       "    <tr>\n",
       "      <th>27</th>\n",
       "      <td>IRL</td>\n",
       "      <td>Ireland</td>\n",
       "      <td>2015</td>\n",
       "      <td>24.7</td>\n",
       "      <td>0.0</td>\n",
       "      <td>6.6</td>\n",
       "      <td>2.3</td>\n",
       "      <td>0.0</td>\n",
       "      <td>43.1</td>\n",
       "      <td>2.0</td>\n",
       "      <td>0.3</td>\n",
       "      <td>0.0</td>\n",
       "      <td>0.0</td>\n",
       "      <td>0.0</td>\n",
       "      <td>3.9</td>\n",
       "      <td>1.8</td>\n",
       "    </tr>\n",
       "    <tr>\n",
       "      <th>28</th>\n",
       "      <td>ISR</td>\n",
       "      <td>Israel</td>\n",
       "      <td>2015</td>\n",
       "      <td>21.5</td>\n",
       "      <td>0.0</td>\n",
       "      <td>3.9</td>\n",
       "      <td>2.7</td>\n",
       "      <td>0.0</td>\n",
       "      <td>35.7</td>\n",
       "      <td>1.8</td>\n",
       "      <td>0.5</td>\n",
       "      <td>0.0</td>\n",
       "      <td>0.0</td>\n",
       "      <td>0.0</td>\n",
       "      <td>6.6</td>\n",
       "      <td>1.2</td>\n",
       "    </tr>\n",
       "    <tr>\n",
       "      <th>29</th>\n",
       "      <td>ITA</td>\n",
       "      <td>Italy</td>\n",
       "      <td>2015</td>\n",
       "      <td>26.2</td>\n",
       "      <td>0.0</td>\n",
       "      <td>7.5</td>\n",
       "      <td>3.4</td>\n",
       "      <td>0.0</td>\n",
       "      <td>26.9</td>\n",
       "      <td>1.5</td>\n",
       "      <td>0.2</td>\n",
       "      <td>0.0</td>\n",
       "      <td>0.0</td>\n",
       "      <td>0.0</td>\n",
       "      <td>3.4</td>\n",
       "      <td>0.6</td>\n",
       "    </tr>\n",
       "    <tr>\n",
       "      <th>...</th>\n",
       "      <td>...</td>\n",
       "      <td>...</td>\n",
       "      <td>...</td>\n",
       "      <td>...</td>\n",
       "      <td>...</td>\n",
       "      <td>...</td>\n",
       "      <td>...</td>\n",
       "      <td>...</td>\n",
       "      <td>...</td>\n",
       "      <td>...</td>\n",
       "      <td>...</td>\n",
       "      <td>...</td>\n",
       "      <td>...</td>\n",
       "      <td>...</td>\n",
       "      <td>...</td>\n",
       "      <td>...</td>\n",
       "    </tr>\n",
       "    <tr>\n",
       "      <th>106</th>\n",
       "      <td>MWI</td>\n",
       "      <td>Malawi</td>\n",
       "      <td>2000</td>\n",
       "      <td>7.5</td>\n",
       "      <td>0.6</td>\n",
       "      <td>7.0</td>\n",
       "      <td>3.8</td>\n",
       "      <td>0.3</td>\n",
       "      <td>2.9</td>\n",
       "      <td>16.2</td>\n",
       "      <td>13.9</td>\n",
       "      <td>15.7</td>\n",
       "      <td>14.6</td>\n",
       "      <td>0.2</td>\n",
       "      <td>3.1</td>\n",
       "      <td>3.9</td>\n",
       "    </tr>\n",
       "    <tr>\n",
       "      <th>107</th>\n",
       "      <td>MLT</td>\n",
       "      <td>Malta</td>\n",
       "      <td>2000</td>\n",
       "      <td>36.6</td>\n",
       "      <td>0.0</td>\n",
       "      <td>6.7</td>\n",
       "      <td>3.1</td>\n",
       "      <td>0.0</td>\n",
       "      <td>20.6</td>\n",
       "      <td>1.5</td>\n",
       "      <td>0.0</td>\n",
       "      <td>0.0</td>\n",
       "      <td>0.0</td>\n",
       "      <td>0.0</td>\n",
       "      <td>4.8</td>\n",
       "      <td>5.2</td>\n",
       "    </tr>\n",
       "    <tr>\n",
       "      <th>108</th>\n",
       "      <td>MDA</td>\n",
       "      <td>Moldova</td>\n",
       "      <td>2000</td>\n",
       "      <td>5.9</td>\n",
       "      <td>0.0</td>\n",
       "      <td>13.5</td>\n",
       "      <td>8.2</td>\n",
       "      <td>0.0</td>\n",
       "      <td>25.7</td>\n",
       "      <td>26.3</td>\n",
       "      <td>1.4</td>\n",
       "      <td>0.0</td>\n",
       "      <td>0.0</td>\n",
       "      <td>0.0</td>\n",
       "      <td>10.4</td>\n",
       "      <td>1.7</td>\n",
       "    </tr>\n",
       "    <tr>\n",
       "      <th>109</th>\n",
       "      <td>MCO</td>\n",
       "      <td>Monaco</td>\n",
       "      <td>2000</td>\n",
       "      <td>38.8</td>\n",
       "      <td>0.0</td>\n",
       "      <td>13.0</td>\n",
       "      <td>4.0</td>\n",
       "      <td>0.0</td>\n",
       "      <td>32.4</td>\n",
       "      <td>0.4</td>\n",
       "      <td>0.0</td>\n",
       "      <td>0.0</td>\n",
       "      <td>0.0</td>\n",
       "      <td>0.0</td>\n",
       "      <td>0.5</td>\n",
       "      <td>0.0</td>\n",
       "    </tr>\n",
       "    <tr>\n",
       "      <th>110</th>\n",
       "      <td>NRU</td>\n",
       "      <td>Nauru</td>\n",
       "      <td>2000</td>\n",
       "      <td>22.1</td>\n",
       "      <td>0.0</td>\n",
       "      <td>13.9</td>\n",
       "      <td>6.5</td>\n",
       "      <td>0.5</td>\n",
       "      <td>10.9</td>\n",
       "      <td>16.4</td>\n",
       "      <td>8.9</td>\n",
       "      <td>0.0</td>\n",
       "      <td>0.0</td>\n",
       "      <td>0.0</td>\n",
       "      <td>5.3</td>\n",
       "      <td>1.7</td>\n",
       "    </tr>\n",
       "    <tr>\n",
       "      <th>111</th>\n",
       "      <td>NLD</td>\n",
       "      <td>Netherlands</td>\n",
       "      <td>2000</td>\n",
       "      <td>21.2</td>\n",
       "      <td>0.0</td>\n",
       "      <td>11.8</td>\n",
       "      <td>3.3</td>\n",
       "      <td>0.0</td>\n",
       "      <td>35.6</td>\n",
       "      <td>2.3</td>\n",
       "      <td>0.0</td>\n",
       "      <td>0.0</td>\n",
       "      <td>0.0</td>\n",
       "      <td>0.0</td>\n",
       "      <td>5.8</td>\n",
       "      <td>2.9</td>\n",
       "    </tr>\n",
       "    <tr>\n",
       "      <th>112</th>\n",
       "      <td>NZL</td>\n",
       "      <td>New Zealand</td>\n",
       "      <td>2000</td>\n",
       "      <td>22.4</td>\n",
       "      <td>0.4</td>\n",
       "      <td>6.4</td>\n",
       "      <td>1.1</td>\n",
       "      <td>0.0</td>\n",
       "      <td>28.8</td>\n",
       "      <td>5.7</td>\n",
       "      <td>0.4</td>\n",
       "      <td>0.0</td>\n",
       "      <td>0.0</td>\n",
       "      <td>0.0</td>\n",
       "      <td>12.2</td>\n",
       "      <td>4.2</td>\n",
       "    </tr>\n",
       "    <tr>\n",
       "      <th>113</th>\n",
       "      <td>NIU</td>\n",
       "      <td>Niue</td>\n",
       "      <td>2000</td>\n",
       "      <td>4.8</td>\n",
       "      <td>0.0</td>\n",
       "      <td>2.6</td>\n",
       "      <td>0.0</td>\n",
       "      <td>0.0</td>\n",
       "      <td>21.4</td>\n",
       "      <td>20.9</td>\n",
       "      <td>4.0</td>\n",
       "      <td>0.0</td>\n",
       "      <td>0.0</td>\n",
       "      <td>0.0</td>\n",
       "      <td>13.6</td>\n",
       "      <td>4.2</td>\n",
       "    </tr>\n",
       "    <tr>\n",
       "      <th>114</th>\n",
       "      <td>NOR</td>\n",
       "      <td>Norway</td>\n",
       "      <td>2000</td>\n",
       "      <td>12.3</td>\n",
       "      <td>0.0</td>\n",
       "      <td>10.1</td>\n",
       "      <td>1.1</td>\n",
       "      <td>0.0</td>\n",
       "      <td>37.1</td>\n",
       "      <td>3.4</td>\n",
       "      <td>0.5</td>\n",
       "      <td>0.0</td>\n",
       "      <td>0.0</td>\n",
       "      <td>0.0</td>\n",
       "      <td>6.2</td>\n",
       "      <td>5.0</td>\n",
       "    </tr>\n",
       "    <tr>\n",
       "      <th>115</th>\n",
       "      <td>OMN</td>\n",
       "      <td>Oman</td>\n",
       "      <td>2000</td>\n",
       "      <td>18.1</td>\n",
       "      <td>1.0</td>\n",
       "      <td>8.3</td>\n",
       "      <td>2.8</td>\n",
       "      <td>0.0</td>\n",
       "      <td>25.2</td>\n",
       "      <td>11.1</td>\n",
       "      <td>2.2</td>\n",
       "      <td>0.0</td>\n",
       "      <td>0.4</td>\n",
       "      <td>0.0</td>\n",
       "      <td>9.4</td>\n",
       "      <td>0.9</td>\n",
       "    </tr>\n",
       "    <tr>\n",
       "      <th>116</th>\n",
       "      <td>POL</td>\n",
       "      <td>Poland</td>\n",
       "      <td>2000</td>\n",
       "      <td>25.9</td>\n",
       "      <td>0.0</td>\n",
       "      <td>9.2</td>\n",
       "      <td>5.8</td>\n",
       "      <td>0.0</td>\n",
       "      <td>36.3</td>\n",
       "      <td>5.0</td>\n",
       "      <td>0.2</td>\n",
       "      <td>0.0</td>\n",
       "      <td>0.0</td>\n",
       "      <td>0.0</td>\n",
       "      <td>6.1</td>\n",
       "      <td>1.1</td>\n",
       "    </tr>\n",
       "    <tr>\n",
       "      <th>117</th>\n",
       "      <td>PRT</td>\n",
       "      <td>Portugal</td>\n",
       "      <td>2000</td>\n",
       "      <td>18.3</td>\n",
       "      <td>0.1</td>\n",
       "      <td>6.4</td>\n",
       "      <td>2.4</td>\n",
       "      <td>0.0</td>\n",
       "      <td>31.5</td>\n",
       "      <td>3.7</td>\n",
       "      <td>0.2</td>\n",
       "      <td>0.2</td>\n",
       "      <td>0.2</td>\n",
       "      <td>0.0</td>\n",
       "      <td>9.5</td>\n",
       "      <td>4.4</td>\n",
       "    </tr>\n",
       "    <tr>\n",
       "      <th>118</th>\n",
       "      <td>QAT</td>\n",
       "      <td>Qatar</td>\n",
       "      <td>2000</td>\n",
       "      <td>25.0</td>\n",
       "      <td>0.7</td>\n",
       "      <td>9.1</td>\n",
       "      <td>2.6</td>\n",
       "      <td>0.0</td>\n",
       "      <td>25.5</td>\n",
       "      <td>5.2</td>\n",
       "      <td>0.8</td>\n",
       "      <td>0.0</td>\n",
       "      <td>0.1</td>\n",
       "      <td>0.0</td>\n",
       "      <td>9.8</td>\n",
       "      <td>0.8</td>\n",
       "    </tr>\n",
       "    <tr>\n",
       "      <th>119</th>\n",
       "      <td>KNA</td>\n",
       "      <td>Saint Kitts &amp; Nevis</td>\n",
       "      <td>2000</td>\n",
       "      <td>35.1</td>\n",
       "      <td>0.0</td>\n",
       "      <td>19.1</td>\n",
       "      <td>3.7</td>\n",
       "      <td>0.0</td>\n",
       "      <td>12.3</td>\n",
       "      <td>2.6</td>\n",
       "      <td>2.6</td>\n",
       "      <td>0.0</td>\n",
       "      <td>0.0</td>\n",
       "      <td>0.0</td>\n",
       "      <td>1.7</td>\n",
       "      <td>0.0</td>\n",
       "    </tr>\n",
       "    <tr>\n",
       "      <th>120</th>\n",
       "      <td>LCA</td>\n",
       "      <td>Saint Lucia</td>\n",
       "      <td>2000</td>\n",
       "      <td>30.9</td>\n",
       "      <td>0.0</td>\n",
       "      <td>10.4</td>\n",
       "      <td>10.5</td>\n",
       "      <td>0.0</td>\n",
       "      <td>13.7</td>\n",
       "      <td>4.0</td>\n",
       "      <td>2.3</td>\n",
       "      <td>0.0</td>\n",
       "      <td>2.2</td>\n",
       "      <td>0.0</td>\n",
       "      <td>5.7</td>\n",
       "      <td>0.8</td>\n",
       "    </tr>\n",
       "    <tr>\n",
       "      <th>121</th>\n",
       "      <td>SMR</td>\n",
       "      <td>San Marino</td>\n",
       "      <td>2000</td>\n",
       "      <td>3.3</td>\n",
       "      <td>0.0</td>\n",
       "      <td>4.1</td>\n",
       "      <td>0.0</td>\n",
       "      <td>0.0</td>\n",
       "      <td>30.5</td>\n",
       "      <td>5.2</td>\n",
       "      <td>0.2</td>\n",
       "      <td>0.0</td>\n",
       "      <td>0.0</td>\n",
       "      <td>0.0</td>\n",
       "      <td>18.8</td>\n",
       "      <td>3.0</td>\n",
       "    </tr>\n",
       "    <tr>\n",
       "      <th>122</th>\n",
       "      <td>SAU</td>\n",
       "      <td>Saudi Arabia</td>\n",
       "      <td>2000</td>\n",
       "      <td>22.9</td>\n",
       "      <td>0.8</td>\n",
       "      <td>10.4</td>\n",
       "      <td>3.9</td>\n",
       "      <td>0.0</td>\n",
       "      <td>21.4</td>\n",
       "      <td>9.8</td>\n",
       "      <td>2.6</td>\n",
       "      <td>0.0</td>\n",
       "      <td>0.0</td>\n",
       "      <td>0.1</td>\n",
       "      <td>9.0</td>\n",
       "      <td>0.8</td>\n",
       "    </tr>\n",
       "    <tr>\n",
       "      <th>123</th>\n",
       "      <td>SGP</td>\n",
       "      <td>Singapore</td>\n",
       "      <td>2000</td>\n",
       "      <td>20.3</td>\n",
       "      <td>0.0</td>\n",
       "      <td>3.6</td>\n",
       "      <td>1.7</td>\n",
       "      <td>0.0</td>\n",
       "      <td>33.1</td>\n",
       "      <td>8.8</td>\n",
       "      <td>0.0</td>\n",
       "      <td>0.0</td>\n",
       "      <td>0.0</td>\n",
       "      <td>0.0</td>\n",
       "      <td>6.3</td>\n",
       "      <td>4.0</td>\n",
       "    </tr>\n",
       "    <tr>\n",
       "      <th>124</th>\n",
       "      <td>SVK</td>\n",
       "      <td>Slovakia</td>\n",
       "      <td>2000</td>\n",
       "      <td>31.4</td>\n",
       "      <td>0.0</td>\n",
       "      <td>4.9</td>\n",
       "      <td>1.5</td>\n",
       "      <td>0.0</td>\n",
       "      <td>27.9</td>\n",
       "      <td>11.4</td>\n",
       "      <td>1.3</td>\n",
       "      <td>0.0</td>\n",
       "      <td>0.0</td>\n",
       "      <td>0.0</td>\n",
       "      <td>5.2</td>\n",
       "      <td>1.5</td>\n",
       "    </tr>\n",
       "    <tr>\n",
       "      <th>125</th>\n",
       "      <td>SVN</td>\n",
       "      <td>Slovenia</td>\n",
       "      <td>2000</td>\n",
       "      <td>32.2</td>\n",
       "      <td>0.0</td>\n",
       "      <td>7.9</td>\n",
       "      <td>4.9</td>\n",
       "      <td>0.0</td>\n",
       "      <td>38.6</td>\n",
       "      <td>0.0</td>\n",
       "      <td>0.0</td>\n",
       "      <td>0.0</td>\n",
       "      <td>0.0</td>\n",
       "      <td>0.0</td>\n",
       "      <td>6.6</td>\n",
       "      <td>0.0</td>\n",
       "    </tr>\n",
       "    <tr>\n",
       "      <th>126</th>\n",
       "      <td>ESP</td>\n",
       "      <td>Spain</td>\n",
       "      <td>2000</td>\n",
       "      <td>22.8</td>\n",
       "      <td>0.1</td>\n",
       "      <td>8.0</td>\n",
       "      <td>5.2</td>\n",
       "      <td>0.0</td>\n",
       "      <td>34.9</td>\n",
       "      <td>2.0</td>\n",
       "      <td>0.2</td>\n",
       "      <td>0.0</td>\n",
       "      <td>0.1</td>\n",
       "      <td>0.0</td>\n",
       "      <td>5.5</td>\n",
       "      <td>2.9</td>\n",
       "    </tr>\n",
       "    <tr>\n",
       "      <th>127</th>\n",
       "      <td>VCT</td>\n",
       "      <td>St Vincent &amp; the Grenadines</td>\n",
       "      <td>2000</td>\n",
       "      <td>35.8</td>\n",
       "      <td>0.0</td>\n",
       "      <td>11.2</td>\n",
       "      <td>3.5</td>\n",
       "      <td>0.0</td>\n",
       "      <td>16.1</td>\n",
       "      <td>3.3</td>\n",
       "      <td>3.4</td>\n",
       "      <td>0.0</td>\n",
       "      <td>3.2</td>\n",
       "      <td>0.0</td>\n",
       "      <td>6.8</td>\n",
       "      <td>1.1</td>\n",
       "    </tr>\n",
       "    <tr>\n",
       "      <th>128</th>\n",
       "      <td>SWE</td>\n",
       "      <td>Sweden</td>\n",
       "      <td>2000</td>\n",
       "      <td>16.5</td>\n",
       "      <td>0.4</td>\n",
       "      <td>9.0</td>\n",
       "      <td>4.8</td>\n",
       "      <td>0.0</td>\n",
       "      <td>45.1</td>\n",
       "      <td>1.8</td>\n",
       "      <td>0.0</td>\n",
       "      <td>0.0</td>\n",
       "      <td>0.0</td>\n",
       "      <td>0.0</td>\n",
       "      <td>4.2</td>\n",
       "      <td>1.3</td>\n",
       "    </tr>\n",
       "    <tr>\n",
       "      <th>129</th>\n",
       "      <td>CHE</td>\n",
       "      <td>Switzerland</td>\n",
       "      <td>2000</td>\n",
       "      <td>25.8</td>\n",
       "      <td>0.0</td>\n",
       "      <td>8.1</td>\n",
       "      <td>2.7</td>\n",
       "      <td>0.0</td>\n",
       "      <td>30.9</td>\n",
       "      <td>1.5</td>\n",
       "      <td>0.3</td>\n",
       "      <td>0.0</td>\n",
       "      <td>0.0</td>\n",
       "      <td>0.0</td>\n",
       "      <td>8.0</td>\n",
       "      <td>2.0</td>\n",
       "    </tr>\n",
       "    <tr>\n",
       "      <th>130</th>\n",
       "      <td>TZA</td>\n",
       "      <td>Tanzania</td>\n",
       "      <td>2000</td>\n",
       "      <td>7.9</td>\n",
       "      <td>0.8</td>\n",
       "      <td>9.2</td>\n",
       "      <td>4.5</td>\n",
       "      <td>0.4</td>\n",
       "      <td>3.3</td>\n",
       "      <td>18.0</td>\n",
       "      <td>13.6</td>\n",
       "      <td>12.7</td>\n",
       "      <td>9.9</td>\n",
       "      <td>2.0</td>\n",
       "      <td>3.9</td>\n",
       "      <td>3.6</td>\n",
       "    </tr>\n",
       "    <tr>\n",
       "      <th>131</th>\n",
       "      <td>TTO</td>\n",
       "      <td>Trinidad &amp; Tobago</td>\n",
       "      <td>2000</td>\n",
       "      <td>37.5</td>\n",
       "      <td>0.0</td>\n",
       "      <td>26.6</td>\n",
       "      <td>2.8</td>\n",
       "      <td>0.0</td>\n",
       "      <td>12.6</td>\n",
       "      <td>3.2</td>\n",
       "      <td>1.0</td>\n",
       "      <td>0.0</td>\n",
       "      <td>3.0</td>\n",
       "      <td>0.0</td>\n",
       "      <td>2.5</td>\n",
       "      <td>1.2</td>\n",
       "    </tr>\n",
       "    <tr>\n",
       "      <th>132</th>\n",
       "      <td>ARE</td>\n",
       "      <td>United Arab Emirates</td>\n",
       "      <td>2000</td>\n",
       "      <td>25.2</td>\n",
       "      <td>0.9</td>\n",
       "      <td>9.0</td>\n",
       "      <td>2.2</td>\n",
       "      <td>0.0</td>\n",
       "      <td>26.3</td>\n",
       "      <td>5.4</td>\n",
       "      <td>0.8</td>\n",
       "      <td>0.0</td>\n",
       "      <td>0.0</td>\n",
       "      <td>0.0</td>\n",
       "      <td>8.7</td>\n",
       "      <td>0.8</td>\n",
       "    </tr>\n",
       "    <tr>\n",
       "      <th>133</th>\n",
       "      <td>GBR</td>\n",
       "      <td>United Kingdom</td>\n",
       "      <td>2000</td>\n",
       "      <td>35.0</td>\n",
       "      <td>0.1</td>\n",
       "      <td>6.2</td>\n",
       "      <td>2.7</td>\n",
       "      <td>0.0</td>\n",
       "      <td>23.7</td>\n",
       "      <td>4.1</td>\n",
       "      <td>1.3</td>\n",
       "      <td>0.0</td>\n",
       "      <td>0.1</td>\n",
       "      <td>0.0</td>\n",
       "      <td>5.0</td>\n",
       "      <td>3.0</td>\n",
       "    </tr>\n",
       "    <tr>\n",
       "      <th>134</th>\n",
       "      <td>USA</td>\n",
       "      <td>United States of America</td>\n",
       "      <td>2000</td>\n",
       "      <td>27.4</td>\n",
       "      <td>0.0</td>\n",
       "      <td>4.8</td>\n",
       "      <td>2.7</td>\n",
       "      <td>0.0</td>\n",
       "      <td>25.3</td>\n",
       "      <td>3.1</td>\n",
       "      <td>2.0</td>\n",
       "      <td>0.0</td>\n",
       "      <td>0.1</td>\n",
       "      <td>0.0</td>\n",
       "      <td>11.4</td>\n",
       "      <td>0.9</td>\n",
       "    </tr>\n",
       "    <tr>\n",
       "      <th>135</th>\n",
       "      <td>URY</td>\n",
       "      <td>Uruguay</td>\n",
       "      <td>2000</td>\n",
       "      <td>21.9</td>\n",
       "      <td>0.0</td>\n",
       "      <td>7.4</td>\n",
       "      <td>6.5</td>\n",
       "      <td>0.0</td>\n",
       "      <td>26.0</td>\n",
       "      <td>8.8</td>\n",
       "      <td>3.1</td>\n",
       "      <td>0.0</td>\n",
       "      <td>0.4</td>\n",
       "      <td>0.0</td>\n",
       "      <td>7.4</td>\n",
       "      <td>1.2</td>\n",
       "    </tr>\n",
       "  </tbody>\n",
       "</table>\n",
       "<p>136 rows × 16 columns</p>\n",
       "</div>"
      ],
      "text/plain": [
       "    ISO_Code                     CountryName  Year  Preterm  Pertussis  \\\n",
       "0        AND                         Andorra  2015     24.3        0.0   \n",
       "1        ATG               Antigua & Barbuda  2015     26.5        0.0   \n",
       "2        AUS                       Australia  2015     19.7        0.1   \n",
       "3        AUT                         Austria  2015     23.5        0.0   \n",
       "4        BHS                         Bahamas  2015     28.2        0.0   \n",
       "5        BHR                         Bahrain  2015     21.9        0.0   \n",
       "6        BRB                        Barbados  2015     19.1        0.0   \n",
       "7        BEL                         Belgium  2015     16.3        0.3   \n",
       "8        BRN                          Brunei  2015     18.1        0.0   \n",
       "9        CAN                          Canada  2015     27.1        0.2   \n",
       "10       CPV                      Cape Verde  2015     20.9        0.7   \n",
       "11       CHL                           Chile  2015     26.5        0.5   \n",
       "12       COD                        Congo DR  2015     12.6        1.0   \n",
       "13       COK                    Cook Islands  2015     28.2        0.0   \n",
       "14       HRV                         Croatia  2015     15.6        0.0   \n",
       "15       CYP                          Cyprus  2015     24.8        1.2   \n",
       "16       CZE                  Czech Republic  2015     25.9        0.0   \n",
       "17       DNK                         Denmark  2015     38.4        0.0   \n",
       "18       GNQ               Equatorial Guinea  2015     13.1        1.3   \n",
       "19       EST                         Estonia  2015     10.8        0.0   \n",
       "20       FSM  Federated States of Micronesia  2015     19.5        0.0   \n",
       "21       FIN                         Finland  2015     20.0        0.0   \n",
       "22       FRA                          France  2015     17.6        0.0   \n",
       "23       DEU                         Germany  2015     28.0        0.0   \n",
       "24       GRC                          Greece  2015     34.0        0.0   \n",
       "25       HND                        Honduras  2015     19.5        1.1   \n",
       "26       ISL                         Iceland  2015     28.8        0.0   \n",
       "27       IRL                         Ireland  2015     24.7        0.0   \n",
       "28       ISR                          Israel  2015     21.5        0.0   \n",
       "29       ITA                           Italy  2015     26.2        0.0   \n",
       "..       ...                             ...   ...      ...        ...   \n",
       "106      MWI                          Malawi  2000      7.5        0.6   \n",
       "107      MLT                           Malta  2000     36.6        0.0   \n",
       "108      MDA                         Moldova  2000      5.9        0.0   \n",
       "109      MCO                          Monaco  2000     38.8        0.0   \n",
       "110      NRU                           Nauru  2000     22.1        0.0   \n",
       "111      NLD                     Netherlands  2000     21.2        0.0   \n",
       "112      NZL                     New Zealand  2000     22.4        0.4   \n",
       "113      NIU                            Niue  2000      4.8        0.0   \n",
       "114      NOR                          Norway  2000     12.3        0.0   \n",
       "115      OMN                            Oman  2000     18.1        1.0   \n",
       "116      POL                          Poland  2000     25.9        0.0   \n",
       "117      PRT                        Portugal  2000     18.3        0.1   \n",
       "118      QAT                           Qatar  2000     25.0        0.7   \n",
       "119      KNA             Saint Kitts & Nevis  2000     35.1        0.0   \n",
       "120      LCA                     Saint Lucia  2000     30.9        0.0   \n",
       "121      SMR                      San Marino  2000      3.3        0.0   \n",
       "122      SAU                    Saudi Arabia  2000     22.9        0.8   \n",
       "123      SGP                       Singapore  2000     20.3        0.0   \n",
       "124      SVK                        Slovakia  2000     31.4        0.0   \n",
       "125      SVN                        Slovenia  2000     32.2        0.0   \n",
       "126      ESP                           Spain  2000     22.8        0.1   \n",
       "127      VCT     St Vincent & the Grenadines  2000     35.8        0.0   \n",
       "128      SWE                          Sweden  2000     16.5        0.4   \n",
       "129      CHE                     Switzerland  2000     25.8        0.0   \n",
       "130      TZA                        Tanzania  2000      7.9        0.8   \n",
       "131      TTO               Trinidad & Tobago  2000     37.5        0.0   \n",
       "132      ARE            United Arab Emirates  2000     25.2        0.9   \n",
       "133      GBR                  United Kingdom  2000     35.0        0.1   \n",
       "134      USA        United States of America  2000     27.4        0.0   \n",
       "135      URY                         Uruguay  2000     21.9        0.0   \n",
       "\n",
       "     Intrapartum  Sepsis  Tetanus  Congenital  Pneumonia  Diarrhoea  Malaria  \\\n",
       "0            7.4     2.9      0.0        36.0        2.7        0.1      0.0   \n",
       "1           14.2     0.0      0.0        21.6        3.2        0.0      0.0   \n",
       "2           10.4     1.2      0.0        28.0        2.7        0.3      0.1   \n",
       "3            6.5     1.6      0.0        33.6        1.5        0.4      0.0   \n",
       "4            8.3     3.9      0.0        11.7       13.0        0.6      0.0   \n",
       "5            2.9     0.6      0.0        36.1        2.3        0.4      0.0   \n",
       "6           12.7    13.1      0.0        18.8        2.6        0.0      0.0   \n",
       "7            9.1     2.0      0.0        29.4        1.6        0.1      0.0   \n",
       "8            8.7     8.0      0.0        25.2        3.7        2.3      0.0   \n",
       "9            9.2     3.2      0.0        31.4        2.1        0.3      0.0   \n",
       "10           8.5     4.5      0.4        20.9       13.7        5.3      0.0   \n",
       "11           4.2     2.7      0.0        39.9        3.5        0.1      0.0   \n",
       "12           9.9     5.0      0.4         4.8       15.2       10.5     11.9   \n",
       "13          11.2     3.8      0.0        29.0        4.8        0.7      0.0   \n",
       "14           7.2     3.4      0.0        27.3        2.7        0.0      0.0   \n",
       "15           8.4     3.3      0.0        35.8        2.6        0.2      0.0   \n",
       "16          10.1     4.6      0.0        22.6        6.0        1.0      0.0   \n",
       "17           8.3     1.4      0.0        24.7        1.2        0.6      0.0   \n",
       "18          11.3     4.4      0.5         6.1       15.8        7.5      8.6   \n",
       "19          12.4     8.3      0.0        28.0        5.6        0.5      0.0   \n",
       "20          13.8     7.0      0.2        12.4       14.6        6.2      0.0   \n",
       "21           9.0     2.8      0.0        31.9        2.6        0.0      0.0   \n",
       "22          10.1     3.0      0.0        26.8        1.8        1.2      0.0   \n",
       "23           6.8     2.1      0.0        31.2        1.9        0.4      0.0   \n",
       "24           5.4     0.5      0.0        43.6        3.3        0.0      0.0   \n",
       "25           7.7     7.8      0.6        18.9       11.2        7.8      0.0   \n",
       "26           4.5     7.3      0.0        14.5        0.0        0.0      0.0   \n",
       "27           6.6     2.3      0.0        43.1        2.0        0.3      0.0   \n",
       "28           3.9     2.7      0.0        35.7        1.8        0.5      0.0   \n",
       "29           7.5     3.4      0.0        26.9        1.5        0.2      0.0   \n",
       "..           ...     ...      ...         ...        ...        ...      ...   \n",
       "106          7.0     3.8      0.3         2.9       16.2       13.9     15.7   \n",
       "107          6.7     3.1      0.0        20.6        1.5        0.0      0.0   \n",
       "108         13.5     8.2      0.0        25.7       26.3        1.4      0.0   \n",
       "109         13.0     4.0      0.0        32.4        0.4        0.0      0.0   \n",
       "110         13.9     6.5      0.5        10.9       16.4        8.9      0.0   \n",
       "111         11.8     3.3      0.0        35.6        2.3        0.0      0.0   \n",
       "112          6.4     1.1      0.0        28.8        5.7        0.4      0.0   \n",
       "113          2.6     0.0      0.0        21.4       20.9        4.0      0.0   \n",
       "114         10.1     1.1      0.0        37.1        3.4        0.5      0.0   \n",
       "115          8.3     2.8      0.0        25.2       11.1        2.2      0.0   \n",
       "116          9.2     5.8      0.0        36.3        5.0        0.2      0.0   \n",
       "117          6.4     2.4      0.0        31.5        3.7        0.2      0.2   \n",
       "118          9.1     2.6      0.0        25.5        5.2        0.8      0.0   \n",
       "119         19.1     3.7      0.0        12.3        2.6        2.6      0.0   \n",
       "120         10.4    10.5      0.0        13.7        4.0        2.3      0.0   \n",
       "121          4.1     0.0      0.0        30.5        5.2        0.2      0.0   \n",
       "122         10.4     3.9      0.0        21.4        9.8        2.6      0.0   \n",
       "123          3.6     1.7      0.0        33.1        8.8        0.0      0.0   \n",
       "124          4.9     1.5      0.0        27.9       11.4        1.3      0.0   \n",
       "125          7.9     4.9      0.0        38.6        0.0        0.0      0.0   \n",
       "126          8.0     5.2      0.0        34.9        2.0        0.2      0.0   \n",
       "127         11.2     3.5      0.0        16.1        3.3        3.4      0.0   \n",
       "128          9.0     4.8      0.0        45.1        1.8        0.0      0.0   \n",
       "129          8.1     2.7      0.0        30.9        1.5        0.3      0.0   \n",
       "130          9.2     4.5      0.4         3.3       18.0       13.6     12.7   \n",
       "131         26.6     2.8      0.0        12.6        3.2        1.0      0.0   \n",
       "132          9.0     2.2      0.0        26.3        5.4        0.8      0.0   \n",
       "133          6.2     2.7      0.0        23.7        4.1        1.3      0.0   \n",
       "134          4.8     2.7      0.0        25.3        3.1        2.0      0.0   \n",
       "135          7.4     6.5      0.0        26.0        8.8        3.1      0.0   \n",
       "\n",
       "     Aids  Measles  Injury  Meningitis  \n",
       "0     0.0      0.0     6.1         0.8  \n",
       "1     2.6      0.0     4.5         0.0  \n",
       "2     0.0      0.0     7.7         0.9  \n",
       "3     0.1      0.0     4.9         1.8  \n",
       "4     0.9      0.0     9.9         0.6  \n",
       "5     0.4      0.0     5.6         1.2  \n",
       "6     0.0      0.0     6.6         0.0  \n",
       "7     0.0      0.0     9.7         1.6  \n",
       "8     0.0      0.0     2.8         0.3  \n",
       "9     0.0      0.0     6.7         1.0  \n",
       "10    0.7      0.0     4.8         1.3  \n",
       "11    0.1      0.0     6.5         0.9  \n",
       "12    1.1      3.1     5.7         2.6  \n",
       "13    0.0      0.0     5.5         0.8  \n",
       "14    0.0      0.0     4.5         2.5  \n",
       "15    0.1      0.0     5.0         0.7  \n",
       "16    0.0      0.0     8.3         1.5  \n",
       "17    0.0      0.0     4.1         0.9  \n",
       "18    4.5      9.2     4.5         1.1  \n",
       "19    0.0      0.0    16.4         2.1  \n",
       "20    0.0      0.0     7.0         1.4  \n",
       "21    0.0      0.0     7.6         0.7  \n",
       "22    0.1      0.0     7.3         1.6  \n",
       "23    0.0      0.0     5.2         0.8  \n",
       "24    0.0      0.0     4.0         0.4  \n",
       "25    1.6      0.0     3.6         1.0  \n",
       "26    0.0      0.0     2.1         0.0  \n",
       "27    0.0      0.0     3.9         1.8  \n",
       "28    0.0      0.0     6.6         1.2  \n",
       "29    0.0      0.0     3.4         0.6  \n",
       "..    ...      ...     ...         ...  \n",
       "106  14.6      0.2     3.1         3.9  \n",
       "107   0.0      0.0     4.8         5.2  \n",
       "108   0.0      0.0    10.4         1.7  \n",
       "109   0.0      0.0     0.5         0.0  \n",
       "110   0.0      0.0     5.3         1.7  \n",
       "111   0.0      0.0     5.8         2.9  \n",
       "112   0.0      0.0    12.2         4.2  \n",
       "113   0.0      0.0    13.6         4.2  \n",
       "114   0.0      0.0     6.2         5.0  \n",
       "115   0.4      0.0     9.4         0.9  \n",
       "116   0.0      0.0     6.1         1.1  \n",
       "117   0.2      0.0     9.5         4.4  \n",
       "118   0.1      0.0     9.8         0.8  \n",
       "119   0.0      0.0     1.7         0.0  \n",
       "120   2.2      0.0     5.7         0.8  \n",
       "121   0.0      0.0    18.8         3.0  \n",
       "122   0.0      0.1     9.0         0.8  \n",
       "123   0.0      0.0     6.3         4.0  \n",
       "124   0.0      0.0     5.2         1.5  \n",
       "125   0.0      0.0     6.6         0.0  \n",
       "126   0.1      0.0     5.5         2.9  \n",
       "127   3.2      0.0     6.8         1.1  \n",
       "128   0.0      0.0     4.2         1.3  \n",
       "129   0.0      0.0     8.0         2.0  \n",
       "130   9.9      2.0     3.9         3.6  \n",
       "131   3.0      0.0     2.5         1.2  \n",
       "132   0.0      0.0     8.7         0.8  \n",
       "133   0.1      0.0     5.0         3.0  \n",
       "134   0.1      0.0    11.4         0.9  \n",
       "135   0.4      0.0     7.4         1.2  \n",
       "\n",
       "[136 rows x 16 columns]"
      ]
     },
     "execution_count": 24,
     "metadata": {},
     "output_type": "execute_result"
    }
   ],
   "source": [
    "developed_countries = under_five.loc[~under_five['ISO_Code'].isin(a)]\n",
    "developed_countries.reset_index(drop=True)\n",
    " \n"
   ]
  },
  {
   "cell_type": "markdown",
   "metadata": {},
   "source": [
    "# Calculating aggr value for diseases (Developed)"
   ]
  },
  {
   "cell_type": "code",
   "execution_count": 25,
   "metadata": {
    "collapsed": false,
    "scrolled": true
   },
   "outputs": [
    {
     "data": {
      "text/plain": [
       "23.030882352941184"
      ]
     },
     "execution_count": 25,
     "metadata": {},
     "output_type": "execute_result"
    }
   ],
   "source": [
    "Preterm_developed = developed_countries['Preterm']\n",
    "Preterm_developed = Preterm_developed.mean()\n",
    "Preterm_developed"
   ]
  },
  {
   "cell_type": "code",
   "execution_count": 26,
   "metadata": {
    "collapsed": false
   },
   "outputs": [
    {
     "data": {
      "text/plain": [
       "9.029411764705884"
      ]
     },
     "execution_count": 26,
     "metadata": {},
     "output_type": "execute_result"
    }
   ],
   "source": [
    "Intrapartum_developed = developed_countries['Intrapartum']\n",
    "Intrapartum_developed = Intrapartum_developed.mean()\n",
    "Intrapartum_developed"
   ]
  },
  {
   "cell_type": "code",
   "execution_count": 27,
   "metadata": {
    "collapsed": false
   },
   "outputs": [
    {
     "data": {
      "text/plain": [
       "3.5823529411764707"
      ]
     },
     "execution_count": 27,
     "metadata": {},
     "output_type": "execute_result"
    }
   ],
   "source": [
    "Sepsis_developed = developed_countries['Sepsis']\n",
    "Sepsis_developed = Sepsis_developed.mean()\n",
    "Sepsis_developed"
   ]
  },
  {
   "cell_type": "code",
   "execution_count": 28,
   "metadata": {
    "collapsed": false
   },
   "outputs": [
    {
     "data": {
      "text/plain": [
       "26.03088235294117"
      ]
     },
     "execution_count": 28,
     "metadata": {},
     "output_type": "execute_result"
    }
   ],
   "source": [
    "Congenital_developed = developed_countries['Congenital']\n",
    "Congenital_developed = Congenital_developed.mean()\n",
    "Congenital_developed"
   ]
  },
  {
   "cell_type": "code",
   "execution_count": 29,
   "metadata": {
    "collapsed": false
   },
   "outputs": [
    {
     "data": {
      "text/plain": [
       "6.061029411764706"
      ]
     },
     "execution_count": 29,
     "metadata": {},
     "output_type": "execute_result"
    }
   ],
   "source": [
    "Pneumonia_developed = developed_countries['Pneumonia']\n",
    "Pneumonia_developed = Pneumonia_developed.mean()\n",
    "Pneumonia_developed"
   ]
  },
  {
   "cell_type": "code",
   "execution_count": 30,
   "metadata": {
    "collapsed": false
   },
   "outputs": [
    {
     "data": {
      "text/plain": [
       "7.263970588235293"
      ]
     },
     "execution_count": 30,
     "metadata": {},
     "output_type": "execute_result"
    }
   ],
   "source": [
    "Injury_developed = developed_countries['Injury']\n",
    "Injury_developed = Injury_developed.mean()\n",
    "Injury_developed"
   ]
  },
  {
   "cell_type": "code",
   "execution_count": 31,
   "metadata": {
    "collapsed": false
   },
   "outputs": [
    {
     "data": {
      "text/plain": [
       "1.8720588235294124"
      ]
     },
     "execution_count": 31,
     "metadata": {},
     "output_type": "execute_result"
    }
   ],
   "source": [
    "Diarrhoea_developed = developed_countries['Diarrhoea']\n",
    "Diarrhoea_developed = Diarrhoea_developed.mean()\n",
    "Diarrhoea_developed"
   ]
  },
  {
   "cell_type": "markdown",
   "metadata": {},
   "source": [
    "# Calculating aggr value for diseases (developing)"
   ]
  },
  {
   "cell_type": "code",
   "execution_count": 32,
   "metadata": {
    "collapsed": false
   },
   "outputs": [
    {
     "data": {
      "text/plain": [
       "18.154365079365085"
      ]
     },
     "execution_count": 32,
     "metadata": {},
     "output_type": "execute_result"
    }
   ],
   "source": [
    "Preterm_developing = developing_countries['Preterm']\n",
    "Preterm_developing = Preterm_developing.mean()\n",
    "Preterm_developing"
   ]
  },
  {
   "cell_type": "code",
   "execution_count": 33,
   "metadata": {
    "collapsed": false
   },
   "outputs": [
    {
     "data": {
      "text/plain": [
       "10.483730158730165"
      ]
     },
     "execution_count": 33,
     "metadata": {},
     "output_type": "execute_result"
    }
   ],
   "source": [
    "Intrapartum_developing = developing_countries['Intrapartum']\n",
    "Intrapartum_developing = Intrapartum_developing.mean()\n",
    "Intrapartum_developing"
   ]
  },
  {
   "cell_type": "code",
   "execution_count": 34,
   "metadata": {
    "collapsed": false
   },
   "outputs": [
    {
     "data": {
      "text/plain": [
       "5.587301587301585"
      ]
     },
     "execution_count": 34,
     "metadata": {},
     "output_type": "execute_result"
    }
   ],
   "source": [
    "Sepsis_developing = developing_countries['Sepsis']\n",
    "Sepsis_developing = Sepsis_developing.mean()\n",
    "Sepsis_developing"
   ]
  },
  {
   "cell_type": "code",
   "execution_count": 35,
   "metadata": {
    "collapsed": false
   },
   "outputs": [
    {
     "data": {
      "text/plain": [
       "12.968650793650797"
      ]
     },
     "execution_count": 35,
     "metadata": {},
     "output_type": "execute_result"
    }
   ],
   "source": [
    "Congenital_developing = developing_countries['Congenital']\n",
    "Congenital_developing = Congenital_developing.mean()\n",
    "Congenital_developing"
   ]
  },
  {
   "cell_type": "code",
   "execution_count": 36,
   "metadata": {
    "collapsed": false
   },
   "outputs": [
    {
     "data": {
      "text/plain": [
       "14.255555555555555"
      ]
     },
     "execution_count": 36,
     "metadata": {},
     "output_type": "execute_result"
    }
   ],
   "source": [
    "Pneumonia_developing = developing_countries['Pneumonia']\n",
    "Pneumonia_developing = Pneumonia_developing.mean()\n",
    "Pneumonia_developing"
   ]
  },
  {
   "cell_type": "code",
   "execution_count": 37,
   "metadata": {
    "collapsed": false
   },
   "outputs": [
    {
     "data": {
      "text/plain": [
       "6.099999999999998"
      ]
     },
     "execution_count": 37,
     "metadata": {},
     "output_type": "execute_result"
    }
   ],
   "source": [
    "Injury_developing = developing_countries['Injury']\n",
    "Injury_developing = Injury_developing.mean()\n",
    "Injury_developing"
   ]
  },
  {
   "cell_type": "code",
   "execution_count": 38,
   "metadata": {
    "collapsed": false
   },
   "outputs": [
    {
     "data": {
      "text/plain": [
       "7.750000000000002"
      ]
     },
     "execution_count": 38,
     "metadata": {},
     "output_type": "execute_result"
    }
   ],
   "source": [
    "\n",
    "Diarrhoea_developing = developing_countries['Diarrhoea']\n",
    "Diarrhoea_developing = Diarrhoea_developing.mean()\n",
    "Diarrhoea_developing"
   ]
  },
  {
   "cell_type": "markdown",
   "metadata": {},
   "source": [
    "# Creating a dataframe for aggr values"
   ]
  },
  {
   "cell_type": "code",
   "execution_count": 39,
   "metadata": {
    "collapsed": false
   },
   "outputs": [],
   "source": [
    "developed={'preterm':Preterm_developed}\n",
    "developing={'preterm':Preterm_developing}"
   ]
  },
  {
   "cell_type": "code",
   "execution_count": 40,
   "metadata": {
    "collapsed": false
   },
   "outputs": [
    {
     "data": {
      "text/html": [
       "<div>\n",
       "<table border=\"1\" class=\"dataframe\">\n",
       "  <thead>\n",
       "    <tr style=\"text-align: right;\">\n",
       "      <th></th>\n",
       "      <th>Developed</th>\n",
       "    </tr>\n",
       "  </thead>\n",
       "  <tbody>\n",
       "    <tr>\n",
       "      <th>preterm</th>\n",
       "      <td>23.030882</td>\n",
       "    </tr>\n",
       "  </tbody>\n",
       "</table>\n",
       "</div>"
      ],
      "text/plain": [
       "         Developed\n",
       "preterm  23.030882"
      ]
     },
     "execution_count": 40,
     "metadata": {},
     "output_type": "execute_result"
    }
   ],
   "source": [
    "d=pd.Series(developed)\n",
    "d=pd.DataFrame(d)\n",
    "d.columns=['Developed']\n",
    "d"
   ]
  },
  {
   "cell_type": "code",
   "execution_count": 41,
   "metadata": {
    "collapsed": false
   },
   "outputs": [
    {
     "data": {
      "text/html": [
       "<div>\n",
       "<table border=\"1\" class=\"dataframe\">\n",
       "  <thead>\n",
       "    <tr style=\"text-align: right;\">\n",
       "      <th></th>\n",
       "      <th>Developing</th>\n",
       "    </tr>\n",
       "  </thead>\n",
       "  <tbody>\n",
       "    <tr>\n",
       "      <th>preterm</th>\n",
       "      <td>18.154365</td>\n",
       "    </tr>\n",
       "  </tbody>\n",
       "</table>\n",
       "</div>"
      ],
      "text/plain": [
       "         Developing\n",
       "preterm   18.154365"
      ]
     },
     "execution_count": 41,
     "metadata": {},
     "output_type": "execute_result"
    }
   ],
   "source": [
    "d0 = pd.Series(developing)\n",
    "d0= pd.DataFrame(d0)\n",
    "d0.columns = ['Developing']\n",
    "d0"
   ]
  },
  {
   "cell_type": "code",
   "execution_count": 42,
   "metadata": {
    "collapsed": false
   },
   "outputs": [
    {
     "data": {
      "text/html": [
       "<div>\n",
       "<table border=\"1\" class=\"dataframe\">\n",
       "  <thead>\n",
       "    <tr style=\"text-align: right;\">\n",
       "      <th></th>\n",
       "      <th>Developed</th>\n",
       "      <th>Developing</th>\n",
       "    </tr>\n",
       "  </thead>\n",
       "  <tbody>\n",
       "    <tr>\n",
       "      <th>preterm</th>\n",
       "      <td>23.030882</td>\n",
       "      <td>18.154365</td>\n",
       "    </tr>\n",
       "  </tbody>\n",
       "</table>\n",
       "</div>"
      ],
      "text/plain": [
       "         Developed  Developing\n",
       "preterm  23.030882   18.154365"
      ]
     },
     "execution_count": 42,
     "metadata": {},
     "output_type": "execute_result"
    }
   ],
   "source": [
    "res = pd.concat([d, d0], axis=1, join_axes=[d.index])\n",
    "res"
   ]
  },
  {
   "cell_type": "code",
   "execution_count": 43,
   "metadata": {
    "collapsed": false
   },
   "outputs": [],
   "source": [
    "developed={'Intrapartum':Intrapartum_developed}\n",
    "developing={'Intrapartum':Intrapartum_developing}"
   ]
  },
  {
   "cell_type": "code",
   "execution_count": 44,
   "metadata": {
    "collapsed": false
   },
   "outputs": [
    {
     "data": {
      "text/html": [
       "<div>\n",
       "<table border=\"1\" class=\"dataframe\">\n",
       "  <thead>\n",
       "    <tr style=\"text-align: right;\">\n",
       "      <th></th>\n",
       "      <th>Developed</th>\n",
       "    </tr>\n",
       "  </thead>\n",
       "  <tbody>\n",
       "    <tr>\n",
       "      <th>Intrapartum</th>\n",
       "      <td>9.029412</td>\n",
       "    </tr>\n",
       "  </tbody>\n",
       "</table>\n",
       "</div>"
      ],
      "text/plain": [
       "             Developed\n",
       "Intrapartum   9.029412"
      ]
     },
     "execution_count": 44,
     "metadata": {},
     "output_type": "execute_result"
    }
   ],
   "source": [
    "d1=pd.Series(developed)\n",
    "d1=pd.DataFrame(d1)\n",
    "d1.columns=['Developed']\n",
    "d1"
   ]
  },
  {
   "cell_type": "code",
   "execution_count": 45,
   "metadata": {
    "collapsed": false
   },
   "outputs": [
    {
     "data": {
      "text/html": [
       "<div>\n",
       "<table border=\"1\" class=\"dataframe\">\n",
       "  <thead>\n",
       "    <tr style=\"text-align: right;\">\n",
       "      <th></th>\n",
       "      <th>Developing</th>\n",
       "    </tr>\n",
       "  </thead>\n",
       "  <tbody>\n",
       "    <tr>\n",
       "      <th>Intrapartum</th>\n",
       "      <td>10.48373</td>\n",
       "    </tr>\n",
       "  </tbody>\n",
       "</table>\n",
       "</div>"
      ],
      "text/plain": [
       "             Developing\n",
       "Intrapartum    10.48373"
      ]
     },
     "execution_count": 45,
     "metadata": {},
     "output_type": "execute_result"
    }
   ],
   "source": [
    "d11 = pd.Series(developing)\n",
    "d11 = pd.DataFrame(d11)\n",
    "d11.columns = ['Developing']\n",
    "d11"
   ]
  },
  {
   "cell_type": "code",
   "execution_count": 46,
   "metadata": {
    "collapsed": false
   },
   "outputs": [
    {
     "data": {
      "text/html": [
       "<div>\n",
       "<table border=\"1\" class=\"dataframe\">\n",
       "  <thead>\n",
       "    <tr style=\"text-align: right;\">\n",
       "      <th></th>\n",
       "      <th>Developed</th>\n",
       "      <th>Developing</th>\n",
       "    </tr>\n",
       "  </thead>\n",
       "  <tbody>\n",
       "    <tr>\n",
       "      <th>Intrapartum</th>\n",
       "      <td>9.029412</td>\n",
       "      <td>10.48373</td>\n",
       "    </tr>\n",
       "  </tbody>\n",
       "</table>\n",
       "</div>"
      ],
      "text/plain": [
       "             Developed  Developing\n",
       "Intrapartum   9.029412    10.48373"
      ]
     },
     "execution_count": 46,
     "metadata": {},
     "output_type": "execute_result"
    }
   ],
   "source": [
    "res1 = pd.concat([d1, d11], axis=1, join_axes=[d1.index])\n",
    "res1"
   ]
  },
  {
   "cell_type": "code",
   "execution_count": 47,
   "metadata": {
    "collapsed": true
   },
   "outputs": [],
   "source": [
    "developed={'Sepsis':Sepsis_developed}\n",
    "developing={'Sepsis':Sepsis_developing}"
   ]
  },
  {
   "cell_type": "code",
   "execution_count": 48,
   "metadata": {
    "collapsed": false
   },
   "outputs": [
    {
     "data": {
      "text/html": [
       "<div>\n",
       "<table border=\"1\" class=\"dataframe\">\n",
       "  <thead>\n",
       "    <tr style=\"text-align: right;\">\n",
       "      <th></th>\n",
       "      <th>Developed</th>\n",
       "    </tr>\n",
       "  </thead>\n",
       "  <tbody>\n",
       "    <tr>\n",
       "      <th>Sepsis</th>\n",
       "      <td>3.582353</td>\n",
       "    </tr>\n",
       "  </tbody>\n",
       "</table>\n",
       "</div>"
      ],
      "text/plain": [
       "        Developed\n",
       "Sepsis   3.582353"
      ]
     },
     "execution_count": 48,
     "metadata": {},
     "output_type": "execute_result"
    }
   ],
   "source": [
    "d2=pd.Series(developed)\n",
    "d2=pd.DataFrame(d2)\n",
    "d2.columns=['Developed']\n",
    "d2"
   ]
  },
  {
   "cell_type": "code",
   "execution_count": 49,
   "metadata": {
    "collapsed": false
   },
   "outputs": [
    {
     "data": {
      "text/html": [
       "<div>\n",
       "<table border=\"1\" class=\"dataframe\">\n",
       "  <thead>\n",
       "    <tr style=\"text-align: right;\">\n",
       "      <th></th>\n",
       "      <th>Developing</th>\n",
       "    </tr>\n",
       "  </thead>\n",
       "  <tbody>\n",
       "    <tr>\n",
       "      <th>Sepsis</th>\n",
       "      <td>5.587302</td>\n",
       "    </tr>\n",
       "  </tbody>\n",
       "</table>\n",
       "</div>"
      ],
      "text/plain": [
       "        Developing\n",
       "Sepsis    5.587302"
      ]
     },
     "execution_count": 49,
     "metadata": {},
     "output_type": "execute_result"
    }
   ],
   "source": [
    "d22 = pd.Series(developing)\n",
    "d22 = pd.DataFrame(d22)\n",
    "d22.columns = ['Developing']\n",
    "d22"
   ]
  },
  {
   "cell_type": "code",
   "execution_count": 50,
   "metadata": {
    "collapsed": false
   },
   "outputs": [
    {
     "data": {
      "text/html": [
       "<div>\n",
       "<table border=\"1\" class=\"dataframe\">\n",
       "  <thead>\n",
       "    <tr style=\"text-align: right;\">\n",
       "      <th></th>\n",
       "      <th>Developed</th>\n",
       "      <th>Developing</th>\n",
       "    </tr>\n",
       "  </thead>\n",
       "  <tbody>\n",
       "    <tr>\n",
       "      <th>Sepsis</th>\n",
       "      <td>3.582353</td>\n",
       "      <td>5.587302</td>\n",
       "    </tr>\n",
       "  </tbody>\n",
       "</table>\n",
       "</div>"
      ],
      "text/plain": [
       "        Developed  Developing\n",
       "Sepsis   3.582353    5.587302"
      ]
     },
     "execution_count": 50,
     "metadata": {},
     "output_type": "execute_result"
    }
   ],
   "source": [
    "res2 = pd.concat([d2, d22], axis=1, join_axes=[d2.index])\n",
    "res2"
   ]
  },
  {
   "cell_type": "code",
   "execution_count": 51,
   "metadata": {
    "collapsed": false
   },
   "outputs": [],
   "source": [
    "developed={'Congenital':Congenital_developed}\n",
    "developing={'Congenital':Congenital_developing}"
   ]
  },
  {
   "cell_type": "code",
   "execution_count": 52,
   "metadata": {
    "collapsed": false
   },
   "outputs": [
    {
     "data": {
      "text/html": [
       "<div>\n",
       "<table border=\"1\" class=\"dataframe\">\n",
       "  <thead>\n",
       "    <tr style=\"text-align: right;\">\n",
       "      <th></th>\n",
       "      <th>Developed</th>\n",
       "    </tr>\n",
       "  </thead>\n",
       "  <tbody>\n",
       "    <tr>\n",
       "      <th>Congenital</th>\n",
       "      <td>26.030882</td>\n",
       "    </tr>\n",
       "  </tbody>\n",
       "</table>\n",
       "</div>"
      ],
      "text/plain": [
       "            Developed\n",
       "Congenital  26.030882"
      ]
     },
     "execution_count": 52,
     "metadata": {},
     "output_type": "execute_result"
    }
   ],
   "source": [
    "d3=pd.Series(developed)\n",
    "d3=pd.DataFrame(d3)\n",
    "d3.columns=['Developed']\n",
    "d3"
   ]
  },
  {
   "cell_type": "code",
   "execution_count": 53,
   "metadata": {
    "collapsed": false
   },
   "outputs": [
    {
     "data": {
      "text/html": [
       "<div>\n",
       "<table border=\"1\" class=\"dataframe\">\n",
       "  <thead>\n",
       "    <tr style=\"text-align: right;\">\n",
       "      <th></th>\n",
       "      <th>Developing</th>\n",
       "    </tr>\n",
       "  </thead>\n",
       "  <tbody>\n",
       "    <tr>\n",
       "      <th>Congenital</th>\n",
       "      <td>12.968651</td>\n",
       "    </tr>\n",
       "  </tbody>\n",
       "</table>\n",
       "</div>"
      ],
      "text/plain": [
       "            Developing\n",
       "Congenital   12.968651"
      ]
     },
     "execution_count": 53,
     "metadata": {},
     "output_type": "execute_result"
    }
   ],
   "source": [
    "d33 = pd.Series(developing)\n",
    "d33 = pd.DataFrame(d33)\n",
    "d33.columns = ['Developing']\n",
    "d33"
   ]
  },
  {
   "cell_type": "code",
   "execution_count": 54,
   "metadata": {
    "collapsed": false
   },
   "outputs": [
    {
     "data": {
      "text/html": [
       "<div>\n",
       "<table border=\"1\" class=\"dataframe\">\n",
       "  <thead>\n",
       "    <tr style=\"text-align: right;\">\n",
       "      <th></th>\n",
       "      <th>Developed</th>\n",
       "      <th>Developing</th>\n",
       "    </tr>\n",
       "  </thead>\n",
       "  <tbody>\n",
       "    <tr>\n",
       "      <th>Congenital</th>\n",
       "      <td>26.030882</td>\n",
       "      <td>12.968651</td>\n",
       "    </tr>\n",
       "  </tbody>\n",
       "</table>\n",
       "</div>"
      ],
      "text/plain": [
       "            Developed  Developing\n",
       "Congenital  26.030882   12.968651"
      ]
     },
     "execution_count": 54,
     "metadata": {},
     "output_type": "execute_result"
    }
   ],
   "source": [
    "res3 = pd.concat([d3, d33], axis=1, join_axes=[d3.index])\n",
    "res3"
   ]
  },
  {
   "cell_type": "code",
   "execution_count": 55,
   "metadata": {
    "collapsed": true
   },
   "outputs": [],
   "source": [
    "developed={'Pneumonia':Pneumonia_developed}\n",
    "developing={'Pneumonia':Pneumonia_developing}"
   ]
  },
  {
   "cell_type": "code",
   "execution_count": 56,
   "metadata": {
    "collapsed": false
   },
   "outputs": [
    {
     "data": {
      "text/html": [
       "<div>\n",
       "<table border=\"1\" class=\"dataframe\">\n",
       "  <thead>\n",
       "    <tr style=\"text-align: right;\">\n",
       "      <th></th>\n",
       "      <th>Developed</th>\n",
       "    </tr>\n",
       "  </thead>\n",
       "  <tbody>\n",
       "    <tr>\n",
       "      <th>Pneumonia</th>\n",
       "      <td>6.061029</td>\n",
       "    </tr>\n",
       "  </tbody>\n",
       "</table>\n",
       "</div>"
      ],
      "text/plain": [
       "           Developed\n",
       "Pneumonia   6.061029"
      ]
     },
     "execution_count": 56,
     "metadata": {},
     "output_type": "execute_result"
    }
   ],
   "source": [
    "d4=pd.Series(developed)\n",
    "d4=pd.DataFrame(d4)\n",
    "d4.columns=['Developed']\n",
    "d4"
   ]
  },
  {
   "cell_type": "code",
   "execution_count": 57,
   "metadata": {
    "collapsed": false
   },
   "outputs": [
    {
     "data": {
      "text/html": [
       "<div>\n",
       "<table border=\"1\" class=\"dataframe\">\n",
       "  <thead>\n",
       "    <tr style=\"text-align: right;\">\n",
       "      <th></th>\n",
       "      <th>Developing</th>\n",
       "    </tr>\n",
       "  </thead>\n",
       "  <tbody>\n",
       "    <tr>\n",
       "      <th>Pneumonia</th>\n",
       "      <td>14.255556</td>\n",
       "    </tr>\n",
       "  </tbody>\n",
       "</table>\n",
       "</div>"
      ],
      "text/plain": [
       "           Developing\n",
       "Pneumonia   14.255556"
      ]
     },
     "execution_count": 57,
     "metadata": {},
     "output_type": "execute_result"
    }
   ],
   "source": [
    "d44 = pd.Series(developing)\n",
    "d44 = pd.DataFrame(d44)\n",
    "d44.columns = ['Developing']\n",
    "d44"
   ]
  },
  {
   "cell_type": "code",
   "execution_count": 58,
   "metadata": {
    "collapsed": false
   },
   "outputs": [
    {
     "data": {
      "text/html": [
       "<div>\n",
       "<table border=\"1\" class=\"dataframe\">\n",
       "  <thead>\n",
       "    <tr style=\"text-align: right;\">\n",
       "      <th></th>\n",
       "      <th>Developed</th>\n",
       "      <th>Developing</th>\n",
       "    </tr>\n",
       "  </thead>\n",
       "  <tbody>\n",
       "    <tr>\n",
       "      <th>Pneumonia</th>\n",
       "      <td>6.061029</td>\n",
       "      <td>14.255556</td>\n",
       "    </tr>\n",
       "  </tbody>\n",
       "</table>\n",
       "</div>"
      ],
      "text/plain": [
       "           Developed  Developing\n",
       "Pneumonia   6.061029   14.255556"
      ]
     },
     "execution_count": 58,
     "metadata": {},
     "output_type": "execute_result"
    }
   ],
   "source": [
    "res4 = pd.concat([d4, d44], axis=1, join_axes=[d4.index])\n",
    "res4"
   ]
  },
  {
   "cell_type": "code",
   "execution_count": 59,
   "metadata": {
    "collapsed": true
   },
   "outputs": [],
   "source": [
    "developed={'Injury':Injury_developed}\n",
    "developing={'Injury':Injury_developing}"
   ]
  },
  {
   "cell_type": "code",
   "execution_count": 60,
   "metadata": {
    "collapsed": false
   },
   "outputs": [
    {
     "data": {
      "text/html": [
       "<div>\n",
       "<table border=\"1\" class=\"dataframe\">\n",
       "  <thead>\n",
       "    <tr style=\"text-align: right;\">\n",
       "      <th></th>\n",
       "      <th>Developed</th>\n",
       "    </tr>\n",
       "  </thead>\n",
       "  <tbody>\n",
       "    <tr>\n",
       "      <th>Injury</th>\n",
       "      <td>7.263971</td>\n",
       "    </tr>\n",
       "  </tbody>\n",
       "</table>\n",
       "</div>"
      ],
      "text/plain": [
       "        Developed\n",
       "Injury   7.263971"
      ]
     },
     "execution_count": 60,
     "metadata": {},
     "output_type": "execute_result"
    }
   ],
   "source": [
    "d5=pd.Series(developed)\n",
    "d5=pd.DataFrame(d5)\n",
    "d5.columns=['Developed']\n",
    "d5"
   ]
  },
  {
   "cell_type": "code",
   "execution_count": 61,
   "metadata": {
    "collapsed": false
   },
   "outputs": [
    {
     "data": {
      "text/html": [
       "<div>\n",
       "<table border=\"1\" class=\"dataframe\">\n",
       "  <thead>\n",
       "    <tr style=\"text-align: right;\">\n",
       "      <th></th>\n",
       "      <th>Developing</th>\n",
       "    </tr>\n",
       "  </thead>\n",
       "  <tbody>\n",
       "    <tr>\n",
       "      <th>Injury</th>\n",
       "      <td>6.1</td>\n",
       "    </tr>\n",
       "  </tbody>\n",
       "</table>\n",
       "</div>"
      ],
      "text/plain": [
       "        Developing\n",
       "Injury         6.1"
      ]
     },
     "execution_count": 61,
     "metadata": {},
     "output_type": "execute_result"
    }
   ],
   "source": [
    "d55 = pd.Series(developing)\n",
    "d55 = pd.DataFrame(d55)\n",
    "d55.columns = ['Developing']\n",
    "d55"
   ]
  },
  {
   "cell_type": "code",
   "execution_count": 62,
   "metadata": {
    "collapsed": false
   },
   "outputs": [
    {
     "data": {
      "text/html": [
       "<div>\n",
       "<table border=\"1\" class=\"dataframe\">\n",
       "  <thead>\n",
       "    <tr style=\"text-align: right;\">\n",
       "      <th></th>\n",
       "      <th>Developed</th>\n",
       "      <th>Developing</th>\n",
       "    </tr>\n",
       "  </thead>\n",
       "  <tbody>\n",
       "    <tr>\n",
       "      <th>Injury</th>\n",
       "      <td>7.263971</td>\n",
       "      <td>6.1</td>\n",
       "    </tr>\n",
       "  </tbody>\n",
       "</table>\n",
       "</div>"
      ],
      "text/plain": [
       "        Developed  Developing\n",
       "Injury   7.263971         6.1"
      ]
     },
     "execution_count": 62,
     "metadata": {},
     "output_type": "execute_result"
    }
   ],
   "source": [
    "res5 = pd.concat([d5, d55], axis=1, join_axes=[d5.index])\n",
    "res5"
   ]
  },
  {
   "cell_type": "code",
   "execution_count": 63,
   "metadata": {
    "collapsed": true
   },
   "outputs": [],
   "source": [
    "developed={'Diarrhoea':Diarrhoea_developed}\n",
    "developing={'Diarrhoea':Diarrhoea_developing}"
   ]
  },
  {
   "cell_type": "code",
   "execution_count": 64,
   "metadata": {
    "collapsed": false
   },
   "outputs": [
    {
     "data": {
      "text/html": [
       "<div>\n",
       "<table border=\"1\" class=\"dataframe\">\n",
       "  <thead>\n",
       "    <tr style=\"text-align: right;\">\n",
       "      <th></th>\n",
       "      <th>Developed</th>\n",
       "    </tr>\n",
       "  </thead>\n",
       "  <tbody>\n",
       "    <tr>\n",
       "      <th>Diarrhoea</th>\n",
       "      <td>1.872059</td>\n",
       "    </tr>\n",
       "  </tbody>\n",
       "</table>\n",
       "</div>"
      ],
      "text/plain": [
       "           Developed\n",
       "Diarrhoea   1.872059"
      ]
     },
     "execution_count": 64,
     "metadata": {},
     "output_type": "execute_result"
    }
   ],
   "source": [
    "d6=pd.Series(developed)\n",
    "d6=pd.DataFrame(d6)\n",
    "d6.columns=['Developed']\n",
    "d6"
   ]
  },
  {
   "cell_type": "code",
   "execution_count": 65,
   "metadata": {
    "collapsed": false
   },
   "outputs": [
    {
     "data": {
      "text/html": [
       "<div>\n",
       "<table border=\"1\" class=\"dataframe\">\n",
       "  <thead>\n",
       "    <tr style=\"text-align: right;\">\n",
       "      <th></th>\n",
       "      <th>Developing</th>\n",
       "    </tr>\n",
       "  </thead>\n",
       "  <tbody>\n",
       "    <tr>\n",
       "      <th>Diarrhoea</th>\n",
       "      <td>7.75</td>\n",
       "    </tr>\n",
       "  </tbody>\n",
       "</table>\n",
       "</div>"
      ],
      "text/plain": [
       "           Developing\n",
       "Diarrhoea        7.75"
      ]
     },
     "execution_count": 65,
     "metadata": {},
     "output_type": "execute_result"
    }
   ],
   "source": [
    "\n",
    "d66 = pd.Series(developing)\n",
    "d66 = pd.DataFrame(d66)\n",
    "d66.columns = ['Developing']\n",
    "d66"
   ]
  },
  {
   "cell_type": "code",
   "execution_count": 66,
   "metadata": {
    "collapsed": false
   },
   "outputs": [
    {
     "data": {
      "text/html": [
       "<div>\n",
       "<table border=\"1\" class=\"dataframe\">\n",
       "  <thead>\n",
       "    <tr style=\"text-align: right;\">\n",
       "      <th></th>\n",
       "      <th>Developed</th>\n",
       "      <th>Developing</th>\n",
       "    </tr>\n",
       "  </thead>\n",
       "  <tbody>\n",
       "    <tr>\n",
       "      <th>Diarrhoea</th>\n",
       "      <td>1.872059</td>\n",
       "      <td>7.75</td>\n",
       "    </tr>\n",
       "  </tbody>\n",
       "</table>\n",
       "</div>"
      ],
      "text/plain": [
       "           Developed  Developing\n",
       "Diarrhoea   1.872059        7.75"
      ]
     },
     "execution_count": 66,
     "metadata": {},
     "output_type": "execute_result"
    }
   ],
   "source": [
    "res6 = pd.concat([d6, d66], axis=1, join_axes=[d6.index])\n",
    "res6"
   ]
  },
  {
   "cell_type": "code",
   "execution_count": 67,
   "metadata": {
    "collapsed": false
   },
   "outputs": [],
   "source": [
    "frames = [res,res1,res2,res3,res4,res5,res6]"
   ]
  },
  {
   "cell_type": "code",
   "execution_count": 68,
   "metadata": {
    "collapsed": false
   },
   "outputs": [
    {
     "data": {
      "text/html": [
       "<div>\n",
       "<table border=\"1\" class=\"dataframe\">\n",
       "  <thead>\n",
       "    <tr style=\"text-align: right;\">\n",
       "      <th></th>\n",
       "      <th>Developed</th>\n",
       "      <th>Developing</th>\n",
       "    </tr>\n",
       "  </thead>\n",
       "  <tbody>\n",
       "    <tr>\n",
       "      <th>preterm</th>\n",
       "      <td>23.030882</td>\n",
       "      <td>18.154365</td>\n",
       "    </tr>\n",
       "    <tr>\n",
       "      <th>Intrapartum</th>\n",
       "      <td>9.029412</td>\n",
       "      <td>10.483730</td>\n",
       "    </tr>\n",
       "    <tr>\n",
       "      <th>Sepsis</th>\n",
       "      <td>3.582353</td>\n",
       "      <td>5.587302</td>\n",
       "    </tr>\n",
       "    <tr>\n",
       "      <th>Congenital</th>\n",
       "      <td>26.030882</td>\n",
       "      <td>12.968651</td>\n",
       "    </tr>\n",
       "    <tr>\n",
       "      <th>Pneumonia</th>\n",
       "      <td>6.061029</td>\n",
       "      <td>14.255556</td>\n",
       "    </tr>\n",
       "    <tr>\n",
       "      <th>Injury</th>\n",
       "      <td>7.263971</td>\n",
       "      <td>6.100000</td>\n",
       "    </tr>\n",
       "    <tr>\n",
       "      <th>Diarrhoea</th>\n",
       "      <td>1.872059</td>\n",
       "      <td>7.750000</td>\n",
       "    </tr>\n",
       "  </tbody>\n",
       "</table>\n",
       "</div>"
      ],
      "text/plain": [
       "             Developed  Developing\n",
       "preterm      23.030882   18.154365\n",
       "Intrapartum   9.029412   10.483730\n",
       "Sepsis        3.582353    5.587302\n",
       "Congenital   26.030882   12.968651\n",
       "Pneumonia     6.061029   14.255556\n",
       "Injury        7.263971    6.100000\n",
       "Diarrhoea     1.872059    7.750000"
      ]
     },
     "execution_count": 68,
     "metadata": {},
     "output_type": "execute_result"
    }
   ],
   "source": [
    "final_frames = pd.concat(frames)\n",
    "final_frames"
   ]
  },
  {
   "cell_type": "code",
   "execution_count": 69,
   "metadata": {
    "collapsed": false
   },
   "outputs": [
    {
     "data": {
      "text/html": [
       "<!DOCTYPE html>\n",
       "<html lang=\"en\">\n",
       "    <head>\n",
       "        <meta charset=\"utf-8\" />\n",
       "        <link href=\"https://cdnjs.cloudflare.com/ajax/libs/nvd3/1.7.0/nv.d3.min.css\" rel=\"stylesheet\" />\n",
       "        <script src=\"https://cdnjs.cloudflare.com/ajax/libs/d3/3.5.5/d3.min.js\"></script>\n",
       "        <script src=\"https://cdnjs.cloudflare.com/ajax/libs/nvd3/1.7.0/nv.d3.min.js\"></script>\n",
       "    </head>\n",
       "    <body>\n",
       "        \n",
       "    <div id=\"multibarchart\"><svg style=\"width:1100px;height:500px;\"></svg></div>\n",
       "\n",
       "\n",
       "    <script>\n",
       "\n",
       "\n",
       "\n",
       "        data_multibarchart=[{\"key\": \"Developed\", \"yAxis\": \"1\", \"values\": [{\"y\": 23.030882352941184, \"x\": \"preterm\"}, {\"y\": 9.029411764705884, \"x\": \"Intrapartum\"}, {\"y\": 3.5823529411764707, \"x\": \"Sepsis\"}, {\"y\": 26.03088235294117, \"x\": \"Congenital\"}, {\"y\": 6.061029411764706, \"x\": \"Pneumonia\"}, {\"y\": 7.263970588235293, \"x\": \"Injury\"}, {\"y\": 1.8720588235294124, \"x\": \"Diarrhoea\"}]}, {\"key\": \"Developing\", \"yAxis\": \"1\", \"values\": [{\"y\": 18.154365079365085, \"x\": \"preterm\"}, {\"y\": 10.483730158730165, \"x\": \"Intrapartum\"}, {\"y\": 5.587301587301585, \"x\": \"Sepsis\"}, {\"y\": 12.968650793650797, \"x\": \"Congenital\"}, {\"y\": 14.255555555555555, \"x\": \"Pneumonia\"}, {\"y\": 6.099999999999998, \"x\": \"Injury\"}, {\"y\": 7.750000000000002, \"x\": \"Diarrhoea\"}]}];\n",
       "\n",
       "    nv.addGraph(function() {\n",
       "        var chart = nv.models.multiBarChart();\n",
       "\n",
       "        chart.margin({top: 30, right: 60, bottom: 20, left: 60});\n",
       "\n",
       "        var datum = data_multibarchart;\n",
       "\n",
       "\n",
       "\n",
       "\n",
       "\n",
       "            chart.yAxis\n",
       "                .tickFormat(d3.format(',.2f'));\n",
       "\n",
       "\n",
       "      chart.showLegend(true);\n",
       "\n",
       "\n",
       "\n",
       "        \n",
       "\n",
       "\n",
       "        d3.select('#multibarchart svg')\n",
       "            .datum(datum)\n",
       "            .transition().duration(500)\n",
       "            .attr('width', 1100)\n",
       "            .attr('height', 500)\n",
       "            .call(chart);\n",
       "\n",
       "\n",
       "    });\n",
       "\n",
       "\n",
       "\n",
       "\n",
       "    </script>\n",
       "\n",
       "    </body>\n",
       "</html>"
      ],
      "text/plain": [
       "<IPython.core.display.HTML object>"
      ]
     },
     "metadata": {},
     "output_type": "display_data"
    }
   ],
   "source": [
    "chart = multiBarChart(width=1100, height=500, x_axis_format=None)\n",
    "causes = list(final_frames.index)\n",
    "Developed = list(final_frames.Developed)\n",
    "Developing = list(final_frames.Developing)\n",
    "chart.add_serie(name=\"Developed\", y=Developed, x=causes)\n",
    "chart.add_serie(name=\"Developing\", y=Developing, x=causes)\n",
    "chart.buildhtml()\n",
    "display(HTML(chart.htmlcontent))"
   ]
  },
  {
   "cell_type": "code",
   "execution_count": 70,
   "metadata": {
    "collapsed": false
   },
   "outputs": [],
   "source": [
    "#get_ipython().magic('matplotlib nbagg')\n",
    "#final_frames.plot(kind='barh', title='Variations of the diseases for under 5yrs of age', rot=0, color=(['g','y']),\n",
    "#                  stacked=True, figsize=(12, 6), edgecolor='b', linewidth=1, fontsize='13', )\n",
    "#plt.ylabel('<------ Cause of death ------>', fontsize=14, color='b')\n",
    "#plt.xlabel('<------ Percentage aggregated values ------>', fontsize=14, color='b')\n",
    "\n"
   ]
  },
  {
   "cell_type": "markdown",
   "metadata": {
    "collapsed": true
   },
   "source": [
    "# Dividing developed dataframe according to years"
   ]
  },
  {
   "cell_type": "markdown",
   "metadata": {},
   "source": [
    "# For 2015"
   ]
  },
  {
   "cell_type": "code",
   "execution_count": 71,
   "metadata": {
    "collapsed": false,
    "scrolled": true
   },
   "outputs": [],
   "source": [
    "developed_2015 = developed_countries.reset_index(drop=True)\n",
    "developed_2015 = developed_2015[:68]"
   ]
  },
  {
   "cell_type": "code",
   "execution_count": 72,
   "metadata": {
    "collapsed": false
   },
   "outputs": [],
   "source": [
    "\n",
    "Preterm_developed_2015 = developed_2015['Preterm']\n",
    "Preterm_developed_2015 = Preterm_developed_2015.mean()"
   ]
  },
  {
   "cell_type": "code",
   "execution_count": 73,
   "metadata": {
    "collapsed": true
   },
   "outputs": [],
   "source": [
    "\n",
    "\n",
    "Intrapartum_developed_2015 = developed_2015['Intrapartum']\n",
    "Intrapartum_developed_2015 = Intrapartum_developed_2015.mean()"
   ]
  },
  {
   "cell_type": "code",
   "execution_count": 74,
   "metadata": {
    "collapsed": true
   },
   "outputs": [],
   "source": [
    "Sepsis_developed_2015 = developed_2015['Sepsis']\n",
    "Sepsis_developed_2015 = Sepsis_developed_2015.mean()"
   ]
  },
  {
   "cell_type": "code",
   "execution_count": 75,
   "metadata": {
    "collapsed": true
   },
   "outputs": [],
   "source": [
    "Congenital_developed_2015 = developed_2015['Congenital']\n",
    "Congenital_developed_2015 = Congenital_developed_2015.mean()"
   ]
  },
  {
   "cell_type": "code",
   "execution_count": 76,
   "metadata": {
    "collapsed": true
   },
   "outputs": [],
   "source": [
    "\n",
    "Pneumonia_developed_2015 = developed_2015['Pneumonia']\n",
    "Pneumonia_developed_2015 = Pneumonia_developed_2015.mean()"
   ]
  },
  {
   "cell_type": "code",
   "execution_count": 77,
   "metadata": {
    "collapsed": true
   },
   "outputs": [],
   "source": [
    "Injury_developed_2015 = developed_2015['Injury']\n",
    "Injury_developed_2015 = Injury_developed_2015.mean()"
   ]
  },
  {
   "cell_type": "code",
   "execution_count": 78,
   "metadata": {
    "collapsed": true
   },
   "outputs": [],
   "source": [
    "\n",
    "Diarrhoea_developed_2015 = developed_2015['Diarrhoea']\n",
    "Diarrhoea_developed_2015 = Diarrhoea_developed_2015.mean()"
   ]
  },
  {
   "cell_type": "code",
   "execution_count": 79,
   "metadata": {
    "collapsed": false
   },
   "outputs": [],
   "source": [
    "\n",
    "Meningitis_developed_2015 = developed_2015['Meningitis']\n",
    "Meningitis_developed_2015 = Meningitis_developed_2015.mean()\n"
   ]
  },
  {
   "cell_type": "markdown",
   "metadata": {},
   "source": [
    "\n",
    "# For 2000"
   ]
  },
  {
   "cell_type": "code",
   "execution_count": 80,
   "metadata": {
    "collapsed": false,
    "scrolled": true
   },
   "outputs": [],
   "source": [
    "developed_2000 = developed_countries.reset_index(drop=True)\n",
    "developed_2000 = developed_2000[68:]"
   ]
  },
  {
   "cell_type": "code",
   "execution_count": 81,
   "metadata": {
    "collapsed": false
   },
   "outputs": [],
   "source": [
    "Preterm_developed_2000 = developed_2000['Preterm']\n",
    "Preterm_developed_2000 = Preterm_developed_2000.mean()"
   ]
  },
  {
   "cell_type": "code",
   "execution_count": 82,
   "metadata": {
    "collapsed": true
   },
   "outputs": [],
   "source": [
    "Intrapartum_developed_2000 = developed_2000['Intrapartum']\n",
    "Intrapartum_developed_2000 = Intrapartum_developed_2000.mean()"
   ]
  },
  {
   "cell_type": "code",
   "execution_count": 83,
   "metadata": {
    "collapsed": true
   },
   "outputs": [],
   "source": [
    "Sepsis_developed_2000 = developed_2000['Sepsis']\n",
    "Sepsis_developed_2000 = Sepsis_developed_2000.mean()"
   ]
  },
  {
   "cell_type": "code",
   "execution_count": 84,
   "metadata": {
    "collapsed": true
   },
   "outputs": [],
   "source": [
    "Congenital_developed_2000 = developed_2000['Congenital']\n",
    "Congenital_developed_2000 = Congenital_developed_2000.mean()"
   ]
  },
  {
   "cell_type": "code",
   "execution_count": 85,
   "metadata": {
    "collapsed": true
   },
   "outputs": [],
   "source": [
    "Pneumonia_developed_2000 = developed_2000['Pneumonia']\n",
    "Pneumonia_developed_2000 = Pneumonia_developed_2000.mean()"
   ]
  },
  {
   "cell_type": "code",
   "execution_count": 86,
   "metadata": {
    "collapsed": true
   },
   "outputs": [],
   "source": [
    "Injury_developed_2000 = developed_2000['Injury']\n",
    "Injury_developed_2000 = Injury_developed_2000.mean()"
   ]
  },
  {
   "cell_type": "code",
   "execution_count": 87,
   "metadata": {
    "collapsed": true
   },
   "outputs": [],
   "source": [
    "Diarrhoea_developed_2000 = developed_2000['Diarrhoea']\n",
    "Diarrhoea_developed_2000 = Diarrhoea_developed_2000.mean()"
   ]
  },
  {
   "cell_type": "code",
   "execution_count": 88,
   "metadata": {
    "collapsed": true
   },
   "outputs": [],
   "source": [
    "Meningitis_developed_2000 = developed_2000['Meningitis']\n",
    "Meningitis_developed_2000 = Meningitis_developed_2000.mean()"
   ]
  },
  {
   "cell_type": "markdown",
   "metadata": {},
   "source": [
    "# Creating Dataframe for Developed countries (2000&2015)"
   ]
  },
  {
   "cell_type": "code",
   "execution_count": 89,
   "metadata": {
    "collapsed": false
   },
   "outputs": [
    {
     "data": {
      "text/html": [
       "<div>\n",
       "<table border=\"1\" class=\"dataframe\">\n",
       "  <thead>\n",
       "    <tr style=\"text-align: right;\">\n",
       "      <th></th>\n",
       "      <th>2000</th>\n",
       "      <th>2015</th>\n",
       "    </tr>\n",
       "  </thead>\n",
       "  <tbody>\n",
       "    <tr>\n",
       "      <th>preterm</th>\n",
       "      <td>22.976471</td>\n",
       "      <td>23.085294</td>\n",
       "    </tr>\n",
       "  </tbody>\n",
       "</table>\n",
       "</div>"
      ],
      "text/plain": [
       "              2000       2015\n",
       "preterm  22.976471  23.085294"
      ]
     },
     "execution_count": 89,
     "metadata": {},
     "output_type": "execute_result"
    }
   ],
   "source": [
    "developed_countries_2000 = {'preterm':Preterm_developed_2000}\n",
    "developed_countries_2015 = {'preterm':Preterm_developed_2015}\n",
    "developed_d0 = pd.Series(developed_countries_2000)\n",
    "developed_d0 = pd.DataFrame(developed_d0)\n",
    "developed_d0.columns=['2000']\n",
    "developed_d00 = pd.Series(developed_countries_2015)\n",
    "developed_d00 = pd.DataFrame(developed_d00)\n",
    "developed_d00.columns = ['2015']\n",
    "resd0 = pd.concat([developed_d0, developed_d00], axis=1, join_axes=[developed_d0.index])\n",
    "resd0\n"
   ]
  },
  {
   "cell_type": "code",
   "execution_count": 90,
   "metadata": {
    "collapsed": false
   },
   "outputs": [
    {
     "data": {
      "text/html": [
       "<div>\n",
       "<table border=\"1\" class=\"dataframe\">\n",
       "  <thead>\n",
       "    <tr style=\"text-align: right;\">\n",
       "      <th></th>\n",
       "      <th>2000</th>\n",
       "      <th>2015</th>\n",
       "    </tr>\n",
       "  </thead>\n",
       "  <tbody>\n",
       "    <tr>\n",
       "      <th>Intrapartum</th>\n",
       "      <td>9.272059</td>\n",
       "      <td>8.786765</td>\n",
       "    </tr>\n",
       "  </tbody>\n",
       "</table>\n",
       "</div>"
      ],
      "text/plain": [
       "                 2000      2015\n",
       "Intrapartum  9.272059  8.786765"
      ]
     },
     "execution_count": 90,
     "metadata": {},
     "output_type": "execute_result"
    }
   ],
   "source": [
    "developed_countries_2000 = {'Intrapartum':Intrapartum_developed_2000}\n",
    "developed_countries_2015 = {'Intrapartum':Intrapartum_developed_2015}\n",
    "developed_d1 = pd.Series(developed_countries_2000)\n",
    "developed_d1 = pd.DataFrame(developed_d1)\n",
    "developed_d1.columns=['2000']\n",
    "developed_d11 = pd.Series(developed_countries_2015)\n",
    "developed_d11 = pd.DataFrame(developed_d11)\n",
    "developed_d11.columns = ['2015']\n",
    "resd1 = pd.concat([developed_d1, developed_d11], axis=1, join_axes=[developed_d1.index])\n",
    "resd1\n",
    "\n"
   ]
  },
  {
   "cell_type": "code",
   "execution_count": 91,
   "metadata": {
    "collapsed": false
   },
   "outputs": [
    {
     "data": {
      "text/html": [
       "<div>\n",
       "<table border=\"1\" class=\"dataframe\">\n",
       "  <thead>\n",
       "    <tr style=\"text-align: right;\">\n",
       "      <th></th>\n",
       "      <th>2000</th>\n",
       "      <th>2015</th>\n",
       "    </tr>\n",
       "  </thead>\n",
       "  <tbody>\n",
       "    <tr>\n",
       "      <th>Sepsis</th>\n",
       "      <td>3.208824</td>\n",
       "      <td>3.955882</td>\n",
       "    </tr>\n",
       "  </tbody>\n",
       "</table>\n",
       "</div>"
      ],
      "text/plain": [
       "            2000      2015\n",
       "Sepsis  3.208824  3.955882"
      ]
     },
     "execution_count": 91,
     "metadata": {},
     "output_type": "execute_result"
    }
   ],
   "source": [
    "developed_countries_2000 = {'Sepsis':Sepsis_developed_2000}\n",
    "developed_countries_2015 = {'Sepsis':Sepsis_developed_2015}\n",
    "developed_d2 = pd.Series(developed_countries_2000)\n",
    "developed_d2 = pd.DataFrame(developed_d2)\n",
    "developed_d2.columns=['2000']\n",
    "developed_d22 = pd.Series(developed_countries_2015)\n",
    "developed_d22 = pd.DataFrame(developed_d22)\n",
    "developed_d22.columns = ['2015']\n",
    "resd2 = pd.concat([developed_d2, developed_d22], axis=1, join_axes=[developed_d2.index])\n",
    "resd2"
   ]
  },
  {
   "cell_type": "code",
   "execution_count": 92,
   "metadata": {
    "collapsed": false
   },
   "outputs": [
    {
     "data": {
      "text/html": [
       "<div>\n",
       "<table border=\"1\" class=\"dataframe\">\n",
       "  <thead>\n",
       "    <tr style=\"text-align: right;\">\n",
       "      <th></th>\n",
       "      <th>2000</th>\n",
       "      <th>2015</th>\n",
       "    </tr>\n",
       "  </thead>\n",
       "  <tbody>\n",
       "    <tr>\n",
       "      <th>Congenital</th>\n",
       "      <td>25.788235</td>\n",
       "      <td>26.273529</td>\n",
       "    </tr>\n",
       "  </tbody>\n",
       "</table>\n",
       "</div>"
      ],
      "text/plain": [
       "                 2000       2015\n",
       "Congenital  25.788235  26.273529"
      ]
     },
     "execution_count": 92,
     "metadata": {},
     "output_type": "execute_result"
    }
   ],
   "source": [
    "developed_countries_2000 = {'Congenital':Congenital_developed_2000}\n",
    "developed_countries_2015 = {'Congenital':Congenital_developed_2015}\n",
    "developed_d3 = pd.Series(developed_countries_2000)\n",
    "developed_d3 = pd.DataFrame(developed_d3)\n",
    "developed_d3.columns=['2000']\n",
    "developed_d33 = pd.Series(developed_countries_2015)\n",
    "developed_d33 = pd.DataFrame(developed_d33)\n",
    "developed_d33.columns = ['2015']\n",
    "resd3 = pd.concat([developed_d3, developed_d33], axis=1, join_axes=[developed_d3.index])\n",
    "resd3\n"
   ]
  },
  {
   "cell_type": "code",
   "execution_count": 93,
   "metadata": {
    "collapsed": false
   },
   "outputs": [
    {
     "data": {
      "text/html": [
       "<div>\n",
       "<table border=\"1\" class=\"dataframe\">\n",
       "  <thead>\n",
       "    <tr style=\"text-align: right;\">\n",
       "      <th></th>\n",
       "      <th>2000</th>\n",
       "      <th>2015</th>\n",
       "    </tr>\n",
       "  </thead>\n",
       "  <tbody>\n",
       "    <tr>\n",
       "      <th>Pneumonia</th>\n",
       "      <td>6.583824</td>\n",
       "      <td>5.538235</td>\n",
       "    </tr>\n",
       "  </tbody>\n",
       "</table>\n",
       "</div>"
      ],
      "text/plain": [
       "               2000      2015\n",
       "Pneumonia  6.583824  5.538235"
      ]
     },
     "execution_count": 93,
     "metadata": {},
     "output_type": "execute_result"
    }
   ],
   "source": [
    "developed_countries_2000 = {'Pneumonia':Pneumonia_developed_2000}\n",
    "developed_countries_2015 = {'Pneumonia':Pneumonia_developed_2015}\n",
    "developed_d4 = pd.Series(developed_countries_2000)\n",
    "developed_d4 = pd.DataFrame(developed_d4)\n",
    "developed_d4.columns=['2000']\n",
    "developed_d44 = pd.Series(developed_countries_2015)\n",
    "developed_d44 = pd.DataFrame(developed_d44)\n",
    "developed_d44.columns = ['2015']\n",
    "resd4 = pd.concat([developed_d4, developed_d44], axis=1, join_axes=[developed_d4.index])\n",
    "resd4"
   ]
  },
  {
   "cell_type": "code",
   "execution_count": 94,
   "metadata": {
    "collapsed": false
   },
   "outputs": [
    {
     "data": {
      "text/html": [
       "<div>\n",
       "<table border=\"1\" class=\"dataframe\">\n",
       "  <thead>\n",
       "    <tr style=\"text-align: right;\">\n",
       "      <th></th>\n",
       "      <th>2000</th>\n",
       "      <th>2015</th>\n",
       "    </tr>\n",
       "  </thead>\n",
       "  <tbody>\n",
       "    <tr>\n",
       "      <th>Injury</th>\n",
       "      <td>7.602941</td>\n",
       "      <td>6.925</td>\n",
       "    </tr>\n",
       "  </tbody>\n",
       "</table>\n",
       "</div>"
      ],
      "text/plain": [
       "            2000   2015\n",
       "Injury  7.602941  6.925"
      ]
     },
     "execution_count": 94,
     "metadata": {},
     "output_type": "execute_result"
    }
   ],
   "source": [
    "developed_countries_2000 = {'Injury':Injury_developed_2000}\n",
    "developed_countries_2015 = {'Injury':Injury_developed_2015}\n",
    "developed_d5 = pd.Series(developed_countries_2000)\n",
    "developed_d5 = pd.DataFrame(developed_d5)\n",
    "developed_d5.columns=['2000']\n",
    "developed_d55 = pd.Series(developed_countries_2015)\n",
    "developed_d55 = pd.DataFrame(developed_d55)\n",
    "developed_d55.columns = ['2015']\n",
    "resd5 = pd.concat([developed_d5, developed_d55], axis=1, join_axes=[developed_d5.index])\n",
    "resd5"
   ]
  },
  {
   "cell_type": "code",
   "execution_count": 95,
   "metadata": {
    "collapsed": false
   },
   "outputs": [
    {
     "data": {
      "text/html": [
       "<div>\n",
       "<table border=\"1\" class=\"dataframe\">\n",
       "  <thead>\n",
       "    <tr style=\"text-align: right;\">\n",
       "      <th></th>\n",
       "      <th>2000</th>\n",
       "      <th>2015</th>\n",
       "    </tr>\n",
       "  </thead>\n",
       "  <tbody>\n",
       "    <tr>\n",
       "      <th>Diarrhoea</th>\n",
       "      <td>2.302941</td>\n",
       "      <td>1.441176</td>\n",
       "    </tr>\n",
       "  </tbody>\n",
       "</table>\n",
       "</div>"
      ],
      "text/plain": [
       "               2000      2015\n",
       "Diarrhoea  2.302941  1.441176"
      ]
     },
     "execution_count": 95,
     "metadata": {},
     "output_type": "execute_result"
    }
   ],
   "source": [
    "developed_countries_2000 = {'Diarrhoea':Diarrhoea_developed_2000}\n",
    "developed_countries_2015 = {'Diarrhoea':Diarrhoea_developed_2015}\n",
    "developed_d6 = pd.Series(developed_countries_2000)\n",
    "developed_d6 = pd.DataFrame(developed_d6)\n",
    "developed_d6.columns=['2000']\n",
    "developed_d66 = pd.Series(developed_countries_2015)\n",
    "developed_d66 = pd.DataFrame(developed_d66)\n",
    "developed_d66.columns = ['2015']\n",
    "resd6 = pd.concat([developed_d6, developed_d66], axis=1, join_axes=[developed_d6.index])\n",
    "resd6"
   ]
  },
  {
   "cell_type": "code",
   "execution_count": 96,
   "metadata": {
    "collapsed": false
   },
   "outputs": [
    {
     "data": {
      "text/html": [
       "<div>\n",
       "<table border=\"1\" class=\"dataframe\">\n",
       "  <thead>\n",
       "    <tr style=\"text-align: right;\">\n",
       "      <th></th>\n",
       "      <th>2000</th>\n",
       "      <th>2015</th>\n",
       "    </tr>\n",
       "  </thead>\n",
       "  <tbody>\n",
       "    <tr>\n",
       "      <th>Meningitis</th>\n",
       "      <td>1.905882</td>\n",
       "      <td>1.198529</td>\n",
       "    </tr>\n",
       "  </tbody>\n",
       "</table>\n",
       "</div>"
      ],
      "text/plain": [
       "                2000      2015\n",
       "Meningitis  1.905882  1.198529"
      ]
     },
     "execution_count": 96,
     "metadata": {},
     "output_type": "execute_result"
    }
   ],
   "source": [
    "developed_countries_2000 = {'Meningitis':Meningitis_developed_2000}\n",
    "developed_countries_2015 = {'Meningitis':Meningitis_developed_2015}\n",
    "developed_d7 = pd.Series(developed_countries_2000)\n",
    "developed_d7 = pd.DataFrame(developed_d7)\n",
    "developed_d7.columns=['2000']\n",
    "developed_d77 = pd.Series(developed_countries_2015)\n",
    "developed_d77 = pd.DataFrame(developed_d77)\n",
    "developed_d77.columns = ['2015']\n",
    "resd7 = pd.concat([developed_d7, developed_d77], axis=1, join_axes=[developed_d7.index])\n",
    "resd7"
   ]
  },
  {
   "cell_type": "code",
   "execution_count": 97,
   "metadata": {
    "collapsed": false
   },
   "outputs": [
    {
     "data": {
      "text/html": [
       "<div>\n",
       "<table border=\"1\" class=\"dataframe\">\n",
       "  <thead>\n",
       "    <tr style=\"text-align: right;\">\n",
       "      <th></th>\n",
       "      <th>2000</th>\n",
       "      <th>2015</th>\n",
       "    </tr>\n",
       "  </thead>\n",
       "  <tbody>\n",
       "    <tr>\n",
       "      <th>preterm</th>\n",
       "      <td>22.976471</td>\n",
       "      <td>23.085294</td>\n",
       "    </tr>\n",
       "    <tr>\n",
       "      <th>Intrapartum</th>\n",
       "      <td>9.272059</td>\n",
       "      <td>8.786765</td>\n",
       "    </tr>\n",
       "    <tr>\n",
       "      <th>Sepsis</th>\n",
       "      <td>3.208824</td>\n",
       "      <td>3.955882</td>\n",
       "    </tr>\n",
       "    <tr>\n",
       "      <th>Congenital</th>\n",
       "      <td>25.788235</td>\n",
       "      <td>26.273529</td>\n",
       "    </tr>\n",
       "    <tr>\n",
       "      <th>Pneumonia</th>\n",
       "      <td>6.583824</td>\n",
       "      <td>5.538235</td>\n",
       "    </tr>\n",
       "    <tr>\n",
       "      <th>Injury</th>\n",
       "      <td>7.602941</td>\n",
       "      <td>6.925000</td>\n",
       "    </tr>\n",
       "    <tr>\n",
       "      <th>Diarrhoea</th>\n",
       "      <td>2.302941</td>\n",
       "      <td>1.441176</td>\n",
       "    </tr>\n",
       "    <tr>\n",
       "      <th>Meningitis</th>\n",
       "      <td>1.905882</td>\n",
       "      <td>1.198529</td>\n",
       "    </tr>\n",
       "  </tbody>\n",
       "</table>\n",
       "</div>"
      ],
      "text/plain": [
       "                  2000       2015\n",
       "preterm      22.976471  23.085294\n",
       "Intrapartum   9.272059   8.786765\n",
       "Sepsis        3.208824   3.955882\n",
       "Congenital   25.788235  26.273529\n",
       "Pneumonia     6.583824   5.538235\n",
       "Injury        7.602941   6.925000\n",
       "Diarrhoea     2.302941   1.441176\n",
       "Meningitis    1.905882   1.198529"
      ]
     },
     "execution_count": 97,
     "metadata": {},
     "output_type": "execute_result"
    }
   ],
   "source": [
    "frames1 = [resd0,resd1,resd2,resd3,resd4,resd5,resd6,resd7]\n",
    "final_frames1 = pd.concat(frames1)\n",
    "final_frames1\n",
    "\n"
   ]
  },
  {
   "cell_type": "code",
   "execution_count": 184,
   "metadata": {
    "collapsed": false
   },
   "outputs": [
    {
     "data": {
      "application/javascript": [
       "/* Put everything inside the global mpl namespace */\n",
       "window.mpl = {};\n",
       "\n",
       "mpl.get_websocket_type = function() {\n",
       "    if (typeof(WebSocket) !== 'undefined') {\n",
       "        return WebSocket;\n",
       "    } else if (typeof(MozWebSocket) !== 'undefined') {\n",
       "        return MozWebSocket;\n",
       "    } else {\n",
       "        alert('Your browser does not have WebSocket support.' +\n",
       "              'Please try Chrome, Safari or Firefox ≥ 6. ' +\n",
       "              'Firefox 4 and 5 are also supported but you ' +\n",
       "              'have to enable WebSockets in about:config.');\n",
       "    };\n",
       "}\n",
       "\n",
       "mpl.figure = function(figure_id, websocket, ondownload, parent_element) {\n",
       "    this.id = figure_id;\n",
       "\n",
       "    this.ws = websocket;\n",
       "\n",
       "    this.supports_binary = (this.ws.binaryType != undefined);\n",
       "\n",
       "    if (!this.supports_binary) {\n",
       "        var warnings = document.getElementById(\"mpl-warnings\");\n",
       "        if (warnings) {\n",
       "            warnings.style.display = 'block';\n",
       "            warnings.textContent = (\n",
       "                \"This browser does not support binary websocket messages. \" +\n",
       "                    \"Performance may be slow.\");\n",
       "        }\n",
       "    }\n",
       "\n",
       "    this.imageObj = new Image();\n",
       "\n",
       "    this.context = undefined;\n",
       "    this.message = undefined;\n",
       "    this.canvas = undefined;\n",
       "    this.rubberband_canvas = undefined;\n",
       "    this.rubberband_context = undefined;\n",
       "    this.format_dropdown = undefined;\n",
       "\n",
       "    this.image_mode = 'full';\n",
       "\n",
       "    this.root = $('<div/>');\n",
       "    this._root_extra_style(this.root)\n",
       "    this.root.attr('style', 'display: inline-block');\n",
       "\n",
       "    $(parent_element).append(this.root);\n",
       "\n",
       "    this._init_header(this);\n",
       "    this._init_canvas(this);\n",
       "    this._init_toolbar(this);\n",
       "\n",
       "    var fig = this;\n",
       "\n",
       "    this.waiting = false;\n",
       "\n",
       "    this.ws.onopen =  function () {\n",
       "            fig.send_message(\"supports_binary\", {value: fig.supports_binary});\n",
       "            fig.send_message(\"send_image_mode\", {});\n",
       "            fig.send_message(\"refresh\", {});\n",
       "        }\n",
       "\n",
       "    this.imageObj.onload = function() {\n",
       "            if (fig.image_mode == 'full') {\n",
       "                // Full images could contain transparency (where diff images\n",
       "                // almost always do), so we need to clear the canvas so that\n",
       "                // there is no ghosting.\n",
       "                fig.context.clearRect(0, 0, fig.canvas.width, fig.canvas.height);\n",
       "            }\n",
       "            fig.context.drawImage(fig.imageObj, 0, 0);\n",
       "        };\n",
       "\n",
       "    this.imageObj.onunload = function() {\n",
       "        this.ws.close();\n",
       "    }\n",
       "\n",
       "    this.ws.onmessage = this._make_on_message_function(this);\n",
       "\n",
       "    this.ondownload = ondownload;\n",
       "}\n",
       "\n",
       "mpl.figure.prototype._init_header = function() {\n",
       "    var titlebar = $(\n",
       "        '<div class=\"ui-dialog-titlebar ui-widget-header ui-corner-all ' +\n",
       "        'ui-helper-clearfix\"/>');\n",
       "    var titletext = $(\n",
       "        '<div class=\"ui-dialog-title\" style=\"width: 100%; ' +\n",
       "        'text-align: center; padding: 3px;\"/>');\n",
       "    titlebar.append(titletext)\n",
       "    this.root.append(titlebar);\n",
       "    this.header = titletext[0];\n",
       "}\n",
       "\n",
       "\n",
       "\n",
       "mpl.figure.prototype._canvas_extra_style = function(canvas_div) {\n",
       "\n",
       "}\n",
       "\n",
       "\n",
       "mpl.figure.prototype._root_extra_style = function(canvas_div) {\n",
       "\n",
       "}\n",
       "\n",
       "mpl.figure.prototype._init_canvas = function() {\n",
       "    var fig = this;\n",
       "\n",
       "    var canvas_div = $('<div/>');\n",
       "\n",
       "    canvas_div.attr('style', 'position: relative; clear: both; outline: 0');\n",
       "\n",
       "    function canvas_keyboard_event(event) {\n",
       "        return fig.key_event(event, event['data']);\n",
       "    }\n",
       "\n",
       "    canvas_div.keydown('key_press', canvas_keyboard_event);\n",
       "    canvas_div.keyup('key_release', canvas_keyboard_event);\n",
       "    this.canvas_div = canvas_div\n",
       "    this._canvas_extra_style(canvas_div)\n",
       "    this.root.append(canvas_div);\n",
       "\n",
       "    var canvas = $('<canvas/>');\n",
       "    canvas.addClass('mpl-canvas');\n",
       "    canvas.attr('style', \"left: 0; top: 0; z-index: 0; outline: 0\")\n",
       "\n",
       "    this.canvas = canvas[0];\n",
       "    this.context = canvas[0].getContext(\"2d\");\n",
       "\n",
       "    var rubberband = $('<canvas/>');\n",
       "    rubberband.attr('style', \"position: absolute; left: 0; top: 0; z-index: 1;\")\n",
       "\n",
       "    var pass_mouse_events = true;\n",
       "\n",
       "    canvas_div.resizable({\n",
       "        start: function(event, ui) {\n",
       "            pass_mouse_events = false;\n",
       "        },\n",
       "        resize: function(event, ui) {\n",
       "            fig.request_resize(ui.size.width, ui.size.height);\n",
       "        },\n",
       "        stop: function(event, ui) {\n",
       "            pass_mouse_events = true;\n",
       "            fig.request_resize(ui.size.width, ui.size.height);\n",
       "        },\n",
       "    });\n",
       "\n",
       "    function mouse_event_fn(event) {\n",
       "        if (pass_mouse_events)\n",
       "            return fig.mouse_event(event, event['data']);\n",
       "    }\n",
       "\n",
       "    rubberband.mousedown('button_press', mouse_event_fn);\n",
       "    rubberband.mouseup('button_release', mouse_event_fn);\n",
       "    // Throttle sequential mouse events to 1 every 20ms.\n",
       "    rubberband.mousemove('motion_notify', mouse_event_fn);\n",
       "\n",
       "    rubberband.mouseenter('figure_enter', mouse_event_fn);\n",
       "    rubberband.mouseleave('figure_leave', mouse_event_fn);\n",
       "\n",
       "    canvas_div.on(\"wheel\", function (event) {\n",
       "        event = event.originalEvent;\n",
       "        event['data'] = 'scroll'\n",
       "        if (event.deltaY < 0) {\n",
       "            event.step = 1;\n",
       "        } else {\n",
       "            event.step = -1;\n",
       "        }\n",
       "        mouse_event_fn(event);\n",
       "    });\n",
       "\n",
       "    canvas_div.append(canvas);\n",
       "    canvas_div.append(rubberband);\n",
       "\n",
       "    this.rubberband = rubberband;\n",
       "    this.rubberband_canvas = rubberband[0];\n",
       "    this.rubberband_context = rubberband[0].getContext(\"2d\");\n",
       "    this.rubberband_context.strokeStyle = \"#000000\";\n",
       "\n",
       "    this._resize_canvas = function(width, height) {\n",
       "        // Keep the size of the canvas, canvas container, and rubber band\n",
       "        // canvas in synch.\n",
       "        canvas_div.css('width', width)\n",
       "        canvas_div.css('height', height)\n",
       "\n",
       "        canvas.attr('width', width);\n",
       "        canvas.attr('height', height);\n",
       "\n",
       "        rubberband.attr('width', width);\n",
       "        rubberband.attr('height', height);\n",
       "    }\n",
       "\n",
       "    // Set the figure to an initial 600x600px, this will subsequently be updated\n",
       "    // upon first draw.\n",
       "    this._resize_canvas(600, 600);\n",
       "\n",
       "    // Disable right mouse context menu.\n",
       "    $(this.rubberband_canvas).bind(\"contextmenu\",function(e){\n",
       "        return false;\n",
       "    });\n",
       "\n",
       "    function set_focus () {\n",
       "        canvas.focus();\n",
       "        canvas_div.focus();\n",
       "    }\n",
       "\n",
       "    window.setTimeout(set_focus, 100);\n",
       "}\n",
       "\n",
       "mpl.figure.prototype._init_toolbar = function() {\n",
       "    var fig = this;\n",
       "\n",
       "    var nav_element = $('<div/>')\n",
       "    nav_element.attr('style', 'width: 100%');\n",
       "    this.root.append(nav_element);\n",
       "\n",
       "    // Define a callback function for later on.\n",
       "    function toolbar_event(event) {\n",
       "        return fig.toolbar_button_onclick(event['data']);\n",
       "    }\n",
       "    function toolbar_mouse_event(event) {\n",
       "        return fig.toolbar_button_onmouseover(event['data']);\n",
       "    }\n",
       "\n",
       "    for(var toolbar_ind in mpl.toolbar_items) {\n",
       "        var name = mpl.toolbar_items[toolbar_ind][0];\n",
       "        var tooltip = mpl.toolbar_items[toolbar_ind][1];\n",
       "        var image = mpl.toolbar_items[toolbar_ind][2];\n",
       "        var method_name = mpl.toolbar_items[toolbar_ind][3];\n",
       "\n",
       "        if (!name) {\n",
       "            // put a spacer in here.\n",
       "            continue;\n",
       "        }\n",
       "        var button = $('<button/>');\n",
       "        button.addClass('ui-button ui-widget ui-state-default ui-corner-all ' +\n",
       "                        'ui-button-icon-only');\n",
       "        button.attr('role', 'button');\n",
       "        button.attr('aria-disabled', 'false');\n",
       "        button.click(method_name, toolbar_event);\n",
       "        button.mouseover(tooltip, toolbar_mouse_event);\n",
       "\n",
       "        var icon_img = $('<span/>');\n",
       "        icon_img.addClass('ui-button-icon-primary ui-icon');\n",
       "        icon_img.addClass(image);\n",
       "        icon_img.addClass('ui-corner-all');\n",
       "\n",
       "        var tooltip_span = $('<span/>');\n",
       "        tooltip_span.addClass('ui-button-text');\n",
       "        tooltip_span.html(tooltip);\n",
       "\n",
       "        button.append(icon_img);\n",
       "        button.append(tooltip_span);\n",
       "\n",
       "        nav_element.append(button);\n",
       "    }\n",
       "\n",
       "    var fmt_picker_span = $('<span/>');\n",
       "\n",
       "    var fmt_picker = $('<select/>');\n",
       "    fmt_picker.addClass('mpl-toolbar-option ui-widget ui-widget-content');\n",
       "    fmt_picker_span.append(fmt_picker);\n",
       "    nav_element.append(fmt_picker_span);\n",
       "    this.format_dropdown = fmt_picker[0];\n",
       "\n",
       "    for (var ind in mpl.extensions) {\n",
       "        var fmt = mpl.extensions[ind];\n",
       "        var option = $(\n",
       "            '<option/>', {selected: fmt === mpl.default_extension}).html(fmt);\n",
       "        fmt_picker.append(option)\n",
       "    }\n",
       "\n",
       "    // Add hover states to the ui-buttons\n",
       "    $( \".ui-button\" ).hover(\n",
       "        function() { $(this).addClass(\"ui-state-hover\");},\n",
       "        function() { $(this).removeClass(\"ui-state-hover\");}\n",
       "    );\n",
       "\n",
       "    var status_bar = $('<span class=\"mpl-message\"/>');\n",
       "    nav_element.append(status_bar);\n",
       "    this.message = status_bar[0];\n",
       "}\n",
       "\n",
       "mpl.figure.prototype.request_resize = function(x_pixels, y_pixels) {\n",
       "    // Request matplotlib to resize the figure. Matplotlib will then trigger a resize in the client,\n",
       "    // which will in turn request a refresh of the image.\n",
       "    this.send_message('resize', {'width': x_pixels, 'height': y_pixels});\n",
       "}\n",
       "\n",
       "mpl.figure.prototype.send_message = function(type, properties) {\n",
       "    properties['type'] = type;\n",
       "    properties['figure_id'] = this.id;\n",
       "    this.ws.send(JSON.stringify(properties));\n",
       "}\n",
       "\n",
       "mpl.figure.prototype.send_draw_message = function() {\n",
       "    if (!this.waiting) {\n",
       "        this.waiting = true;\n",
       "        this.ws.send(JSON.stringify({type: \"draw\", figure_id: this.id}));\n",
       "    }\n",
       "}\n",
       "\n",
       "\n",
       "mpl.figure.prototype.handle_save = function(fig, msg) {\n",
       "    var format_dropdown = fig.format_dropdown;\n",
       "    var format = format_dropdown.options[format_dropdown.selectedIndex].value;\n",
       "    fig.ondownload(fig, format);\n",
       "}\n",
       "\n",
       "\n",
       "mpl.figure.prototype.handle_resize = function(fig, msg) {\n",
       "    var size = msg['size'];\n",
       "    if (size[0] != fig.canvas.width || size[1] != fig.canvas.height) {\n",
       "        fig._resize_canvas(size[0], size[1]);\n",
       "        fig.send_message(\"refresh\", {});\n",
       "    };\n",
       "}\n",
       "\n",
       "mpl.figure.prototype.handle_rubberband = function(fig, msg) {\n",
       "    var x0 = msg['x0'];\n",
       "    var y0 = fig.canvas.height - msg['y0'];\n",
       "    var x1 = msg['x1'];\n",
       "    var y1 = fig.canvas.height - msg['y1'];\n",
       "    x0 = Math.floor(x0) + 0.5;\n",
       "    y0 = Math.floor(y0) + 0.5;\n",
       "    x1 = Math.floor(x1) + 0.5;\n",
       "    y1 = Math.floor(y1) + 0.5;\n",
       "    var min_x = Math.min(x0, x1);\n",
       "    var min_y = Math.min(y0, y1);\n",
       "    var width = Math.abs(x1 - x0);\n",
       "    var height = Math.abs(y1 - y0);\n",
       "\n",
       "    fig.rubberband_context.clearRect(\n",
       "        0, 0, fig.canvas.width, fig.canvas.height);\n",
       "\n",
       "    fig.rubberband_context.strokeRect(min_x, min_y, width, height);\n",
       "}\n",
       "\n",
       "mpl.figure.prototype.handle_figure_label = function(fig, msg) {\n",
       "    // Updates the figure title.\n",
       "    fig.header.textContent = msg['label'];\n",
       "}\n",
       "\n",
       "mpl.figure.prototype.handle_cursor = function(fig, msg) {\n",
       "    var cursor = msg['cursor'];\n",
       "    switch(cursor)\n",
       "    {\n",
       "    case 0:\n",
       "        cursor = 'pointer';\n",
       "        break;\n",
       "    case 1:\n",
       "        cursor = 'default';\n",
       "        break;\n",
       "    case 2:\n",
       "        cursor = 'crosshair';\n",
       "        break;\n",
       "    case 3:\n",
       "        cursor = 'move';\n",
       "        break;\n",
       "    }\n",
       "    fig.rubberband_canvas.style.cursor = cursor;\n",
       "}\n",
       "\n",
       "mpl.figure.prototype.handle_message = function(fig, msg) {\n",
       "    fig.message.textContent = msg['message'];\n",
       "}\n",
       "\n",
       "mpl.figure.prototype.handle_draw = function(fig, msg) {\n",
       "    // Request the server to send over a new figure.\n",
       "    fig.send_draw_message();\n",
       "}\n",
       "\n",
       "mpl.figure.prototype.handle_image_mode = function(fig, msg) {\n",
       "    fig.image_mode = msg['mode'];\n",
       "}\n",
       "\n",
       "mpl.figure.prototype.updated_canvas_event = function() {\n",
       "    // Called whenever the canvas gets updated.\n",
       "    this.send_message(\"ack\", {});\n",
       "}\n",
       "\n",
       "// A function to construct a web socket function for onmessage handling.\n",
       "// Called in the figure constructor.\n",
       "mpl.figure.prototype._make_on_message_function = function(fig) {\n",
       "    return function socket_on_message(evt) {\n",
       "        if (evt.data instanceof Blob) {\n",
       "            /* FIXME: We get \"Resource interpreted as Image but\n",
       "             * transferred with MIME type text/plain:\" errors on\n",
       "             * Chrome.  But how to set the MIME type?  It doesn't seem\n",
       "             * to be part of the websocket stream */\n",
       "            evt.data.type = \"image/png\";\n",
       "\n",
       "            /* Free the memory for the previous frames */\n",
       "            if (fig.imageObj.src) {\n",
       "                (window.URL || window.webkitURL).revokeObjectURL(\n",
       "                    fig.imageObj.src);\n",
       "            }\n",
       "\n",
       "            fig.imageObj.src = (window.URL || window.webkitURL).createObjectURL(\n",
       "                evt.data);\n",
       "            fig.updated_canvas_event();\n",
       "            fig.waiting = false;\n",
       "            return;\n",
       "        }\n",
       "        else if (typeof evt.data === 'string' && evt.data.slice(0, 21) == \"data:image/png;base64\") {\n",
       "            fig.imageObj.src = evt.data;\n",
       "            fig.updated_canvas_event();\n",
       "            fig.waiting = false;\n",
       "            return;\n",
       "        }\n",
       "\n",
       "        var msg = JSON.parse(evt.data);\n",
       "        var msg_type = msg['type'];\n",
       "\n",
       "        // Call the  \"handle_{type}\" callback, which takes\n",
       "        // the figure and JSON message as its only arguments.\n",
       "        try {\n",
       "            var callback = fig[\"handle_\" + msg_type];\n",
       "        } catch (e) {\n",
       "            console.log(\"No handler for the '\" + msg_type + \"' message type: \", msg);\n",
       "            return;\n",
       "        }\n",
       "\n",
       "        if (callback) {\n",
       "            try {\n",
       "                // console.log(\"Handling '\" + msg_type + \"' message: \", msg);\n",
       "                callback(fig, msg);\n",
       "            } catch (e) {\n",
       "                console.log(\"Exception inside the 'handler_\" + msg_type + \"' callback:\", e, e.stack, msg);\n",
       "            }\n",
       "        }\n",
       "    };\n",
       "}\n",
       "\n",
       "// from http://stackoverflow.com/questions/1114465/getting-mouse-location-in-canvas\n",
       "mpl.findpos = function(e) {\n",
       "    //this section is from http://www.quirksmode.org/js/events_properties.html\n",
       "    var targ;\n",
       "    if (!e)\n",
       "        e = window.event;\n",
       "    if (e.target)\n",
       "        targ = e.target;\n",
       "    else if (e.srcElement)\n",
       "        targ = e.srcElement;\n",
       "    if (targ.nodeType == 3) // defeat Safari bug\n",
       "        targ = targ.parentNode;\n",
       "\n",
       "    // jQuery normalizes the pageX and pageY\n",
       "    // pageX,Y are the mouse positions relative to the document\n",
       "    // offset() returns the position of the element relative to the document\n",
       "    var x = e.pageX - $(targ).offset().left;\n",
       "    var y = e.pageY - $(targ).offset().top;\n",
       "\n",
       "    return {\"x\": x, \"y\": y};\n",
       "};\n",
       "\n",
       "/*\n",
       " * return a copy of an object with only non-object keys\n",
       " * we need this to avoid circular references\n",
       " * http://stackoverflow.com/a/24161582/3208463\n",
       " */\n",
       "function simpleKeys (original) {\n",
       "  return Object.keys(original).reduce(function (obj, key) {\n",
       "    if (typeof original[key] !== 'object')\n",
       "        obj[key] = original[key]\n",
       "    return obj;\n",
       "  }, {});\n",
       "}\n",
       "\n",
       "mpl.figure.prototype.mouse_event = function(event, name) {\n",
       "    var canvas_pos = mpl.findpos(event)\n",
       "\n",
       "    if (name === 'button_press')\n",
       "    {\n",
       "        this.canvas.focus();\n",
       "        this.canvas_div.focus();\n",
       "    }\n",
       "\n",
       "    var x = canvas_pos.x;\n",
       "    var y = canvas_pos.y;\n",
       "\n",
       "    this.send_message(name, {x: x, y: y, button: event.button,\n",
       "                             step: event.step,\n",
       "                             guiEvent: simpleKeys(event)});\n",
       "\n",
       "    /* This prevents the web browser from automatically changing to\n",
       "     * the text insertion cursor when the button is pressed.  We want\n",
       "     * to control all of the cursor setting manually through the\n",
       "     * 'cursor' event from matplotlib */\n",
       "    event.preventDefault();\n",
       "    return false;\n",
       "}\n",
       "\n",
       "mpl.figure.prototype._key_event_extra = function(event, name) {\n",
       "    // Handle any extra behaviour associated with a key event\n",
       "}\n",
       "\n",
       "mpl.figure.prototype.key_event = function(event, name) {\n",
       "\n",
       "    // Prevent repeat events\n",
       "    if (name == 'key_press')\n",
       "    {\n",
       "        if (event.which === this._key)\n",
       "            return;\n",
       "        else\n",
       "            this._key = event.which;\n",
       "    }\n",
       "    if (name == 'key_release')\n",
       "        this._key = null;\n",
       "\n",
       "    var value = '';\n",
       "    if (event.ctrlKey && event.which != 17)\n",
       "        value += \"ctrl+\";\n",
       "    if (event.altKey && event.which != 18)\n",
       "        value += \"alt+\";\n",
       "    if (event.shiftKey && event.which != 16)\n",
       "        value += \"shift+\";\n",
       "\n",
       "    value += 'k';\n",
       "    value += event.which.toString();\n",
       "\n",
       "    this._key_event_extra(event, name);\n",
       "\n",
       "    this.send_message(name, {key: value,\n",
       "                             guiEvent: simpleKeys(event)});\n",
       "    return false;\n",
       "}\n",
       "\n",
       "mpl.figure.prototype.toolbar_button_onclick = function(name) {\n",
       "    if (name == 'download') {\n",
       "        this.handle_save(this, null);\n",
       "    } else {\n",
       "        this.send_message(\"toolbar_button\", {name: name});\n",
       "    }\n",
       "};\n",
       "\n",
       "mpl.figure.prototype.toolbar_button_onmouseover = function(tooltip) {\n",
       "    this.message.textContent = tooltip;\n",
       "};\n",
       "mpl.toolbar_items = [[\"Home\", \"Reset original view\", \"fa fa-home icon-home\", \"home\"], [\"Back\", \"Back to  previous view\", \"fa fa-arrow-left icon-arrow-left\", \"back\"], [\"Forward\", \"Forward to next view\", \"fa fa-arrow-right icon-arrow-right\", \"forward\"], [\"\", \"\", \"\", \"\"], [\"Pan\", \"Pan axes with left mouse, zoom with right\", \"fa fa-arrows icon-move\", \"pan\"], [\"Zoom\", \"Zoom to rectangle\", \"fa fa-square-o icon-check-empty\", \"zoom\"], [\"\", \"\", \"\", \"\"], [\"Download\", \"Download plot\", \"fa fa-floppy-o icon-save\", \"download\"]];\n",
       "\n",
       "mpl.extensions = [\"eps\", \"jpeg\", \"pdf\", \"png\", \"ps\", \"raw\", \"svg\", \"tif\"];\n",
       "\n",
       "mpl.default_extension = \"png\";var comm_websocket_adapter = function(comm) {\n",
       "    // Create a \"websocket\"-like object which calls the given IPython comm\n",
       "    // object with the appropriate methods. Currently this is a non binary\n",
       "    // socket, so there is still some room for performance tuning.\n",
       "    var ws = {};\n",
       "\n",
       "    ws.close = function() {\n",
       "        comm.close()\n",
       "    };\n",
       "    ws.send = function(m) {\n",
       "        //console.log('sending', m);\n",
       "        comm.send(m);\n",
       "    };\n",
       "    // Register the callback with on_msg.\n",
       "    comm.on_msg(function(msg) {\n",
       "        //console.log('receiving', msg['content']['data'], msg);\n",
       "        // Pass the mpl event to the overriden (by mpl) onmessage function.\n",
       "        ws.onmessage(msg['content']['data'])\n",
       "    });\n",
       "    return ws;\n",
       "}\n",
       "\n",
       "mpl.mpl_figure_comm = function(comm, msg) {\n",
       "    // This is the function which gets called when the mpl process\n",
       "    // starts-up an IPython Comm through the \"matplotlib\" channel.\n",
       "\n",
       "    var id = msg.content.data.id;\n",
       "    // Get hold of the div created by the display call when the Comm\n",
       "    // socket was opened in Python.\n",
       "    var element = $(\"#\" + id);\n",
       "    var ws_proxy = comm_websocket_adapter(comm)\n",
       "\n",
       "    function ondownload(figure, format) {\n",
       "        window.open(figure.imageObj.src);\n",
       "    }\n",
       "\n",
       "    var fig = new mpl.figure(id, ws_proxy,\n",
       "                           ondownload,\n",
       "                           element.get(0));\n",
       "\n",
       "    // Call onopen now - mpl needs it, as it is assuming we've passed it a real\n",
       "    // web socket which is closed, not our websocket->open comm proxy.\n",
       "    ws_proxy.onopen();\n",
       "\n",
       "    fig.parent_element = element.get(0);\n",
       "    fig.cell_info = mpl.find_output_cell(\"<div id='\" + id + \"'></div>\");\n",
       "    if (!fig.cell_info) {\n",
       "        console.error(\"Failed to find cell for figure\", id, fig);\n",
       "        return;\n",
       "    }\n",
       "\n",
       "    var output_index = fig.cell_info[2]\n",
       "    var cell = fig.cell_info[0];\n",
       "\n",
       "};\n",
       "\n",
       "mpl.figure.prototype.handle_close = function(fig, msg) {\n",
       "    fig.root.unbind('remove')\n",
       "\n",
       "    // Update the output cell to use the data from the current canvas.\n",
       "    fig.push_to_output();\n",
       "    var dataURL = fig.canvas.toDataURL();\n",
       "    // Re-enable the keyboard manager in IPython - without this line, in FF,\n",
       "    // the notebook keyboard shortcuts fail.\n",
       "    IPython.keyboard_manager.enable()\n",
       "    $(fig.parent_element).html('<img src=\"' + dataURL + '\">');\n",
       "    fig.close_ws(fig, msg);\n",
       "}\n",
       "\n",
       "mpl.figure.prototype.close_ws = function(fig, msg){\n",
       "    fig.send_message('closing', msg);\n",
       "    // fig.ws.close()\n",
       "}\n",
       "\n",
       "mpl.figure.prototype.push_to_output = function(remove_interactive) {\n",
       "    // Turn the data on the canvas into data in the output cell.\n",
       "    var dataURL = this.canvas.toDataURL();\n",
       "    this.cell_info[1]['text/html'] = '<img src=\"' + dataURL + '\">';\n",
       "}\n",
       "\n",
       "mpl.figure.prototype.updated_canvas_event = function() {\n",
       "    // Tell IPython that the notebook contents must change.\n",
       "    IPython.notebook.set_dirty(true);\n",
       "    this.send_message(\"ack\", {});\n",
       "    var fig = this;\n",
       "    // Wait a second, then push the new image to the DOM so\n",
       "    // that it is saved nicely (might be nice to debounce this).\n",
       "    setTimeout(function () { fig.push_to_output() }, 1000);\n",
       "}\n",
       "\n",
       "mpl.figure.prototype._init_toolbar = function() {\n",
       "    var fig = this;\n",
       "\n",
       "    var nav_element = $('<div/>')\n",
       "    nav_element.attr('style', 'width: 100%');\n",
       "    this.root.append(nav_element);\n",
       "\n",
       "    // Define a callback function for later on.\n",
       "    function toolbar_event(event) {\n",
       "        return fig.toolbar_button_onclick(event['data']);\n",
       "    }\n",
       "    function toolbar_mouse_event(event) {\n",
       "        return fig.toolbar_button_onmouseover(event['data']);\n",
       "    }\n",
       "\n",
       "    for(var toolbar_ind in mpl.toolbar_items){\n",
       "        var name = mpl.toolbar_items[toolbar_ind][0];\n",
       "        var tooltip = mpl.toolbar_items[toolbar_ind][1];\n",
       "        var image = mpl.toolbar_items[toolbar_ind][2];\n",
       "        var method_name = mpl.toolbar_items[toolbar_ind][3];\n",
       "\n",
       "        if (!name) { continue; };\n",
       "\n",
       "        var button = $('<button class=\"btn btn-default\" href=\"#\" title=\"' + name + '\"><i class=\"fa ' + image + ' fa-lg\"></i></button>');\n",
       "        button.click(method_name, toolbar_event);\n",
       "        button.mouseover(tooltip, toolbar_mouse_event);\n",
       "        nav_element.append(button);\n",
       "    }\n",
       "\n",
       "    // Add the status bar.\n",
       "    var status_bar = $('<span class=\"mpl-message\" style=\"text-align:right; float: right;\"/>');\n",
       "    nav_element.append(status_bar);\n",
       "    this.message = status_bar[0];\n",
       "\n",
       "    // Add the close button to the window.\n",
       "    var buttongrp = $('<div class=\"btn-group inline pull-right\"></div>');\n",
       "    var button = $('<button class=\"btn btn-mini btn-primary\" href=\"#\" title=\"Stop Interaction\"><i class=\"fa fa-power-off icon-remove icon-large\"></i></button>');\n",
       "    button.click(function (evt) { fig.handle_close(fig, {}); } );\n",
       "    button.mouseover('Stop Interaction', toolbar_mouse_event);\n",
       "    buttongrp.append(button);\n",
       "    var titlebar = this.root.find($('.ui-dialog-titlebar'));\n",
       "    titlebar.prepend(buttongrp);\n",
       "}\n",
       "\n",
       "mpl.figure.prototype._root_extra_style = function(el){\n",
       "    var fig = this\n",
       "    el.on(\"remove\", function(){\n",
       "\tfig.close_ws(fig, {});\n",
       "    });\n",
       "}\n",
       "\n",
       "mpl.figure.prototype._canvas_extra_style = function(el){\n",
       "    // this is important to make the div 'focusable\n",
       "    el.attr('tabindex', 0)\n",
       "    // reach out to IPython and tell the keyboard manager to turn it's self\n",
       "    // off when our div gets focus\n",
       "\n",
       "    // location in version 3\n",
       "    if (IPython.notebook.keyboard_manager) {\n",
       "        IPython.notebook.keyboard_manager.register_events(el);\n",
       "    }\n",
       "    else {\n",
       "        // location in version 2\n",
       "        IPython.keyboard_manager.register_events(el);\n",
       "    }\n",
       "\n",
       "}\n",
       "\n",
       "mpl.figure.prototype._key_event_extra = function(event, name) {\n",
       "    var manager = IPython.notebook.keyboard_manager;\n",
       "    if (!manager)\n",
       "        manager = IPython.keyboard_manager;\n",
       "\n",
       "    // Check for shift+enter\n",
       "    if (event.shiftKey && event.which == 13) {\n",
       "        this.canvas_div.blur();\n",
       "        // select the cell after this one\n",
       "        var index = IPython.notebook.find_cell_index(this.cell_info[0]);\n",
       "        IPython.notebook.select(index + 1);\n",
       "    }\n",
       "}\n",
       "\n",
       "mpl.figure.prototype.handle_save = function(fig, msg) {\n",
       "    fig.ondownload(fig, null);\n",
       "}\n",
       "\n",
       "\n",
       "mpl.find_output_cell = function(html_output) {\n",
       "    // Return the cell and output element which can be found *uniquely* in the notebook.\n",
       "    // Note - this is a bit hacky, but it is done because the \"notebook_saving.Notebook\"\n",
       "    // IPython event is triggered only after the cells have been serialised, which for\n",
       "    // our purposes (turning an active figure into a static one), is too late.\n",
       "    var cells = IPython.notebook.get_cells();\n",
       "    var ncells = cells.length;\n",
       "    for (var i=0; i<ncells; i++) {\n",
       "        var cell = cells[i];\n",
       "        if (cell.cell_type === 'code'){\n",
       "            for (var j=0; j<cell.output_area.outputs.length; j++) {\n",
       "                var data = cell.output_area.outputs[j];\n",
       "                if (data.data) {\n",
       "                    // IPython >= 3 moved mimebundle to data attribute of output\n",
       "                    data = data.data;\n",
       "                }\n",
       "                if (data['text/html'] == html_output) {\n",
       "                    return [cell, data, j];\n",
       "                }\n",
       "            }\n",
       "        }\n",
       "    }\n",
       "}\n",
       "\n",
       "// Register the function which deals with the matplotlib target/channel.\n",
       "// The kernel may be null if the page has been refreshed.\n",
       "if (IPython.notebook.kernel != null) {\n",
       "    IPython.notebook.kernel.comm_manager.register_target('matplotlib', mpl.mpl_figure_comm);\n",
       "}\n"
      ],
      "text/plain": [
       "<IPython.core.display.Javascript object>"
      ]
     },
     "metadata": {},
     "output_type": "display_data"
    },
    {
     "data": {
      "text/html": [
       "<img src=\"data:image/png;base64,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\">"
      ],
      "text/plain": [
       "<IPython.core.display.HTML object>"
      ]
     },
     "metadata": {},
     "output_type": "display_data"
    },
    {
     "data": {
      "text/plain": [
       "<matplotlib.text.Text at 0x7fde74d915f8>"
      ]
     },
     "execution_count": 184,
     "metadata": {},
     "output_type": "execute_result"
    }
   ],
   "source": [
    "final_frames1.plot(kind='barh', title='Deaths for under 5yrs of age for developed region in 2000 and 2015', rot=0, color=(['r','b']),\n",
    "                  figsize=(11, 8), edgecolor='w', linewidth=2, width=0.7)\n",
    "plt.ylabel('<------ Cause for deaths ------>', fontsize=14, color='m')\n",
    "plt.xlabel('<------ Percentage aggregated values of deaths ------>', fontsize=14, color='m')\n",
    "#plt.savefig(\"image.png\")\n",
    "\n",
    "#for i,v in final_frames1(2000):\n",
    "#    plt.text(v +1, i+.75, str(v), color='black')\n",
    "#plt.show()\n",
    " "
   ]
  },
  {
   "cell_type": "markdown",
   "metadata": {},
   "source": [
    "# Divinding developing dataframe according to years (2000&2015)"
   ]
  },
  {
   "cell_type": "markdown",
   "metadata": {},
   "source": [
    "# 2015"
   ]
  },
  {
   "cell_type": "code",
   "execution_count": 128,
   "metadata": {
    "collapsed": true
   },
   "outputs": [],
   "source": [
    "developing_2015 = developing_countries.reset_index(drop=True)\n",
    "developing_2015 = developing_2015[:126]"
   ]
  },
  {
   "cell_type": "code",
   "execution_count": 129,
   "metadata": {
    "collapsed": true
   },
   "outputs": [],
   "source": [
    "Preterm_developing_2015 = developing_2015['Preterm']\n",
    "Preterm_developing_2015 = Preterm_developing_2015.mean()"
   ]
  },
  {
   "cell_type": "code",
   "execution_count": 130,
   "metadata": {
    "collapsed": true
   },
   "outputs": [],
   "source": [
    "Intrapartum_developing_2015 = developing_2015['Intrapartum']\n",
    "Intrapartum_developing_2015 = Intrapartum_developing_2015.mean()"
   ]
  },
  {
   "cell_type": "code",
   "execution_count": 131,
   "metadata": {
    "collapsed": true
   },
   "outputs": [],
   "source": [
    "Sepsis_developing_2015 = developing_2015['Sepsis']\n",
    "Sepsis_developing_2015 = Sepsis_developing_2015.mean()"
   ]
  },
  {
   "cell_type": "code",
   "execution_count": 132,
   "metadata": {
    "collapsed": true
   },
   "outputs": [],
   "source": [
    "Congenital_developing_2015 = developing_2015['Congenital']\n",
    "Congenital_developing_2015 = Congenital_developing_2015.mean()"
   ]
  },
  {
   "cell_type": "code",
   "execution_count": 133,
   "metadata": {
    "collapsed": true
   },
   "outputs": [],
   "source": [
    "Pneumonia_developing_2015 = developing_2015['Pneumonia']\n",
    "Pneumonia_developing_2015 = Pneumonia_developing_2015.mean()"
   ]
  },
  {
   "cell_type": "code",
   "execution_count": 134,
   "metadata": {
    "collapsed": true
   },
   "outputs": [],
   "source": [
    "Injury_developing_2015 = developing_2015['Injury']\n",
    "Injury_developing_2015 = Injury_developing_2015.mean()"
   ]
  },
  {
   "cell_type": "code",
   "execution_count": 135,
   "metadata": {
    "collapsed": true
   },
   "outputs": [],
   "source": [
    "Diarrhoea_developing_2015 = developing_2015['Diarrhoea']\n",
    "Diarrhoea_developing_2015 = Diarrhoea_developing_2015.mean()"
   ]
  },
  {
   "cell_type": "code",
   "execution_count": 136,
   "metadata": {
    "collapsed": true
   },
   "outputs": [],
   "source": [
    "Meningitis_developing_2015 = developing_2015['Meningitis']\n",
    "Meningitis_developing_2015 = Meningitis_developing_2015.mean()"
   ]
  },
  {
   "cell_type": "markdown",
   "metadata": {},
   "source": [
    "# 2000"
   ]
  },
  {
   "cell_type": "code",
   "execution_count": 137,
   "metadata": {
    "collapsed": true
   },
   "outputs": [],
   "source": [
    "developing_2000 = developing_countries.reset_index(drop=True)\n",
    "developing_2000 = developing_2000[126:]"
   ]
  },
  {
   "cell_type": "code",
   "execution_count": 138,
   "metadata": {
    "collapsed": true
   },
   "outputs": [],
   "source": [
    "Preterm_developing_2000 = developing_2000['Preterm']\n",
    "Preterm_developing_2000 = Preterm_developing_2000.mean()"
   ]
  },
  {
   "cell_type": "code",
   "execution_count": 139,
   "metadata": {
    "collapsed": true
   },
   "outputs": [],
   "source": [
    "Intrapartum_developing_2000 = developing_2000['Intrapartum']\n",
    "Intrapartum_developing_2000 = Intrapartum_developing_2000.mean()"
   ]
  },
  {
   "cell_type": "code",
   "execution_count": 140,
   "metadata": {
    "collapsed": true
   },
   "outputs": [],
   "source": [
    "Sepsis_developing_2000 = developing_2000['Sepsis']\n",
    "Sepsis_developing_2000 = Sepsis_developing_2000.mean()"
   ]
  },
  {
   "cell_type": "code",
   "execution_count": 141,
   "metadata": {
    "collapsed": true
   },
   "outputs": [],
   "source": [
    "Congenital_developing_2000 = developing_2000['Congenital']\n",
    "Congenital_developing_2000 = Congenital_developing_2000.mean()"
   ]
  },
  {
   "cell_type": "code",
   "execution_count": 142,
   "metadata": {
    "collapsed": true
   },
   "outputs": [],
   "source": [
    "Pneumonia_developing_2000 = developing_2000['Pneumonia']\n",
    "Pneumonia_developing_2000 = Pneumonia_developing_2000.mean()"
   ]
  },
  {
   "cell_type": "code",
   "execution_count": 143,
   "metadata": {
    "collapsed": true
   },
   "outputs": [],
   "source": [
    "Injury_developing_2000 = developing_2000['Injury']\n",
    "Injury_developing_2000 = Injury_developing_2000.mean()"
   ]
  },
  {
   "cell_type": "code",
   "execution_count": 144,
   "metadata": {
    "collapsed": true
   },
   "outputs": [],
   "source": [
    "Diarrhoea_developing_2000 = developing_2000['Diarrhoea']\n",
    "Diarrhoea_developing_2000 = Diarrhoea_developing_2000.mean()"
   ]
  },
  {
   "cell_type": "code",
   "execution_count": 145,
   "metadata": {
    "collapsed": true
   },
   "outputs": [],
   "source": [
    "Meningitis_developing_2000 = developing_2000['Meningitis']\n",
    "Meningitis_developing_2000 = Meningitis_developing_2000.mean()"
   ]
  },
  {
   "cell_type": "markdown",
   "metadata": {},
   "source": [
    "# Creating dataframes for developing countries (2000&2015)"
   ]
  },
  {
   "cell_type": "code",
   "execution_count": 146,
   "metadata": {
    "collapsed": false
   },
   "outputs": [
    {
     "data": {
      "text/html": [
       "<div>\n",
       "<table border=\"1\" class=\"dataframe\">\n",
       "  <thead>\n",
       "    <tr style=\"text-align: right;\">\n",
       "      <th></th>\n",
       "      <th>2000</th>\n",
       "      <th>2015</th>\n",
       "    </tr>\n",
       "  </thead>\n",
       "  <tbody>\n",
       "    <tr>\n",
       "      <th>preterm</th>\n",
       "      <td>17.414286</td>\n",
       "      <td>18.894444</td>\n",
       "    </tr>\n",
       "  </tbody>\n",
       "</table>\n",
       "</div>"
      ],
      "text/plain": [
       "              2000       2015\n",
       "preterm  17.414286  18.894444"
      ]
     },
     "execution_count": 146,
     "metadata": {},
     "output_type": "execute_result"
    }
   ],
   "source": [
    "developing_countries_2000 = {'preterm':Preterm_developing_2000}\n",
    "developing_countries_2015 = {'preterm':Preterm_developing_2015}\n",
    "developing_d0 = pd.Series(developing_countries_2000)\n",
    "developing_d0 = pd.DataFrame(developing_d0)\n",
    "developing_d0.columns=['2000']\n",
    "developing_d00 = pd.Series(developing_countries_2015)\n",
    "developing_d00 = pd.DataFrame(developing_d00)\n",
    "developing_d00.columns = ['2015']\n",
    "resdg0 = pd.concat([developing_d0, developing_d00], axis=1, join_axes=[developing_d0.index])\n",
    "resdg0"
   ]
  },
  {
   "cell_type": "code",
   "execution_count": 147,
   "metadata": {
    "collapsed": false
   },
   "outputs": [
    {
     "data": {
      "text/html": [
       "<div>\n",
       "<table border=\"1\" class=\"dataframe\">\n",
       "  <thead>\n",
       "    <tr style=\"text-align: right;\">\n",
       "      <th></th>\n",
       "      <th>2000</th>\n",
       "      <th>2015</th>\n",
       "    </tr>\n",
       "  </thead>\n",
       "  <tbody>\n",
       "    <tr>\n",
       "      <th>Intrapartum</th>\n",
       "      <td>10.005556</td>\n",
       "      <td>10.961905</td>\n",
       "    </tr>\n",
       "  </tbody>\n",
       "</table>\n",
       "</div>"
      ],
      "text/plain": [
       "                  2000       2015\n",
       "Intrapartum  10.005556  10.961905"
      ]
     },
     "execution_count": 147,
     "metadata": {},
     "output_type": "execute_result"
    }
   ],
   "source": [
    "developing_countries_2000 = {'Intrapartum':Intrapartum_developing_2000}\n",
    "developing_countries_2015 = {'Intrapartum':Intrapartum_developing_2015}\n",
    "developing_d1 = pd.Series(developing_countries_2000)\n",
    "developing_d1 = pd.DataFrame(developing_d1)\n",
    "developing_d1.columns=['2000']\n",
    "developing_d11 = pd.Series(developing_countries_2015)\n",
    "developing_d11 = pd.DataFrame(developing_d11)\n",
    "developing_d11.columns = ['2015']\n",
    "resdg1 = pd.concat([developing_d1, developing_d11], axis=1, join_axes=[developing_d1.index])\n",
    "resdg1"
   ]
  },
  {
   "cell_type": "code",
   "execution_count": 148,
   "metadata": {
    "collapsed": false
   },
   "outputs": [
    {
     "data": {
      "text/html": [
       "<div>\n",
       "<table border=\"1\" class=\"dataframe\">\n",
       "  <thead>\n",
       "    <tr style=\"text-align: right;\">\n",
       "      <th></th>\n",
       "      <th>2000</th>\n",
       "      <th>2015</th>\n",
       "    </tr>\n",
       "  </thead>\n",
       "  <tbody>\n",
       "    <tr>\n",
       "      <th>Sepsis</th>\n",
       "      <td>5.007937</td>\n",
       "      <td>6.166667</td>\n",
       "    </tr>\n",
       "  </tbody>\n",
       "</table>\n",
       "</div>"
      ],
      "text/plain": [
       "            2000      2015\n",
       "Sepsis  5.007937  6.166667"
      ]
     },
     "execution_count": 148,
     "metadata": {},
     "output_type": "execute_result"
    }
   ],
   "source": [
    "developing_countries_2000 = {'Sepsis':Sepsis_developing_2000}\n",
    "developing_countries_2015 = {'Sepsis':Sepsis_developing_2015}\n",
    "developing_d2 = pd.Series(developing_countries_2000)\n",
    "developing_d2 = pd.DataFrame(developing_d2)\n",
    "developing_d2.columns=['2000']\n",
    "developing_d22 = pd.Series(developing_countries_2015)\n",
    "developing_d22 = pd.DataFrame(developing_d22)\n",
    "developing_d22.columns = ['2015']\n",
    "resdg2 = pd.concat([developing_d2, developing_d22], axis=1, join_axes=[developing_d2.index])\n",
    "resdg2"
   ]
  },
  {
   "cell_type": "code",
   "execution_count": 149,
   "metadata": {
    "collapsed": false
   },
   "outputs": [
    {
     "data": {
      "text/html": [
       "<div>\n",
       "<table border=\"1\" class=\"dataframe\">\n",
       "  <thead>\n",
       "    <tr style=\"text-align: right;\">\n",
       "      <th></th>\n",
       "      <th>2000</th>\n",
       "      <th>2015</th>\n",
       "    </tr>\n",
       "  </thead>\n",
       "  <tbody>\n",
       "    <tr>\n",
       "      <th>Congenital</th>\n",
       "      <td>10.869841</td>\n",
       "      <td>15.06746</td>\n",
       "    </tr>\n",
       "  </tbody>\n",
       "</table>\n",
       "</div>"
      ],
      "text/plain": [
       "                 2000      2015\n",
       "Congenital  10.869841  15.06746"
      ]
     },
     "execution_count": 149,
     "metadata": {},
     "output_type": "execute_result"
    }
   ],
   "source": [
    "developing_countries_2000 = {'Congenital':Congenital_developing_2000}\n",
    "developing_countries_2015 = {'Congenital':Congenital_developing_2015}\n",
    "developing_d3 = pd.Series(developing_countries_2000)\n",
    "developing_d3 = pd.DataFrame(developing_d3)\n",
    "developing_d3.columns=['2000']\n",
    "developing_d33 = pd.Series(developing_countries_2015)\n",
    "developing_d33 = pd.DataFrame(developing_d33)\n",
    "developing_d33.columns = ['2015']\n",
    "resdg3 = pd.concat([developing_d3, developing_d33], axis=1, join_axes=[developing_d3.index])\n",
    "resdg3"
   ]
  },
  {
   "cell_type": "code",
   "execution_count": 150,
   "metadata": {
    "collapsed": false
   },
   "outputs": [
    {
     "data": {
      "text/html": [
       "<div>\n",
       "<table border=\"1\" class=\"dataframe\">\n",
       "  <thead>\n",
       "    <tr style=\"text-align: right;\">\n",
       "      <th></th>\n",
       "      <th>2000</th>\n",
       "      <th>2015</th>\n",
       "    </tr>\n",
       "  </thead>\n",
       "  <tbody>\n",
       "    <tr>\n",
       "      <th>Pneumonia</th>\n",
       "      <td>15.336508</td>\n",
       "      <td>13.174603</td>\n",
       "    </tr>\n",
       "  </tbody>\n",
       "</table>\n",
       "</div>"
      ],
      "text/plain": [
       "                2000       2015\n",
       "Pneumonia  15.336508  13.174603"
      ]
     },
     "execution_count": 150,
     "metadata": {},
     "output_type": "execute_result"
    }
   ],
   "source": [
    "developing_countries_2000 = {'Pneumonia':Pneumonia_developing_2000}\n",
    "developing_countries_2015 = {'Pneumonia':Pneumonia_developing_2015}\n",
    "developing_d4 = pd.Series(developing_countries_2000)\n",
    "developing_d4 = pd.DataFrame(developing_d4)\n",
    "developing_d4.columns=['2000']\n",
    "developing_d44 = pd.Series(developing_countries_2015)\n",
    "developing_d44 = pd.DataFrame(developing_d44)\n",
    "developing_d44.columns = ['2015']\n",
    "resdg4 = pd.concat([developing_d4, developing_d44], axis=1, join_axes=[developing_d4.index])\n",
    "resdg4"
   ]
  },
  {
   "cell_type": "code",
   "execution_count": 151,
   "metadata": {
    "collapsed": false
   },
   "outputs": [
    {
     "data": {
      "text/html": [
       "<div>\n",
       "<table border=\"1\" class=\"dataframe\">\n",
       "  <thead>\n",
       "    <tr style=\"text-align: right;\">\n",
       "      <th></th>\n",
       "      <th>2000</th>\n",
       "      <th>2015</th>\n",
       "    </tr>\n",
       "  </thead>\n",
       "  <tbody>\n",
       "    <tr>\n",
       "      <th>Injury</th>\n",
       "      <td>5.307937</td>\n",
       "      <td>6.892063</td>\n",
       "    </tr>\n",
       "  </tbody>\n",
       "</table>\n",
       "</div>"
      ],
      "text/plain": [
       "            2000      2015\n",
       "Injury  5.307937  6.892063"
      ]
     },
     "execution_count": 151,
     "metadata": {},
     "output_type": "execute_result"
    }
   ],
   "source": [
    "developing_countries_2000 = {'Injury':Injury_developing_2000}\n",
    "developing_countries_2015 = {'Injury':Injury_developing_2015}\n",
    "developing_d5 = pd.Series(developing_countries_2000)\n",
    "developing_d5 = pd.DataFrame(developing_d5)\n",
    "developing_d5.columns=['2000']\n",
    "developing_d55 = pd.Series(developing_countries_2015)\n",
    "developing_d55 = pd.DataFrame(developing_d55)\n",
    "developing_d55.columns = ['2015']\n",
    "resdg5 = pd.concat([developing_d5, developing_d55], axis=1, join_axes=[developing_d5.index])\n",
    "resdg5"
   ]
  },
  {
   "cell_type": "code",
   "execution_count": 152,
   "metadata": {
    "collapsed": false
   },
   "outputs": [
    {
     "data": {
      "text/html": [
       "<div>\n",
       "<table border=\"1\" class=\"dataframe\">\n",
       "  <thead>\n",
       "    <tr style=\"text-align: right;\">\n",
       "      <th></th>\n",
       "      <th>2000</th>\n",
       "      <th>2015</th>\n",
       "    </tr>\n",
       "  </thead>\n",
       "  <tbody>\n",
       "    <tr>\n",
       "      <th>Diarrhoea</th>\n",
       "      <td>9.390476</td>\n",
       "      <td>6.109524</td>\n",
       "    </tr>\n",
       "  </tbody>\n",
       "</table>\n",
       "</div>"
      ],
      "text/plain": [
       "               2000      2015\n",
       "Diarrhoea  9.390476  6.109524"
      ]
     },
     "execution_count": 152,
     "metadata": {},
     "output_type": "execute_result"
    }
   ],
   "source": [
    "developing_countries_2000 = {'Diarrhoea':Diarrhoea_developing_2000}\n",
    "developing_countries_2015 = {'Diarrhoea':Diarrhoea_developing_2015}\n",
    "developing_d6 = pd.Series(developing_countries_2000)\n",
    "developing_d6 = pd.DataFrame(developing_d6)\n",
    "developing_d6.columns=['2000']\n",
    "developing_d66 = pd.Series(developing_countries_2015)\n",
    "developing_d66 = pd.DataFrame(developing_d66)\n",
    "developing_d66.columns = ['2015']\n",
    "resdg6 = pd.concat([developing_d6, developing_d66], axis=1, join_axes=[developing_d6.index])\n",
    "resdg6"
   ]
  },
  {
   "cell_type": "code",
   "execution_count": 153,
   "metadata": {
    "collapsed": false
   },
   "outputs": [
    {
     "data": {
      "text/html": [
       "<div>\n",
       "<table border=\"1\" class=\"dataframe\">\n",
       "  <thead>\n",
       "    <tr style=\"text-align: right;\">\n",
       "      <th></th>\n",
       "      <th>2000</th>\n",
       "      <th>2015</th>\n",
       "    </tr>\n",
       "  </thead>\n",
       "  <tbody>\n",
       "    <tr>\n",
       "      <th>Meningitis</th>\n",
       "      <td>2.330952</td>\n",
       "      <td>1.547619</td>\n",
       "    </tr>\n",
       "  </tbody>\n",
       "</table>\n",
       "</div>"
      ],
      "text/plain": [
       "                2000      2015\n",
       "Meningitis  2.330952  1.547619"
      ]
     },
     "execution_count": 153,
     "metadata": {},
     "output_type": "execute_result"
    }
   ],
   "source": [
    "developing_countries_2000 = {'Meningitis':Meningitis_developing_2000}\n",
    "developing_countries_2015 = {'Meningitis':Meningitis_developing_2015}\n",
    "developing_d7 = pd.Series(developing_countries_2000)\n",
    "developing_d7 = pd.DataFrame(developing_d7)\n",
    "developing_d7.columns=['2000']\n",
    "developing_d77 = pd.Series(developing_countries_2015)\n",
    "developing_d77 = pd.DataFrame(developing_d77)\n",
    "developing_d77.columns = ['2015']\n",
    "resdg7 = pd.concat([developing_d7, developing_d77], axis=1, join_axes=[developing_d7.index])\n",
    "resdg7"
   ]
  },
  {
   "cell_type": "code",
   "execution_count": 154,
   "metadata": {
    "collapsed": false
   },
   "outputs": [
    {
     "data": {
      "text/html": [
       "<div>\n",
       "<table border=\"1\" class=\"dataframe\">\n",
       "  <thead>\n",
       "    <tr style=\"text-align: right;\">\n",
       "      <th></th>\n",
       "      <th>2000</th>\n",
       "      <th>2015</th>\n",
       "    </tr>\n",
       "  </thead>\n",
       "  <tbody>\n",
       "    <tr>\n",
       "      <th>preterm</th>\n",
       "      <td>17.414286</td>\n",
       "      <td>18.894444</td>\n",
       "    </tr>\n",
       "    <tr>\n",
       "      <th>Intrapartum</th>\n",
       "      <td>10.005556</td>\n",
       "      <td>10.961905</td>\n",
       "    </tr>\n",
       "    <tr>\n",
       "      <th>Sepsis</th>\n",
       "      <td>5.007937</td>\n",
       "      <td>6.166667</td>\n",
       "    </tr>\n",
       "    <tr>\n",
       "      <th>Congenital</th>\n",
       "      <td>10.869841</td>\n",
       "      <td>15.067460</td>\n",
       "    </tr>\n",
       "    <tr>\n",
       "      <th>Pneumonia</th>\n",
       "      <td>15.336508</td>\n",
       "      <td>13.174603</td>\n",
       "    </tr>\n",
       "    <tr>\n",
       "      <th>Injury</th>\n",
       "      <td>5.307937</td>\n",
       "      <td>6.892063</td>\n",
       "    </tr>\n",
       "    <tr>\n",
       "      <th>Diarrhoea</th>\n",
       "      <td>9.390476</td>\n",
       "      <td>6.109524</td>\n",
       "    </tr>\n",
       "    <tr>\n",
       "      <th>Meningitis</th>\n",
       "      <td>2.330952</td>\n",
       "      <td>1.547619</td>\n",
       "    </tr>\n",
       "  </tbody>\n",
       "</table>\n",
       "</div>"
      ],
      "text/plain": [
       "                  2000       2015\n",
       "preterm      17.414286  18.894444\n",
       "Intrapartum  10.005556  10.961905\n",
       "Sepsis        5.007937   6.166667\n",
       "Congenital   10.869841  15.067460\n",
       "Pneumonia    15.336508  13.174603\n",
       "Injury        5.307937   6.892063\n",
       "Diarrhoea     9.390476   6.109524\n",
       "Meningitis    2.330952   1.547619"
      ]
     },
     "execution_count": 154,
     "metadata": {},
     "output_type": "execute_result"
    }
   ],
   "source": [
    "frames2 = [resdg0,resdg1,resdg2,resdg3,resdg4,resdg5,resdg6,resdg7]\n",
    "final_frames2 = pd.concat(frames2)\n",
    "final_frames2\n"
   ]
  },
  {
   "cell_type": "code",
   "execution_count": 155,
   "metadata": {
    "collapsed": false
   },
   "outputs": [],
   "source": [
    "#get_ipython().magic('matplotlib nbagg')\n",
    "#developing2000 = list(final_frames2['2000'])\n",
    "#final_frames2_index = list(final_frames2.index)\n",
    "#colors = ['gold', 'yellowgreen', 'lightcoral', 'lightskyblue','sage', 'tan', 'plum', 'gainsboro']\n",
    "#explode = (0, 0, 0, 0, 0, 0, 0, 0)  \n",
    "#plt.pie(developing2000, explode=explode, labels=final_frames2_index, colors=colors,\n",
    "#        autopct='%1.1f%%', shadow=True, startangle=360)\n",
    "#plt.axis('equal')\n",
    "#plt.title(\"For developing region in the year 2000\", y=1.08)\n",
    "#plt.show()\n"
   ]
  },
  {
   "cell_type": "code",
   "execution_count": 156,
   "metadata": {
    "collapsed": false
   },
   "outputs": [],
   "source": [
    "#get_ipython().magic('matplotlib nbagg')\n",
    "#final_frames2_index = list(final_frames2.index)\n",
    "#developing2015 = list(final_frames2['2015'])\n",
    "#colors = ['gold', 'yellowgreen', 'lightcoral', 'lightskyblue','sage', 'tan', 'plum', 'gainsboro']\n",
    "#explode = (0.1, 0, 0.1, 0.1, 0, 0.1, 0, 0)  \n",
    "#plt.pie(developing2015, explode=explode, labels=final_frames2_index, colors=colors,\n",
    "#        autopct='%1.1f%%', shadow=True, startangle=360)\n",
    "#plt.axis('equal')\n",
    "#plt.title(\"For developing region in the year 2015\", y=1.08)\n",
    "#plt.show()"
   ]
  },
  {
   "cell_type": "markdown",
   "metadata": {
    "collapsed": true
   },
   "source": [
    "# ----------------New_born_first_month-------------------"
   ]
  },
  {
   "cell_type": "code",
   "execution_count": 157,
   "metadata": {
    "collapsed": false,
    "scrolled": true
   },
   "outputs": [
    {
     "data": {
      "text/plain": [
       "['ISO_Code',\n",
       " 'CountryName',\n",
       " 'Year',\n",
       " 'Pneumonia .1',\n",
       " 'Preterm ',\n",
       " 'Intrapartum ',\n",
       " 'Sepis ',\n",
       " 'Tetanus ',\n",
       " 'Congenital ',\n",
       " 'Diarrheoea ']"
      ]
     },
     "execution_count": 157,
     "metadata": {},
     "output_type": "execute_result"
    }
   ],
   "source": [
    "list(new_born_first_month)"
   ]
  },
  {
   "cell_type": "markdown",
   "metadata": {},
   "source": [
    "# Extracting top 30 countries (2015) "
   ]
  },
  {
   "cell_type": "markdown",
   "metadata": {},
   "source": [
    "# Preterm"
   ]
  },
  {
   "cell_type": "code",
   "execution_count": 158,
   "metadata": {
    "collapsed": false,
    "scrolled": true
   },
   "outputs": [],
   "source": [
    "new_born_first_month_Preterm = new_born_first_month[:194]\n",
    "new_born_first_month_Preterm = new_born_first_month_Preterm[['CountryName','Preterm ']]\n",
    "new_born_first_month_Preterm = new_born_first_month_Preterm.sort_values(by='Preterm ', ascending=False)\n",
    "new_born_first_month_Preterm = new_born_first_month_Preterm[:30].reset_index(drop=True)\n",
    "new_born_first_month_Preterm.to_csv('Preterm_top30.csv')\n",
    "#new_born_first_month_Preterm\n"
   ]
  },
  {
   "cell_type": "markdown",
   "metadata": {},
   "source": [
    "# Intrapartum"
   ]
  },
  {
   "cell_type": "code",
   "execution_count": 159,
   "metadata": {
    "collapsed": false,
    "scrolled": true
   },
   "outputs": [],
   "source": [
    "new_born_first_month_Intrapartum = new_born_first_month[:194]\n",
    "new_born_first_month_Intrapartum = new_born_first_month_Intrapartum[['CountryName','Intrapartum ']]\n",
    "new_born_first_month_Intrapartum = new_born_first_month_Intrapartum.sort_values(by='Intrapartum ', ascending=False)\n",
    "new_born_first_month_Intrapartum = new_born_first_month_Intrapartum[:30].reset_index(drop=True)\n",
    "new_born_first_month_Intrapartum.to_csv('Intrapartum_top30.csv')\n",
    "#new_born_first_month_Intrapartum\n"
   ]
  },
  {
   "cell_type": "markdown",
   "metadata": {},
   "source": [
    "# Sepsis"
   ]
  },
  {
   "cell_type": "code",
   "execution_count": 160,
   "metadata": {
    "collapsed": false
   },
   "outputs": [],
   "source": [
    "new_born_first_month_Sepsis = new_born_first_month[:194]\n",
    "new_born_first_month_Sepsis = new_born_first_month_Sepsis[['CountryName','Sepis ']]\n",
    "new_born_first_month_Sepsis = new_born_first_month_Sepsis.sort_values(by='Sepis ', ascending=False)\n",
    "new_born_first_month_Sepsis = new_born_first_month_Sepsis[:30].reset_index(drop=True)\n",
    "new_born_first_month_Sepsis.to_csv('Sepsis_top30.csv')\n",
    "#new_born_first_month_Sepsis"
   ]
  },
  {
   "cell_type": "markdown",
   "metadata": {},
   "source": [
    "# Congenital"
   ]
  },
  {
   "cell_type": "code",
   "execution_count": 161,
   "metadata": {
    "collapsed": false,
    "scrolled": true
   },
   "outputs": [],
   "source": [
    "new_born_first_month_Congenital = new_born_first_month[:194]\n",
    "new_born_first_month_Congenital = new_born_first_month_Congenital[['CountryName','Congenital ']]\n",
    "new_born_first_month_Congenital = new_born_first_month_Congenital.sort_values(by='Congenital ', ascending=False)\n",
    "new_born_first_month_Congenital = new_born_first_month_Congenital[:30].reset_index(drop=True)\n",
    "new_born_first_month_Congenital.to_csv('Congenital_top30.csv')\n",
    "#new_born_first_month_Congenital"
   ]
  },
  {
   "cell_type": "markdown",
   "metadata": {
    "collapsed": false
   },
   "source": [
    "# Analysis over Asia country"
   ]
  },
  {
   "cell_type": "code",
   "execution_count": 162,
   "metadata": {
    "collapsed": false,
    "scrolled": true
   },
   "outputs": [],
   "source": [
    "asian_countries = pd.read_csv('Asia_Country_list.csv')\n",
    "#asian_countries"
   ]
  },
  {
   "cell_type": "code",
   "execution_count": 163,
   "metadata": {
    "collapsed": false
   },
   "outputs": [],
   "source": [
    "asian_countries['Country'] = asian_countries['Countries  ']\n",
    "asia = pd.DataFrame(asian_countries['Country'])\n",
    "#asia"
   ]
  },
  {
   "cell_type": "code",
   "execution_count": 164,
   "metadata": {
    "collapsed": false
   },
   "outputs": [],
   "source": [
    "remove_spaces = [x.strip().replace(' ', ' ') for x in asia.Country]\n",
    "remove_spaces = pd.DataFrame(remove_spaces)\n",
    "formated = remove_spaces.rename(columns={0:\"Country\"})\n",
    "column_names = list(formated.Country)"
   ]
  },
  {
   "cell_type": "code",
   "execution_count": 165,
   "metadata": {
    "collapsed": false,
    "scrolled": true
   },
   "outputs": [
    {
     "data": {
      "text/plain": [
       "Preterm        21.280952\n",
       "Intrapartum    10.030952\n",
       "Sepsis          5.233333\n",
       "Congenital     20.402381\n",
       "Pneumonia      11.054762\n",
       "dtype: float64"
      ]
     },
     "execution_count": 165,
     "metadata": {},
     "output_type": "execute_result"
    }
   ],
   "source": [
    "major_diseases = under_five[['ISO_Code','CountryName','Preterm','Intrapartum','Sepsis','Congenital','Pneumonia']][:194]\n",
    "major_diseases1 = major_diseases.loc[major_diseases['CountryName'].isin(column_names)]\n",
    "major_disease = major_diseases1.reset_index(drop=True)\n",
    "#major_disease.to_csv('List_Asian_Countries_With_Cause_For_Deaths.csv')\n",
    "major_disease.mean()"
   ]
  },
  {
   "cell_type": "code",
   "execution_count": 166,
   "metadata": {
    "collapsed": false
   },
   "outputs": [],
   "source": [
    "asian_countries_preterm = major_disease[['CountryName','ISO_Code','Preterm']]\n",
    "asian_countries_preterm.to_csv('asia_preterm.csv')"
   ]
  },
  {
   "cell_type": "markdown",
   "metadata": {
    "collapsed": true
   },
   "source": [
    "# Analysis over Europe country"
   ]
  },
  {
   "cell_type": "code",
   "execution_count": 167,
   "metadata": {
    "collapsed": false
   },
   "outputs": [],
   "source": [
    "european_countries = pd.read_csv('European_country_list.csv')\n",
    "european_countries['Country'] = european_countries['Country ']\n",
    "european_countries = pd.DataFrame(european_countries['Country'])\n",
    "#european_countries\n",
    "#column_names1 = list(european_countries.Country)\n"
   ]
  },
  {
   "cell_type": "code",
   "execution_count": 168,
   "metadata": {
    "collapsed": true
   },
   "outputs": [],
   "source": [
    "remove_spaces1 = [x.strip().replace(' ', ' ') for x in european_countries.Country]\n",
    "remove_spaces1 = pd.DataFrame(remove_spaces1)\n",
    "formated1 = remove_spaces1.rename(columns={0:\"Country\"})\n",
    "column_names1 = list(formated1.Country)"
   ]
  },
  {
   "cell_type": "code",
   "execution_count": 169,
   "metadata": {
    "collapsed": false
   },
   "outputs": [
    {
     "data": {
      "text/plain": [
       "Preterm        25.26875\n",
       "Intrapartum     8.52500\n",
       "Sepsis          3.28750\n",
       "Congenital     29.75625\n",
       "Pneumonia       5.00625\n",
       "dtype: float64"
      ]
     },
     "execution_count": 169,
     "metadata": {},
     "output_type": "execute_result"
    }
   ],
   "source": [
    "europe_major_diseases = under_five[['ISO_Code','CountryName','Preterm','Intrapartum','Sepsis','Congenital','Pneumonia']][:194]\n",
    "european_major_diseases1 = europe_major_diseases.loc[europe_major_diseases['CountryName'].isin(column_names1)]\n",
    "european_major_disease = european_major_diseases1.reset_index(drop=True)\n",
    "european_major_disease.mean()"
   ]
  },
  {
   "cell_type": "code",
   "execution_count": 170,
   "metadata": {
    "collapsed": false
   },
   "outputs": [],
   "source": [
    "european_countries_congenital = european_major_disease[['CountryName','ISO_Code','Congenital']]\n",
    "european_countries_congenital.to_csv('europe_congenital.csv')"
   ]
  },
  {
   "cell_type": "markdown",
   "metadata": {},
   "source": [
    "# Analysis over African Country"
   ]
  },
  {
   "cell_type": "code",
   "execution_count": 171,
   "metadata": {
    "collapsed": false
   },
   "outputs": [],
   "source": [
    "african_countries = pd.read_csv('african_country_list.csv')\n",
    "african_countries['Country'] = african_countries['Country    ']\n",
    "african_countries = pd.DataFrame(african_countries['Country'])\n",
    "#africanan_countries"
   ]
  },
  {
   "cell_type": "code",
   "execution_count": 172,
   "metadata": {
    "collapsed": true
   },
   "outputs": [],
   "source": [
    "remove_spaces2 = [x.strip().replace(' ', ' ') for x in african_countries.Country]\n",
    "remove_spaces2 = pd.DataFrame(remove_spaces2)\n",
    "formated2 = remove_spaces2.rename(columns={0:\"Country\"})\n",
    "column_names2 = list(formated2.Country)"
   ]
  },
  {
   "cell_type": "code",
   "execution_count": 173,
   "metadata": {
    "collapsed": false,
    "scrolled": true
   },
   "outputs": [
    {
     "data": {
      "text/plain": [
       "Preterm        14.716\n",
       "Intrapartum    11.420\n",
       "Sepsis          6.508\n",
       "Congenital      9.010\n",
       "Pneumonia      15.140\n",
       "dtype: float64"
      ]
     },
     "execution_count": 173,
     "metadata": {},
     "output_type": "execute_result"
    }
   ],
   "source": [
    "africa_major_diseases = under_five[['ISO_Code','CountryName','Preterm','Intrapartum','Sepsis','Congenital','Pneumonia']][:194]\n",
    "africa_major_diseases1 = africa_major_diseases.loc[africa_major_diseases['CountryName'].isin(column_names2)]\n",
    "africa_major_disease = africa_major_diseases1.reset_index(drop=True)\n",
    "africa_major_disease.mean()"
   ]
  },
  {
   "cell_type": "code",
   "execution_count": 174,
   "metadata": {
    "collapsed": true
   },
   "outputs": [],
   "source": [
    "african_countries_congenital = africa_major_disease[['CountryName','ISO_Code','Pneumonia']]\n",
    "african_countries_congenital.to_csv('africa_pneumonia.csv')"
   ]
  },
  {
   "cell_type": "markdown",
   "metadata": {
    "collapsed": true
   },
   "source": [
    "# Analysis over north America country"
   ]
  },
  {
   "cell_type": "code",
   "execution_count": 175,
   "metadata": {
    "collapsed": false
   },
   "outputs": [],
   "source": [
    "north_america_countries = pd.read_csv('north_america_country_list.csv')\n",
    "column_names3 = list(north_america_countries.Country)"
   ]
  },
  {
   "cell_type": "code",
   "execution_count": 176,
   "metadata": {
    "collapsed": false
   },
   "outputs": [
    {
     "data": {
      "text/plain": [
       "Preterm        23.382609\n",
       "Intrapartum     9.486957\n",
       "Sepsis          5.352174\n",
       "Congenital     22.313043\n",
       "Pneumonia       8.217391\n",
       "dtype: float64"
      ]
     },
     "execution_count": 176,
     "metadata": {},
     "output_type": "execute_result"
    }
   ],
   "source": [
    "north_america_major_diseases = under_five[['ISO_Code','CountryName','Preterm','Intrapartum','Sepsis','Congenital','Pneumonia']][:194]\n",
    "north_america_major_diseases1 = north_america_major_diseases.loc[north_america_major_diseases['CountryName'].isin(column_names3)]\n",
    "north_america_major_disease = north_america_major_diseases1.reset_index(drop=True)\n",
    "north_america_major_disease.mean()"
   ]
  },
  {
   "cell_type": "code",
   "execution_count": 177,
   "metadata": {
    "collapsed": true
   },
   "outputs": [],
   "source": [
    "north_america_countries_preterm = north_america_major_disease[['CountryName','ISO_Code','Preterm']]\n",
    "north_america_countries_preterm.to_csv('north_america_preterm.csv')"
   ]
  },
  {
   "cell_type": "markdown",
   "metadata": {},
   "source": [
    "# Analysis over south America country"
   ]
  },
  {
   "cell_type": "code",
   "execution_count": 178,
   "metadata": {
    "collapsed": true
   },
   "outputs": [],
   "source": [
    "south_america_countries = pd.read_csv('south_america_country_list.csv')\n",
    "column_names4 = list(south_america_countries.Country)"
   ]
  },
  {
   "cell_type": "code",
   "execution_count": 179,
   "metadata": {
    "collapsed": false
   },
   "outputs": [
    {
     "data": {
      "text/plain": [
       "Preterm        21.961538\n",
       "Intrapartum     8.407692\n",
       "Sepsis          6.384615\n",
       "Congenital     23.223077\n",
       "Pneumonia       9.000000\n",
       "dtype: float64"
      ]
     },
     "execution_count": 179,
     "metadata": {},
     "output_type": "execute_result"
    }
   ],
   "source": [
    "south_america_major_diseases = under_five[['ISO_Code','CountryName','Preterm','Intrapartum','Sepsis','Congenital','Pneumonia']][:194]\n",
    "south_america_major_diseases1 = south_america_major_diseases.loc[south_america_major_diseases['CountryName'].isin(column_names4)]\n",
    "south_america_major_disease = south_america_major_diseases1.reset_index(drop=True)\n",
    "south_america_major_disease.mean()"
   ]
  },
  {
   "cell_type": "code",
   "execution_count": 180,
   "metadata": {
    "collapsed": true
   },
   "outputs": [],
   "source": [
    "south_america_countries_congenital = south_america_major_disease[['CountryName','ISO_Code','Congenital']]\n",
    "south_america_countries_congenital.to_csv('south_america_congenital.csv')"
   ]
  },
  {
   "cell_type": "code",
   "execution_count": null,
   "metadata": {
    "collapsed": true
   },
   "outputs": [],
   "source": []
  },
  {
   "cell_type": "code",
   "execution_count": null,
   "metadata": {
    "collapsed": true
   },
   "outputs": [],
   "source": []
  },
  {
   "cell_type": "code",
   "execution_count": null,
   "metadata": {
    "collapsed": true
   },
   "outputs": [],
   "source": []
  },
  {
   "cell_type": "code",
   "execution_count": null,
   "metadata": {
    "collapsed": true
   },
   "outputs": [],
   "source": []
  },
  {
   "cell_type": "code",
   "execution_count": null,
   "metadata": {
    "collapsed": true
   },
   "outputs": [],
   "source": []
  }
 ],
 "metadata": {
  "anaconda-cloud": {},
  "kernelspec": {
   "display_name": "IPython (Python 3)",
   "language": "python",
   "name": "python3"
  },
  "language_info": {
   "codemirror_mode": {
    "name": "ipython",
    "version": 3
   },
   "file_extension": ".py",
   "mimetype": "text/x-python",
   "name": "python",
   "nbconvert_exporter": "python",
   "pygments_lexer": "ipython3",
   "version": "3.5.2"
  }
 },
 "nbformat": 4,
 "nbformat_minor": 0
}
